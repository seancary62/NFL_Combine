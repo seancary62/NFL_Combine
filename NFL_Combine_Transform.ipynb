{
 "cells": [
  {
   "cell_type": "code",
   "execution_count": 9,
   "metadata": {},
   "outputs": [],
   "source": [
    "import numpy as np # linear algebra\n",
    "import pandas as pd # data processing, CSV file I/O (e.g. pd.read_csv)\n",
    "\n",
    "#Import Plotly\n",
    "import plotly.express as px\n",
    "import plotly.graph_objs as go\n",
    "\n",
    "#import sklearn\n",
    "from sklearn import preprocessing"
   ]
  },
  {
   "cell_type": "code",
   "execution_count": 15,
   "metadata": {},
   "outputs": [
    {
     "name": "stdout",
     "output_type": "stream",
     "text": [
      "<class 'pandas.core.frame.DataFrame'>\n",
      "RangeIndex: 13229 entries, 0 to 13228\n",
      "Data columns (total 13 columns):\n",
      " #   Column           Non-Null Count  Dtype  \n",
      "---  ------           --------------  -----  \n",
      " 0   Year             13229 non-null  int64  \n",
      " 1   Name             13229 non-null  object \n",
      " 2   College          13224 non-null  object \n",
      " 3   POS              13229 non-null  object \n",
      " 4   Height (in)      13229 non-null  float64\n",
      " 5   Weight (lbs)     13229 non-null  float64\n",
      " 6   BMI              13229 non-null  float64\n",
      " 7   40 Yard          11886 non-null  float64\n",
      " 8   Bench Press      9821 non-null   float64\n",
      " 9   Vert Leap (in)   11434 non-null  float64\n",
      " 10  Broad Jump (in)  11327 non-null  float64\n",
      " 11  Shuttle          10590 non-null  float64\n",
      " 12  3Cone            7935 non-null   float64\n",
      "dtypes: float64(9), int64(1), object(3)\n",
      "memory usage: 1.3+ MB\n"
     ]
    }
   ],
   "source": [
    "combine_df = pd.read_csv('resources/combine_df.csv',index_col=None)\n",
    "\n",
    "combine_df = combine_df.loc[(combine_df['Name'] != 'Trindon Holliday')]"
   ]
  },
  {
   "cell_type": "code",
   "execution_count": 16,
   "metadata": {},
   "outputs": [
    {
     "data": {
      "text/html": [
       "<div>\n",
       "<style scoped>\n",
       "    .dataframe tbody tr th:only-of-type {\n",
       "        vertical-align: middle;\n",
       "    }\n",
       "\n",
       "    .dataframe tbody tr th {\n",
       "        vertical-align: top;\n",
       "    }\n",
       "\n",
       "    .dataframe thead th {\n",
       "        text-align: right;\n",
       "    }\n",
       "</style>\n",
       "<table border=\"1\" class=\"dataframe\">\n",
       "  <thead>\n",
       "    <tr style=\"text-align: right;\">\n",
       "      <th></th>\n",
       "      <th>Avg. Height (in)</th>\n",
       "      <th>Avg. Weightfdfdffd (lbs)</th>\n",
       "      <th>Avg. BMI</th>\n",
       "      <th>Avg. 40 Yard</th>\n",
       "      <th>Avg. Vert Leap (in)</th>\n",
       "      <th>Avg. Broad Jump (in)</th>\n",
       "      <th>Shuttle</th>\n",
       "      <th>3Cone</th>\n",
       "      <th>Bench Press</th>\n",
       "    </tr>\n",
       "  </thead>\n",
       "  <tbody>\n",
       "    <tr>\n",
       "      <th>0</th>\n",
       "      <td>73.728939</td>\n",
       "      <td>240.084058</td>\n",
       "      <td>30.864228</td>\n",
       "      <td>4.816273</td>\n",
       "      <td>32.234546</td>\n",
       "      <td>113.100733</td>\n",
       "      <td>4.417585</td>\n",
       "      <td>7.311442</td>\n",
       "      <td>19.793809</td>\n",
       "    </tr>\n",
       "  </tbody>\n",
       "</table>\n",
       "</div>"
      ],
      "text/plain": [
       "   Avg. Height (in)  Avg. Weightfdfdffd (lbs)   Avg. BMI  Avg. 40 Yard  \\\n",
       "0         73.728939                240.084058  30.864228      4.816273   \n",
       "\n",
       "   Avg. Vert Leap (in)  Avg. Broad Jump (in)   Shuttle     3Cone  Bench Press  \n",
       "0            32.234546            113.100733  4.417585  7.311442    19.793809  "
      ]
     },
     "execution_count": 16,
     "metadata": {},
     "output_type": "execute_result"
    }
   ],
   "source": [
    "#Get the averages for all stats and make it presentable in a summarized DF.\n",
    "combine_df_avg = pd.DataFrame(\n",
    "    [{\"Avg. Height (in)\":combine_df['Height (in)'].mean(),\n",
    "      \"Avg. Weightfdfdffd (lbs)\":combine_df['Weight (lbs)'].mean(),\n",
    "      \"Avg. BMI\":combine_df['BMI'].mean(),\n",
    "      \"Avg. 40 Yard\":combine_df['40 Yard'].mean(), \n",
    "      \"Avg. Vert Leap (in)\":combine_df['Vert Leap (in)'].mean(),\n",
    "      \"Avg. Broad Jump (in)\":combine_df['Broad Jump (in)'].mean(),\n",
    "      \"Shuttle\":combine_df['Shuttle'].mean(),\n",
    "      \"3Cone\":combine_df['3Cone'].mean(),\n",
    "      \"Bench Press\":combine_df['Bench Press'].mean(),\n",
    "     }])\n",
    "\n",
    "\n",
    "combine_df_avg"
   ]
  },
  {
   "cell_type": "code",
   "execution_count": 17,
   "metadata": {},
   "outputs": [
    {
     "data": {
      "text/html": [
       "<div>\n",
       "<style scoped>\n",
       "    .dataframe tbody tr th:only-of-type {\n",
       "        vertical-align: middle;\n",
       "    }\n",
       "\n",
       "    .dataframe tbody tr th {\n",
       "        vertical-align: top;\n",
       "    }\n",
       "\n",
       "    .dataframe thead th {\n",
       "        text-align: right;\n",
       "    }\n",
       "</style>\n",
       "<table border=\"1\" class=\"dataframe\">\n",
       "  <thead>\n",
       "    <tr style=\"text-align: right;\">\n",
       "      <th></th>\n",
       "      <th>Max Height (in)</th>\n",
       "      <th>Max Weight (lbs)</th>\n",
       "      <th>Max BMI</th>\n",
       "      <th>Min 40 Yard</th>\n",
       "      <th>Max Vert Leap (in)</th>\n",
       "      <th>Max Broad Jump (in)</th>\n",
       "      <th>Min Shuttle</th>\n",
       "      <th>Min 3Cone</th>\n",
       "      <th>Max Bench Press</th>\n",
       "    </tr>\n",
       "  </thead>\n",
       "  <tbody>\n",
       "    <tr>\n",
       "      <th>0</th>\n",
       "      <td>82.4</td>\n",
       "      <td>387.0</td>\n",
       "      <td>47.745032</td>\n",
       "      <td>4.21</td>\n",
       "      <td>46.5</td>\n",
       "      <td>147.0</td>\n",
       "      <td>3.73</td>\n",
       "      <td>6.27</td>\n",
       "      <td>74.0</td>\n",
       "    </tr>\n",
       "  </tbody>\n",
       "</table>\n",
       "</div>"
      ],
      "text/plain": [
       "   Max Height (in)  Max Weight (lbs)    Max BMI  Min 40 Yard  \\\n",
       "0             82.4             387.0  47.745032         4.21   \n",
       "\n",
       "   Max Vert Leap (in)  Max Broad Jump (in)  Min Shuttle  Min 3Cone  \\\n",
       "0                46.5                147.0         3.73       6.27   \n",
       "\n",
       "   Max Bench Press  \n",
       "0             74.0  "
      ]
     },
     "execution_count": 17,
     "metadata": {},
     "output_type": "execute_result"
    }
   ],
   "source": [
    "# Get records for all combine data, \n",
    "\n",
    "combine_df_overall_best = pd.DataFrame(\n",
    "    [{\"Max Height (in)\":combine_df['Height (in)'].max(),\n",
    "      \"Max Weight (lbs)\":combine_df['Weight (lbs)'].max(),\n",
    "      \"Max BMI\":combine_df[\"BMI\"].max(),\n",
    "      \"Min 40 Yard\":combine_df['40 Yard'].min(), \n",
    "      \"Max Vert Leap (in)\":combine_df['Vert Leap (in)'].max(),\n",
    "      \"Max Broad Jump (in)\":combine_df['Broad Jump (in)'].max(),\n",
    "      \"Min Shuttle\":combine_df['Shuttle'].min(),\n",
    "      \"Min 3Cone\":combine_df['3Cone'].min(),\n",
    "      \"Max Bench Press\":combine_df['Bench Press'].max(),\n",
    "     }])\n",
    "\n",
    "combine_df_overall_best"
   ]
  },
  {
   "cell_type": "code",
   "execution_count": null,
   "metadata": {},
   "outputs": [],
   "source": []
  }
 ],
 "metadata": {
  "interpreter": {
   "hash": "668e7592863c8ab91b3801da115a35e53b248dec151090f697f389b7f1a11f69"
  },
  "kernelspec": {
   "display_name": "Python 3.7.10 ('PythonData')",
   "language": "python",
   "name": "python3"
  },
  "language_info": {
   "codemirror_mode": {
    "name": "ipython",
    "version": 3
   },
   "file_extension": ".py",
   "mimetype": "text/x-python",
   "name": "python",
   "nbconvert_exporter": "python",
   "pygments_lexer": "ipython3",
   "version": "3.7.10"
  },
  "orig_nbformat": 4
 },
 "nbformat": 4,
 "nbformat_minor": 2
}
