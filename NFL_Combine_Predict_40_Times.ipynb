{
 "cells": [
  {
   "cell_type": "markdown",
   "metadata": {},
   "source": [
    "# Predict 40 Yard Dash Times with our Model\n",
    "\n",
    "In a previous notebook we tested several models and saved the one that served our purposes. In this notebook we'll create the dataset and use our model to predict 40 yard dash times."
   ]
  },
  {
   "cell_type": "code",
   "execution_count": 94,
   "metadata": {},
   "outputs": [],
   "source": [
    "# Import important standard libraries\n",
    "import pandas as pd\n",
    "import numpy as np\n",
    "\n",
    "# import itertools\n",
    "import itertools\n",
    "from datetime import datetime"
   ]
  },
  {
   "cell_type": "code",
   "execution_count": 95,
   "metadata": {},
   "outputs": [
    {
     "data": {
      "text/plain": [
       "Index(['Year', 'Name', 'College', 'POS', 'Height (in)', 'Weight (lbs)', 'BMI',\n",
       "       '40 Yard', 'Bench Press', 'Vert Leap (in)', 'Broad Jump (in)',\n",
       "       'Shuttle', '3Cone'],\n",
       "      dtype='object')"
      ]
     },
     "execution_count": 95,
     "metadata": {},
     "output_type": "execute_result"
    }
   ],
   "source": [
    "# Read original data file\n",
    "combine_raw_df  = pd.read_csv('resources/combine_df.csv').dropna(subset=['Height (in)', 'Weight (lbs)','Broad Jump (in)'])\n",
    "\n",
    "combine_raw_df.columns"
   ]
  },
  {
   "cell_type": "code",
   "execution_count": 96,
   "metadata": {},
   "outputs": [
    {
     "data": {
      "text/html": [
       "<div>\n",
       "<style scoped>\n",
       "    .dataframe tbody tr th:only-of-type {\n",
       "        vertical-align: middle;\n",
       "    }\n",
       "\n",
       "    .dataframe tbody tr th {\n",
       "        vertical-align: top;\n",
       "    }\n",
       "\n",
       "    .dataframe thead th {\n",
       "        text-align: right;\n",
       "    }\n",
       "</style>\n",
       "<table border=\"1\" class=\"dataframe\">\n",
       "  <thead>\n",
       "    <tr style=\"text-align: right;\">\n",
       "      <th></th>\n",
       "      <th>Year</th>\n",
       "      <th>Height (in)</th>\n",
       "      <th>Weight (lbs)</th>\n",
       "      <th>Broad Jump (in)</th>\n",
       "    </tr>\n",
       "  </thead>\n",
       "  <tbody>\n",
       "    <tr>\n",
       "      <th>0</th>\n",
       "      <td>2024</td>\n",
       "      <td>58</td>\n",
       "      <td>136</td>\n",
       "      <td>6</td>\n",
       "    </tr>\n",
       "    <tr>\n",
       "      <th>1</th>\n",
       "      <td>2024</td>\n",
       "      <td>58</td>\n",
       "      <td>136</td>\n",
       "      <td>7</td>\n",
       "    </tr>\n",
       "    <tr>\n",
       "      <th>2</th>\n",
       "      <td>2024</td>\n",
       "      <td>58</td>\n",
       "      <td>136</td>\n",
       "      <td>8</td>\n",
       "    </tr>\n",
       "    <tr>\n",
       "      <th>3</th>\n",
       "      <td>2024</td>\n",
       "      <td>58</td>\n",
       "      <td>136</td>\n",
       "      <td>9</td>\n",
       "    </tr>\n",
       "    <tr>\n",
       "      <th>4</th>\n",
       "      <td>2024</td>\n",
       "      <td>58</td>\n",
       "      <td>136</td>\n",
       "      <td>10</td>\n",
       "    </tr>\n",
       "  </tbody>\n",
       "</table>\n",
       "</div>"
      ],
      "text/plain": [
       "   Year  Height (in)  Weight (lbs)  Broad Jump (in)\n",
       "0  2024           58           136                6\n",
       "1  2024           58           136                7\n",
       "2  2024           58           136                8\n",
       "3  2024           58           136                9\n",
       "4  2024           58           136               10"
      ]
     },
     "execution_count": 96,
     "metadata": {},
     "output_type": "execute_result"
    }
   ],
   "source": [
    "# Create lists of values that will be our input data.\n",
    "# use the min and max values from the orignal data as the range.\n",
    "height = [i for i in range(int(combine_raw_df['Height (in)'].min()*(0.95)),\n",
    "                               int(combine_raw_df['Height (in)'].astype('int').max()*(1.05)),1)]\n",
    "weight = [i for i in range(int(combine_raw_df['Weight (lbs)'].min()*(0.95)),\n",
    "                               int(combine_raw_df['Weight (lbs)'].astype('int').max()*(1.05)),1)]\n",
    "broad_jump = [i for i in range(int(combine_raw_df['Broad Jump (in)'].min()*(0.95)),\n",
    "                               int(combine_raw_df['Broad Jump (in)'].astype('int').max()*(1.05)),1)]\n",
    "\n",
    "# Combine the values into all posiblle combinations\n",
    "\n",
    "combo_list = list(itertools.product(height,weight,broad_jump))\n",
    "\n",
    "predictions_df = pd.DataFrame(combo_list, columns=['Height (in)', 'Weight (lbs)','Broad Jump (in)'])\n",
    "predictions_df.insert(0,'Year',datetime.now().year)\n",
    "\n",
    "# Print the dataframe\n",
    "predictions_df.head()"
   ]
  },
  {
   "cell_type": "code",
   "execution_count": 97,
   "metadata": {},
   "outputs": [
    {
     "data": {
      "text/plain": [
       "(1118880, 4)"
      ]
     },
     "execution_count": 97,
     "metadata": {},
     "output_type": "execute_result"
    }
   ],
   "source": [
    "predictions_df.shape"
   ]
  },
  {
   "cell_type": "code",
   "execution_count": 98,
   "metadata": {},
   "outputs": [],
   "source": [
    "# Import pickle\n",
    "import pickle\n",
    "\n",
    "# Import our model from the other Regression ML notebook\n",
    "loaded_model = pickle.load(open('combine_score_predictive_model.pkl', 'rb'))\n"
   ]
  },
  {
   "cell_type": "code",
   "execution_count": 99,
   "metadata": {},
   "outputs": [
    {
     "data": {
      "text/plain": [
       "array([4.75842568, 4.75842568, 4.75842568, ..., 5.11703416, 5.11703416,\n",
       "       5.11703416])"
      ]
     },
     "execution_count": 99,
     "metadata": {},
     "output_type": "execute_result"
    }
   ],
   "source": [
    "predictions = loaded_model.predict(predictions_df)\n",
    "\n",
    "predictions"
   ]
  },
  {
   "cell_type": "code",
   "execution_count": 100,
   "metadata": {},
   "outputs": [
    {
     "name": "stdout",
     "output_type": "stream",
     "text": [
      "[4.51482389 4.51482389 4.51482389 ... 4.83312821 4.83312821 4.83312821] [4.75842568 4.75842568 4.75842568 ... 5.11703416 5.11703416 5.11703416] [5.124825 5.124825 5.124825 ... 5.2833   5.2833   5.2833  ]\n"
     ]
    }
   ],
   "source": [
    "# Get predictions from each tree\n",
    "predictions_per_tree = np.array([tree.predict(predictions_df) for tree in loaded_model.estimators_])\n",
    "\n",
    "# Calculate prediction mean\n",
    "mean_prediction = np.mean(predictions_per_tree, axis=0)\n",
    "\n",
    "# Calculate prediction intervals (e.g., 90% confidence)\n",
    "lower_bound = np.percentile(predictions_per_tree, 5, axis=0)\n",
    "upper_bound = np.percentile(predictions_per_tree, 95, axis=0)\n",
    "\n",
    "# Display bounds\n",
    "print(lower_bound, mean_prediction, upper_bound)"
   ]
  },
  {
   "cell_type": "code",
   "execution_count": 101,
   "metadata": {},
   "outputs": [
    {
     "data": {
      "text/html": [
       "<div>\n",
       "<style scoped>\n",
       "    .dataframe tbody tr th:only-of-type {\n",
       "        vertical-align: middle;\n",
       "    }\n",
       "\n",
       "    .dataframe tbody tr th {\n",
       "        vertical-align: top;\n",
       "    }\n",
       "\n",
       "    .dataframe thead th {\n",
       "        text-align: right;\n",
       "    }\n",
       "</style>\n",
       "<table border=\"1\" class=\"dataframe\">\n",
       "  <thead>\n",
       "    <tr style=\"text-align: right;\">\n",
       "      <th></th>\n",
       "      <th>Year</th>\n",
       "      <th>Height (in)</th>\n",
       "      <th>Weight (lbs)</th>\n",
       "      <th>Broad Jump (in)</th>\n",
       "      <th>Predictions</th>\n",
       "      <th>Lower Bound</th>\n",
       "      <th>Upper Bound</th>\n",
       "    </tr>\n",
       "  </thead>\n",
       "  <tbody>\n",
       "    <tr>\n",
       "      <th>62936</th>\n",
       "      <td>2024</td>\n",
       "      <td>59</td>\n",
       "      <td>291</td>\n",
       "      <td>42</td>\n",
       "      <td>5.279862</td>\n",
       "      <td>5.094396</td>\n",
       "      <td>5.426034</td>\n",
       "    </tr>\n",
       "    <tr>\n",
       "      <th>630241</th>\n",
       "      <td>2024</td>\n",
       "      <td>73</td>\n",
       "      <td>344</td>\n",
       "      <td>63</td>\n",
       "      <td>5.347326</td>\n",
       "      <td>5.181386</td>\n",
       "      <td>5.489463</td>\n",
       "    </tr>\n",
       "    <tr>\n",
       "      <th>446677</th>\n",
       "      <td>2024</td>\n",
       "      <td>69</td>\n",
       "      <td>184</td>\n",
       "      <td>19</td>\n",
       "      <td>4.764316</td>\n",
       "      <td>4.516971</td>\n",
       "      <td>5.124825</td>\n",
       "    </tr>\n",
       "    <tr>\n",
       "      <th>91740</th>\n",
       "      <td>2024</td>\n",
       "      <td>60</td>\n",
       "      <td>215</td>\n",
       "      <td>134</td>\n",
       "      <td>4.502751</td>\n",
       "      <td>4.422673</td>\n",
       "      <td>4.592737</td>\n",
       "    </tr>\n",
       "    <tr>\n",
       "      <th>544866</th>\n",
       "      <td>2024</td>\n",
       "      <td>71</td>\n",
       "      <td>307</td>\n",
       "      <td>84</td>\n",
       "      <td>5.306885</td>\n",
       "      <td>5.139555</td>\n",
       "      <td>5.424245</td>\n",
       "    </tr>\n",
       "  </tbody>\n",
       "</table>\n",
       "</div>"
      ],
      "text/plain": [
       "        Year  Height (in)  Weight (lbs)  Broad Jump (in)  Predictions  \\\n",
       "62936   2024           59           291               42     5.279862   \n",
       "630241  2024           73           344               63     5.347326   \n",
       "446677  2024           69           184               19     4.764316   \n",
       "91740   2024           60           215              134     4.502751   \n",
       "544866  2024           71           307               84     5.306885   \n",
       "\n",
       "        Lower Bound  Upper Bound  \n",
       "62936      5.094396     5.426034  \n",
       "630241     5.181386     5.489463  \n",
       "446677     4.516971     5.124825  \n",
       "91740      4.422673     4.592737  \n",
       "544866     5.139555     5.424245  "
      ]
     },
     "execution_count": 101,
     "metadata": {},
     "output_type": "execute_result"
    }
   ],
   "source": [
    "predictions_df['Predictions'] = mean_prediction\n",
    "predictions_df['Lower Bound'] = lower_bound\n",
    "predictions_df['Upper Bound'] = upper_bound\n",
    "\n",
    "predictions_df.sample(n=5)"
   ]
  },
  {
   "cell_type": "markdown",
   "metadata": {},
   "source": [
    "We now have predictions with upper and lower limits so that we an provide a range of anticipated results through PowerBI."
   ]
  },
  {
   "cell_type": "code",
   "execution_count": 102,
   "metadata": {},
   "outputs": [],
   "source": [
    "predictions_df.to_csv('resources/40_yard_predicitons.csv')"
   ]
  },
  {
   "cell_type": "code",
   "execution_count": null,
   "metadata": {},
   "outputs": [],
   "source": []
  }
 ],
 "metadata": {
  "kernelspec": {
   "display_name": "PythonData",
   "language": "python",
   "name": "python3"
  },
  "language_info": {
   "codemirror_mode": {
    "name": "ipython",
    "version": 3
   },
   "file_extension": ".py",
   "mimetype": "text/x-python",
   "name": "python",
   "nbconvert_exporter": "python",
   "pygments_lexer": "ipython3",
   "version": "3.7.10"
  }
 },
 "nbformat": 4,
 "nbformat_minor": 2
}
