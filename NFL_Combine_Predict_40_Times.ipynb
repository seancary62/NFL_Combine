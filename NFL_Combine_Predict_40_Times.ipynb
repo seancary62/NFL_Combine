{
 "cells": [
  {
   "cell_type": "markdown",
   "metadata": {},
   "source": [
    "# Predict 40 Yard Dash Times with our Model\n",
    "\n",
    "In a previous notebook we tested several models and saved the one that served our purposes. In this notebook we'll create the dataset and use our model to predict 40 yard dash times."
   ]
  },
  {
   "cell_type": "code",
   "execution_count": 16,
   "metadata": {},
   "outputs": [],
   "source": [
    "# Import important standard libraries\n",
    "import pandas as pd\n",
    "import numpy as np\n",
    "\n",
    "# import itertools\n",
    "import itertools\n",
    "from datetime import datetime"
   ]
  },
  {
   "cell_type": "code",
   "execution_count": 17,
   "metadata": {},
   "outputs": [
    {
     "data": {
      "text/plain": [
       "Index(['Year', 'Name', 'College', 'POS', 'Height (in)', 'Weight (lbs)', 'BMI',\n",
       "       '40 Yard', 'Bench Press', 'Vert Leap (in)', 'Broad Jump (in)',\n",
       "       'Shuttle', '3Cone'],\n",
       "      dtype='object')"
      ]
     },
     "execution_count": 17,
     "metadata": {},
     "output_type": "execute_result"
    }
   ],
   "source": [
    "# Read original data file\n",
    "combine_raw_df  = pd.read_csv('resources/combine_df.csv').dropna(subset=['Height (in)', 'Weight (lbs)','Broad Jump (in)'])\n",
    "\n",
    "combine_raw_df.columns"
   ]
  },
  {
   "cell_type": "code",
   "execution_count": 18,
   "metadata": {},
   "outputs": [
    {
     "data": {
      "text/html": [
       "<div>\n",
       "<style scoped>\n",
       "    .dataframe tbody tr th:only-of-type {\n",
       "        vertical-align: middle;\n",
       "    }\n",
       "\n",
       "    .dataframe tbody tr th {\n",
       "        vertical-align: top;\n",
       "    }\n",
       "\n",
       "    .dataframe thead th {\n",
       "        text-align: right;\n",
       "    }\n",
       "</style>\n",
       "<table border=\"1\" class=\"dataframe\">\n",
       "  <thead>\n",
       "    <tr style=\"text-align: right;\">\n",
       "      <th></th>\n",
       "      <th>Year</th>\n",
       "      <th>Height (in)</th>\n",
       "      <th>Weight (lbs)</th>\n",
       "      <th>Broad Jump (in)</th>\n",
       "    </tr>\n",
       "  </thead>\n",
       "  <tbody>\n",
       "    <tr>\n",
       "      <th>0</th>\n",
       "      <td>2024</td>\n",
       "      <td>58</td>\n",
       "      <td>136</td>\n",
       "      <td>72</td>\n",
       "    </tr>\n",
       "    <tr>\n",
       "      <th>1</th>\n",
       "      <td>2024</td>\n",
       "      <td>58</td>\n",
       "      <td>136</td>\n",
       "      <td>73</td>\n",
       "    </tr>\n",
       "    <tr>\n",
       "      <th>2</th>\n",
       "      <td>2024</td>\n",
       "      <td>58</td>\n",
       "      <td>136</td>\n",
       "      <td>74</td>\n",
       "    </tr>\n",
       "    <tr>\n",
       "      <th>3</th>\n",
       "      <td>2024</td>\n",
       "      <td>58</td>\n",
       "      <td>136</td>\n",
       "      <td>75</td>\n",
       "    </tr>\n",
       "    <tr>\n",
       "      <th>4</th>\n",
       "      <td>2024</td>\n",
       "      <td>58</td>\n",
       "      <td>136</td>\n",
       "      <td>76</td>\n",
       "    </tr>\n",
       "  </tbody>\n",
       "</table>\n",
       "</div>"
      ],
      "text/plain": [
       "   Year  Height (in)  Weight (lbs)  Broad Jump (in)\n",
       "0  2024           58           136               72\n",
       "1  2024           58           136               73\n",
       "2  2024           58           136               74\n",
       "3  2024           58           136               75\n",
       "4  2024           58           136               76"
      ]
     },
     "execution_count": 18,
     "metadata": {},
     "output_type": "execute_result"
    }
   ],
   "source": [
    "# Create lists of values that will be our input data.\n",
    "# use the min and max values from the orignal data as the range.\n",
    "height = [i for i in range(int(combine_raw_df['Height (in)'].min()*(0.95)),\n",
    "                               int(combine_raw_df['Height (in)'].astype('int').max()*(1.05)),1)]\n",
    "weight = [i for i in range(int(combine_raw_df['Weight (lbs)'].min()*(0.95)),\n",
    "                               int(combine_raw_df['Weight (lbs)'].astype('int').max()*(1.05)),1)]\n",
    "broad_jump = [i for i in range(72,150,1)]\n",
    "\n",
    "# Combine the values into all posiblle combinations\n",
    "\n",
    "combo_list = list(itertools.product(height,weight,broad_jump))\n",
    "\n",
    "predictions_df = pd.DataFrame(combo_list, columns=['Height (in)', 'Weight (lbs)','Broad Jump (in)'])\n",
    "predictions_df.insert(0,'Year',datetime.now().year)\n",
    "\n",
    "# Print the dataframe\n",
    "predictions_df.head()"
   ]
  },
  {
   "cell_type": "code",
   "execution_count": 19,
   "metadata": {},
   "outputs": [
    {
     "data": {
      "text/plain": [
       "(589680, 4)"
      ]
     },
     "execution_count": 19,
     "metadata": {},
     "output_type": "execute_result"
    }
   ],
   "source": [
    "predictions_df.shape"
   ]
  },
  {
   "cell_type": "code",
   "execution_count": 20,
   "metadata": {},
   "outputs": [],
   "source": [
    "# Import pickle\n",
    "import pickle\n",
    "\n",
    "# Import our model from the other Regression ML notebook\n",
    "loaded_model = pickle.load(open('combine_score_predictive_model.pkl', 'rb'))\n"
   ]
  },
  {
   "cell_type": "code",
   "execution_count": 21,
   "metadata": {},
   "outputs": [
    {
     "data": {
      "text/plain": [
       "array([4.74135594, 4.74135594, 4.74135594, ..., 4.98314081, 4.98314081,\n",
       "       4.98314081])"
      ]
     },
     "execution_count": 21,
     "metadata": {},
     "output_type": "execute_result"
    }
   ],
   "source": [
    "predictions = loaded_model.predict(predictions_df)\n",
    "\n",
    "predictions"
   ]
  },
  {
   "cell_type": "code",
   "execution_count": 22,
   "metadata": {},
   "outputs": [
    {
     "name": "stdout",
     "output_type": "stream",
     "text": [
      "[4.50548661 4.50548661 4.50548661 ... 4.66027778 4.66027778 4.66027778] [4.74135594 4.74135594 4.74135594 ... 4.98314081 4.98314081 4.98314081] [5.05215625 5.05215625 5.05215625 ... 5.20684375 5.20684375 5.20684375]\n"
     ]
    }
   ],
   "source": [
    "# Get predictions from each tree\n",
    "predictions_per_tree = np.array([tree.predict(predictions_df) for tree in loaded_model.estimators_])\n",
    "\n",
    "# Calculate prediction mean\n",
    "mean_prediction = np.mean(predictions_per_tree, axis=0)\n",
    "\n",
    "# Calculate prediction intervals (e.g., 90% confidence)\n",
    "lower_bound = np.percentile(predictions_per_tree, 5, axis=0)\n",
    "upper_bound = np.percentile(predictions_per_tree, 95, axis=0)\n",
    "\n",
    "# Display bounds\n",
    "print(lower_bound, mean_prediction, upper_bound)"
   ]
  },
  {
   "cell_type": "code",
   "execution_count": 25,
   "metadata": {},
   "outputs": [
    {
     "data": {
      "text/html": [
       "<div>\n",
       "<style scoped>\n",
       "    .dataframe tbody tr th:only-of-type {\n",
       "        vertical-align: middle;\n",
       "    }\n",
       "\n",
       "    .dataframe tbody tr th {\n",
       "        vertical-align: top;\n",
       "    }\n",
       "\n",
       "    .dataframe thead th {\n",
       "        text-align: right;\n",
       "    }\n",
       "</style>\n",
       "<table border=\"1\" class=\"dataframe\">\n",
       "  <thead>\n",
       "    <tr style=\"text-align: right;\">\n",
       "      <th></th>\n",
       "      <th>Year</th>\n",
       "      <th>Height (in)</th>\n",
       "      <th>Weight (lbs)</th>\n",
       "      <th>Broad Jump (in)</th>\n",
       "      <th>Predictions</th>\n",
       "      <th>Lower Bound</th>\n",
       "      <th>Upper Bound</th>\n",
       "    </tr>\n",
       "  </thead>\n",
       "  <tbody>\n",
       "    <tr>\n",
       "      <th>0</th>\n",
       "      <td>2024</td>\n",
       "      <td>58</td>\n",
       "      <td>136</td>\n",
       "      <td>72</td>\n",
       "      <td>4.741356</td>\n",
       "      <td>4.505487</td>\n",
       "      <td>5.052156</td>\n",
       "    </tr>\n",
       "    <tr>\n",
       "      <th>1</th>\n",
       "      <td>2024</td>\n",
       "      <td>58</td>\n",
       "      <td>136</td>\n",
       "      <td>73</td>\n",
       "      <td>4.741356</td>\n",
       "      <td>4.505487</td>\n",
       "      <td>5.052156</td>\n",
       "    </tr>\n",
       "    <tr>\n",
       "      <th>2</th>\n",
       "      <td>2024</td>\n",
       "      <td>58</td>\n",
       "      <td>136</td>\n",
       "      <td>74</td>\n",
       "      <td>4.741356</td>\n",
       "      <td>4.505487</td>\n",
       "      <td>5.052156</td>\n",
       "    </tr>\n",
       "    <tr>\n",
       "      <th>3</th>\n",
       "      <td>2024</td>\n",
       "      <td>58</td>\n",
       "      <td>136</td>\n",
       "      <td>75</td>\n",
       "      <td>4.741356</td>\n",
       "      <td>4.505487</td>\n",
       "      <td>5.052156</td>\n",
       "    </tr>\n",
       "    <tr>\n",
       "      <th>4</th>\n",
       "      <td>2024</td>\n",
       "      <td>58</td>\n",
       "      <td>136</td>\n",
       "      <td>76</td>\n",
       "      <td>4.741356</td>\n",
       "      <td>4.505487</td>\n",
       "      <td>5.052156</td>\n",
       "    </tr>\n",
       "    <tr>\n",
       "      <th>5</th>\n",
       "      <td>2024</td>\n",
       "      <td>58</td>\n",
       "      <td>136</td>\n",
       "      <td>77</td>\n",
       "      <td>4.741356</td>\n",
       "      <td>4.505487</td>\n",
       "      <td>5.052156</td>\n",
       "    </tr>\n",
       "    <tr>\n",
       "      <th>6</th>\n",
       "      <td>2024</td>\n",
       "      <td>58</td>\n",
       "      <td>136</td>\n",
       "      <td>78</td>\n",
       "      <td>4.741356</td>\n",
       "      <td>4.505487</td>\n",
       "      <td>5.052156</td>\n",
       "    </tr>\n",
       "    <tr>\n",
       "      <th>7</th>\n",
       "      <td>2024</td>\n",
       "      <td>58</td>\n",
       "      <td>136</td>\n",
       "      <td>79</td>\n",
       "      <td>4.741356</td>\n",
       "      <td>4.505487</td>\n",
       "      <td>5.052156</td>\n",
       "    </tr>\n",
       "    <tr>\n",
       "      <th>8</th>\n",
       "      <td>2024</td>\n",
       "      <td>58</td>\n",
       "      <td>136</td>\n",
       "      <td>80</td>\n",
       "      <td>4.741356</td>\n",
       "      <td>4.505487</td>\n",
       "      <td>5.052156</td>\n",
       "    </tr>\n",
       "    <tr>\n",
       "      <th>9</th>\n",
       "      <td>2024</td>\n",
       "      <td>58</td>\n",
       "      <td>136</td>\n",
       "      <td>81</td>\n",
       "      <td>4.741356</td>\n",
       "      <td>4.505487</td>\n",
       "      <td>5.052156</td>\n",
       "    </tr>\n",
       "  </tbody>\n",
       "</table>\n",
       "</div>"
      ],
      "text/plain": [
       "   Year  Height (in)  Weight (lbs)  Broad Jump (in)  Predictions  Lower Bound  \\\n",
       "0  2024           58           136               72     4.741356     4.505487   \n",
       "1  2024           58           136               73     4.741356     4.505487   \n",
       "2  2024           58           136               74     4.741356     4.505487   \n",
       "3  2024           58           136               75     4.741356     4.505487   \n",
       "4  2024           58           136               76     4.741356     4.505487   \n",
       "5  2024           58           136               77     4.741356     4.505487   \n",
       "6  2024           58           136               78     4.741356     4.505487   \n",
       "7  2024           58           136               79     4.741356     4.505487   \n",
       "8  2024           58           136               80     4.741356     4.505487   \n",
       "9  2024           58           136               81     4.741356     4.505487   \n",
       "\n",
       "   Upper Bound  \n",
       "0     5.052156  \n",
       "1     5.052156  \n",
       "2     5.052156  \n",
       "3     5.052156  \n",
       "4     5.052156  \n",
       "5     5.052156  \n",
       "6     5.052156  \n",
       "7     5.052156  \n",
       "8     5.052156  \n",
       "9     5.052156  "
      ]
     },
     "execution_count": 25,
     "metadata": {},
     "output_type": "execute_result"
    }
   ],
   "source": [
    "predictions_df['Predictions'] = mean_prediction\n",
    "predictions_df['Lower Bound'] = lower_bound\n",
    "predictions_df['Upper Bound'] = upper_bound\n",
    "\n",
    "predictions_df.head(10)"
   ]
  },
  {
   "cell_type": "markdown",
   "metadata": {},
   "source": [
    "We now have predictions with upper and lower limits so that we an provide a range of anticipated results through PowerBI."
   ]
  },
  {
   "cell_type": "code",
   "execution_count": 24,
   "metadata": {},
   "outputs": [],
   "source": [
    "predictions_df.to_csv('resources/40_yard_predicitons.csv')"
   ]
  },
  {
   "cell_type": "code",
   "execution_count": null,
   "metadata": {},
   "outputs": [],
   "source": []
  }
 ],
 "metadata": {
  "kernelspec": {
   "display_name": "PythonData",
   "language": "python",
   "name": "python3"
  },
  "language_info": {
   "codemirror_mode": {
    "name": "ipython",
    "version": 3
   },
   "file_extension": ".py",
   "mimetype": "text/x-python",
   "name": "python",
   "nbconvert_exporter": "python",
   "pygments_lexer": "ipython3",
   "version": "3.7.10"
  }
 },
 "nbformat": 4,
 "nbformat_minor": 2
}
