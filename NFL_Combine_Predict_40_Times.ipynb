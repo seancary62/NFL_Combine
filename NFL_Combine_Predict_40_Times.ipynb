{
 "cells": [
  {
   "cell_type": "code",
   "execution_count": 76,
   "metadata": {},
   "outputs": [],
   "source": [
    "# Import important standard libraries\n",
    "import pandas as pd\n",
    "import numpy as np\n",
    "\n",
    "# import itertools\n",
    "import itertools\n",
    "from datetime import datetime"
   ]
  },
  {
   "cell_type": "code",
   "execution_count": 77,
   "metadata": {},
   "outputs": [
    {
     "data": {
      "text/plain": [
       "Index(['Year', 'Name', 'College', 'POS', 'Height (in)', 'Weight (lbs)', 'BMI',\n",
       "       '40 Yard', 'Bench Press', 'Vert Leap (in)', 'Broad Jump (in)',\n",
       "       'Shuttle', '3Cone'],\n",
       "      dtype='object')"
      ]
     },
     "execution_count": 77,
     "metadata": {},
     "output_type": "execute_result"
    }
   ],
   "source": [
    "# Read original data file\n",
    "combine_raw_df  = pd.read_csv('resources/combine_df.csv').dropna(subset=['Height (in)', 'Weight (lbs)','Broad Jump (in)'])\n",
    "\n",
    "combine_raw_df.columns"
   ]
  },
  {
   "cell_type": "code",
   "execution_count": 78,
   "metadata": {},
   "outputs": [
    {
     "data": {
      "text/html": [
       "<div>\n",
       "<style scoped>\n",
       "    .dataframe tbody tr th:only-of-type {\n",
       "        vertical-align: middle;\n",
       "    }\n",
       "\n",
       "    .dataframe tbody tr th {\n",
       "        vertical-align: top;\n",
       "    }\n",
       "\n",
       "    .dataframe thead th {\n",
       "        text-align: right;\n",
       "    }\n",
       "</style>\n",
       "<table border=\"1\" class=\"dataframe\">\n",
       "  <thead>\n",
       "    <tr style=\"text-align: right;\">\n",
       "      <th></th>\n",
       "      <th>Year</th>\n",
       "      <th>Height (in)</th>\n",
       "      <th>Weight (lbs)</th>\n",
       "      <th>Broad Jump (in)</th>\n",
       "    </tr>\n",
       "  </thead>\n",
       "  <tbody>\n",
       "    <tr>\n",
       "      <th>0</th>\n",
       "      <td>2024</td>\n",
       "      <td>58</td>\n",
       "      <td>136</td>\n",
       "      <td>6</td>\n",
       "    </tr>\n",
       "    <tr>\n",
       "      <th>1</th>\n",
       "      <td>2024</td>\n",
       "      <td>58</td>\n",
       "      <td>136</td>\n",
       "      <td>7</td>\n",
       "    </tr>\n",
       "    <tr>\n",
       "      <th>2</th>\n",
       "      <td>2024</td>\n",
       "      <td>58</td>\n",
       "      <td>136</td>\n",
       "      <td>8</td>\n",
       "    </tr>\n",
       "    <tr>\n",
       "      <th>3</th>\n",
       "      <td>2024</td>\n",
       "      <td>58</td>\n",
       "      <td>136</td>\n",
       "      <td>9</td>\n",
       "    </tr>\n",
       "    <tr>\n",
       "      <th>4</th>\n",
       "      <td>2024</td>\n",
       "      <td>58</td>\n",
       "      <td>136</td>\n",
       "      <td>10</td>\n",
       "    </tr>\n",
       "  </tbody>\n",
       "</table>\n",
       "</div>"
      ],
      "text/plain": [
       "   Year  Height (in)  Weight (lbs)  Broad Jump (in)\n",
       "0  2024           58           136                6\n",
       "1  2024           58           136                7\n",
       "2  2024           58           136                8\n",
       "3  2024           58           136                9\n",
       "4  2024           58           136               10"
      ]
     },
     "execution_count": 78,
     "metadata": {},
     "output_type": "execute_result"
    }
   ],
   "source": [
    "# Create lists of values that will be our input data.\n",
    "# use the min and max values from the orignal data as the range.\n",
    "height = [i for i in range(int(combine_raw_df['Height (in)'].min()*(0.95)),\n",
    "                               int(combine_raw_df['Height (in)'].astype('int').max()*(1.05)),1)]\n",
    "weight = [i for i in range(int(combine_raw_df['Weight (lbs)'].min()*(0.95)),\n",
    "                               int(combine_raw_df['Weight (lbs)'].astype('int').max()*(1.05)),1)]\n",
    "broad_jump = [i for i in range(int(combine_raw_df['Broad Jump (in)'].min()*(0.95)),\n",
    "                               int(combine_raw_df['Broad Jump (in)'].astype('int').max()*(1.05)),1)]\n",
    "\n",
    "# Combine the values into all posiblle combinations\n",
    "\n",
    "combo_list = list(itertools.product(height,weight,broad_jump))\n",
    "\n",
    "predictions_df = pd.DataFrame(combo_list, columns=['Height (in)', 'Weight (lbs)','Broad Jump (in)'])\n",
    "predictions_df.insert(0,'Year',datetime.now().year)\n",
    "\n",
    "# Print the dataframe\n",
    "predictions_df.head()"
   ]
  },
  {
   "cell_type": "code",
   "execution_count": 79,
   "metadata": {},
   "outputs": [
    {
     "data": {
      "text/plain": [
       "(1118880, 4)"
      ]
     },
     "execution_count": 79,
     "metadata": {},
     "output_type": "execute_result"
    }
   ],
   "source": [
    "predictions_df.shape"
   ]
  },
  {
   "cell_type": "code",
   "execution_count": 80,
   "metadata": {},
   "outputs": [],
   "source": [
    "# Import pickle\n",
    "import pickle\n",
    "\n",
    "# Import our model from the other Regression ML notebook\n",
    "loaded_model = pickle.load(open('combine_score_predictive_model.pkl', 'rb'))\n"
   ]
  },
  {
   "cell_type": "code",
   "execution_count": 81,
   "metadata": {},
   "outputs": [
    {
     "data": {
      "text/plain": [
       "array([4.77417501, 4.77417501, 4.77417501, ..., 5.1452306 , 5.1452306 ,\n",
       "       5.1452306 ])"
      ]
     },
     "execution_count": 81,
     "metadata": {},
     "output_type": "execute_result"
    }
   ],
   "source": [
    "predictions = loaded_model.predict(predictions_df)\n",
    "\n",
    "predictions"
   ]
  },
  {
   "cell_type": "code",
   "execution_count": 82,
   "metadata": {},
   "outputs": [
    {
     "name": "stdout",
     "output_type": "stream",
     "text": [
      "[4.49178571 4.49178571 4.49178571 ... 4.80791579 4.80791579 4.80791579] [4.77417501 4.77417501 4.77417501 ... 5.1452306  5.1452306  5.1452306 ] [5.29193342 5.29193342 5.29193342 ... 5.3339663  5.3339663  5.3339663 ]\n"
     ]
    }
   ],
   "source": [
    "# Get predictions from each tree\n",
    "predictions_per_tree = np.array([tree.predict(predictions_df) for tree in loaded_model.estimators_])\n",
    "\n",
    "# Calculate prediction mean\n",
    "mean_prediction = np.mean(predictions_per_tree, axis=0)\n",
    "\n",
    "# Calculate prediction intervals (e.g., 90% confidence)\n",
    "lower_bound = np.percentile(predictions_per_tree, 5, axis=0)\n",
    "upper_bound = np.percentile(predictions_per_tree, 95, axis=0)\n",
    "\n",
    "# Display bounds\n",
    "print(lower_bound, mean_prediction, upper_bound)"
   ]
  },
  {
   "cell_type": "code",
   "execution_count": 83,
   "metadata": {},
   "outputs": [
    {
     "data": {
      "text/html": [
       "<div>\n",
       "<style scoped>\n",
       "    .dataframe tbody tr th:only-of-type {\n",
       "        vertical-align: middle;\n",
       "    }\n",
       "\n",
       "    .dataframe tbody tr th {\n",
       "        vertical-align: top;\n",
       "    }\n",
       "\n",
       "    .dataframe thead th {\n",
       "        text-align: right;\n",
       "    }\n",
       "</style>\n",
       "<table border=\"1\" class=\"dataframe\">\n",
       "  <thead>\n",
       "    <tr style=\"text-align: right;\">\n",
       "      <th></th>\n",
       "      <th>Year</th>\n",
       "      <th>Height (in)</th>\n",
       "      <th>Weight (lbs)</th>\n",
       "      <th>Broad Jump (in)</th>\n",
       "      <th>Predictions</th>\n",
       "      <th>Lower Bound</th>\n",
       "      <th>Upper Bound</th>\n",
       "    </tr>\n",
       "  </thead>\n",
       "  <tbody>\n",
       "    <tr>\n",
       "      <th>680056</th>\n",
       "      <td>2024</td>\n",
       "      <td>75</td>\n",
       "      <td>140</td>\n",
       "      <td>150</td>\n",
       "      <td>4.517112</td>\n",
       "      <td>4.426711</td>\n",
       "      <td>4.615716</td>\n",
       "    </tr>\n",
       "    <tr>\n",
       "      <th>909313</th>\n",
       "      <td>2024</td>\n",
       "      <td>80</td>\n",
       "      <td>340</td>\n",
       "      <td>7</td>\n",
       "      <td>5.488129</td>\n",
       "      <td>5.304661</td>\n",
       "      <td>5.688979</td>\n",
       "    </tr>\n",
       "    <tr>\n",
       "      <th>1023390</th>\n",
       "      <td>2024</td>\n",
       "      <td>83</td>\n",
       "      <td>300</td>\n",
       "      <td>124</td>\n",
       "      <td>4.999076</td>\n",
       "      <td>4.807916</td>\n",
       "      <td>5.279203</td>\n",
       "    </tr>\n",
       "    <tr>\n",
       "      <th>291437</th>\n",
       "      <td>2024</td>\n",
       "      <td>65</td>\n",
       "      <td>215</td>\n",
       "      <td>31</td>\n",
       "      <td>4.861718</td>\n",
       "      <td>4.604726</td>\n",
       "      <td>5.291933</td>\n",
       "    </tr>\n",
       "    <tr>\n",
       "      <th>758100</th>\n",
       "      <td>2024</td>\n",
       "      <td>76</td>\n",
       "      <td>398</td>\n",
       "      <td>50</td>\n",
       "      <td>5.468609</td>\n",
       "      <td>5.310864</td>\n",
       "      <td>5.644882</td>\n",
       "    </tr>\n",
       "  </tbody>\n",
       "</table>\n",
       "</div>"
      ],
      "text/plain": [
       "         Year  Height (in)  Weight (lbs)  Broad Jump (in)  Predictions  \\\n",
       "680056   2024           75           140              150     4.517112   \n",
       "909313   2024           80           340                7     5.488129   \n",
       "1023390  2024           83           300              124     4.999076   \n",
       "291437   2024           65           215               31     4.861718   \n",
       "758100   2024           76           398               50     5.468609   \n",
       "\n",
       "         Lower Bound  Upper Bound  \n",
       "680056      4.426711     4.615716  \n",
       "909313      5.304661     5.688979  \n",
       "1023390     4.807916     5.279203  \n",
       "291437      4.604726     5.291933  \n",
       "758100      5.310864     5.644882  "
      ]
     },
     "execution_count": 83,
     "metadata": {},
     "output_type": "execute_result"
    }
   ],
   "source": [
    "predictions_df['Predictions'] = mean_prediction\n",
    "predictions_df['Lower Bound'] = lower_bound\n",
    "predictions_df['Upper Bound'] = upper_bound\n",
    "\n",
    "predictions_df.sample(n=5)"
   ]
  },
  {
   "cell_type": "code",
   "execution_count": 84,
   "metadata": {},
   "outputs": [],
   "source": [
    "predictions_df.to_csv('40_yard_predicitons.csv')"
   ]
  },
  {
   "cell_type": "code",
   "execution_count": null,
   "metadata": {},
   "outputs": [],
   "source": []
  }
 ],
 "metadata": {
  "kernelspec": {
   "display_name": "PythonData",
   "language": "python",
   "name": "python3"
  },
  "language_info": {
   "codemirror_mode": {
    "name": "ipython",
    "version": 3
   },
   "file_extension": ".py",
   "mimetype": "text/x-python",
   "name": "python",
   "nbconvert_exporter": "python",
   "pygments_lexer": "ipython3",
   "version": "3.7.10"
  }
 },
 "nbformat": 4,
 "nbformat_minor": 2
}
