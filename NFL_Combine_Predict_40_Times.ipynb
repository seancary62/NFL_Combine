{
 "cells": [
  {
   "cell_type": "markdown",
   "metadata": {},
   "source": [
    "# Predict 40 Yard Dash Times with our Model\n",
    "\n",
    "In a previous notebook we tested several models and saved the one that served our purposes. In this notebook we'll create the dataset and use our model to predict 40 yard dash times."
   ]
  },
  {
   "cell_type": "code",
   "execution_count": 85,
   "metadata": {},
   "outputs": [],
   "source": [
    "# Import important standard libraries\n",
    "import pandas as pd\n",
    "import numpy as np\n",
    "\n",
    "# import itertools\n",
    "import itertools\n",
    "from datetime import datetime"
   ]
  },
  {
   "cell_type": "code",
   "execution_count": 86,
   "metadata": {},
   "outputs": [
    {
     "data": {
      "text/plain": [
       "Index(['Year', 'Name', 'College', 'POS', 'Height (in)', 'Weight (lbs)', 'BMI',\n",
       "       '40 Yard', 'Bench Press', 'Vert Leap (in)', 'Broad Jump (in)',\n",
       "       'Shuttle', '3Cone'],\n",
       "      dtype='object')"
      ]
     },
     "execution_count": 86,
     "metadata": {},
     "output_type": "execute_result"
    }
   ],
   "source": [
    "# Read original data file\n",
    "combine_raw_df  = pd.read_csv('resources/combine_df.csv').dropna(subset=['Height (in)', 'Weight (lbs)','Broad Jump (in)'])\n",
    "\n",
    "combine_raw_df.columns"
   ]
  },
  {
   "cell_type": "code",
   "execution_count": 87,
   "metadata": {},
   "outputs": [
    {
     "data": {
      "text/html": [
       "<div>\n",
       "<style scoped>\n",
       "    .dataframe tbody tr th:only-of-type {\n",
       "        vertical-align: middle;\n",
       "    }\n",
       "\n",
       "    .dataframe tbody tr th {\n",
       "        vertical-align: top;\n",
       "    }\n",
       "\n",
       "    .dataframe thead th {\n",
       "        text-align: right;\n",
       "    }\n",
       "</style>\n",
       "<table border=\"1\" class=\"dataframe\">\n",
       "  <thead>\n",
       "    <tr style=\"text-align: right;\">\n",
       "      <th></th>\n",
       "      <th>Year</th>\n",
       "      <th>Height (in)</th>\n",
       "      <th>Weight (lbs)</th>\n",
       "      <th>Broad Jump (in)</th>\n",
       "    </tr>\n",
       "  </thead>\n",
       "  <tbody>\n",
       "    <tr>\n",
       "      <th>0</th>\n",
       "      <td>2024</td>\n",
       "      <td>58</td>\n",
       "      <td>136</td>\n",
       "      <td>6</td>\n",
       "    </tr>\n",
       "    <tr>\n",
       "      <th>1</th>\n",
       "      <td>2024</td>\n",
       "      <td>58</td>\n",
       "      <td>136</td>\n",
       "      <td>7</td>\n",
       "    </tr>\n",
       "    <tr>\n",
       "      <th>2</th>\n",
       "      <td>2024</td>\n",
       "      <td>58</td>\n",
       "      <td>136</td>\n",
       "      <td>8</td>\n",
       "    </tr>\n",
       "    <tr>\n",
       "      <th>3</th>\n",
       "      <td>2024</td>\n",
       "      <td>58</td>\n",
       "      <td>136</td>\n",
       "      <td>9</td>\n",
       "    </tr>\n",
       "    <tr>\n",
       "      <th>4</th>\n",
       "      <td>2024</td>\n",
       "      <td>58</td>\n",
       "      <td>136</td>\n",
       "      <td>10</td>\n",
       "    </tr>\n",
       "  </tbody>\n",
       "</table>\n",
       "</div>"
      ],
      "text/plain": [
       "   Year  Height (in)  Weight (lbs)  Broad Jump (in)\n",
       "0  2024           58           136                6\n",
       "1  2024           58           136                7\n",
       "2  2024           58           136                8\n",
       "3  2024           58           136                9\n",
       "4  2024           58           136               10"
      ]
     },
     "execution_count": 87,
     "metadata": {},
     "output_type": "execute_result"
    }
   ],
   "source": [
    "# Create lists of values that will be our input data.\n",
    "# use the min and max values from the orignal data as the range.\n",
    "height = [i for i in range(int(combine_raw_df['Height (in)'].min()*(0.95)),\n",
    "                               int(combine_raw_df['Height (in)'].astype('int').max()*(1.05)),1)]\n",
    "weight = [i for i in range(int(combine_raw_df['Weight (lbs)'].min()*(0.95)),\n",
    "                               int(combine_raw_df['Weight (lbs)'].astype('int').max()*(1.05)),1)]\n",
    "broad_jump = [i for i in range(int(combine_raw_df['Broad Jump (in)'].min()*(0.95)),\n",
    "                               int(combine_raw_df['Broad Jump (in)'].astype('int').max()*(1.05)),1)]\n",
    "\n",
    "# Combine the values into all posiblle combinations\n",
    "\n",
    "combo_list = list(itertools.product(height,weight,broad_jump))\n",
    "\n",
    "predictions_df = pd.DataFrame(combo_list, columns=['Height (in)', 'Weight (lbs)','Broad Jump (in)'])\n",
    "predictions_df.insert(0,'Year',datetime.now().year)\n",
    "\n",
    "# Print the dataframe\n",
    "predictions_df.head()"
   ]
  },
  {
   "cell_type": "code",
   "execution_count": 88,
   "metadata": {},
   "outputs": [
    {
     "data": {
      "text/plain": [
       "(1118880, 4)"
      ]
     },
     "execution_count": 88,
     "metadata": {},
     "output_type": "execute_result"
    }
   ],
   "source": [
    "predictions_df.shape"
   ]
  },
  {
   "cell_type": "code",
   "execution_count": 89,
   "metadata": {},
   "outputs": [],
   "source": [
    "# Import pickle\n",
    "import pickle\n",
    "\n",
    "# Import our model from the other Regression ML notebook\n",
    "loaded_model = pickle.load(open('combine_score_predictive_model.pkl', 'rb'))\n"
   ]
  },
  {
   "cell_type": "code",
   "execution_count": 90,
   "metadata": {},
   "outputs": [
    {
     "data": {
      "text/plain": [
       "array([4.75842568, 4.75842568, 4.75842568, ..., 5.11703416, 5.11703416,\n",
       "       5.11703416])"
      ]
     },
     "execution_count": 90,
     "metadata": {},
     "output_type": "execute_result"
    }
   ],
   "source": [
    "predictions = loaded_model.predict(predictions_df)\n",
    "\n",
    "predictions"
   ]
  },
  {
   "cell_type": "code",
   "execution_count": 91,
   "metadata": {},
   "outputs": [
    {
     "name": "stdout",
     "output_type": "stream",
     "text": [
      "[4.51482389 4.51482389 4.51482389 ... 4.83312821 4.83312821 4.83312821] [4.75842568 4.75842568 4.75842568 ... 5.11703416 5.11703416 5.11703416] [5.124825 5.124825 5.124825 ... 5.2833   5.2833   5.2833  ]\n"
     ]
    }
   ],
   "source": [
    "# Get predictions from each tree\n",
    "predictions_per_tree = np.array([tree.predict(predictions_df) for tree in loaded_model.estimators_])\n",
    "\n",
    "# Calculate prediction mean\n",
    "mean_prediction = np.mean(predictions_per_tree, axis=0)\n",
    "\n",
    "# Calculate prediction intervals (e.g., 90% confidence)\n",
    "lower_bound = np.percentile(predictions_per_tree, 5, axis=0)\n",
    "upper_bound = np.percentile(predictions_per_tree, 95, axis=0)\n",
    "\n",
    "# Display bounds\n",
    "print(lower_bound, mean_prediction, upper_bound)"
   ]
  },
  {
   "cell_type": "code",
   "execution_count": 92,
   "metadata": {},
   "outputs": [
    {
     "data": {
      "text/html": [
       "<div>\n",
       "<style scoped>\n",
       "    .dataframe tbody tr th:only-of-type {\n",
       "        vertical-align: middle;\n",
       "    }\n",
       "\n",
       "    .dataframe tbody tr th {\n",
       "        vertical-align: top;\n",
       "    }\n",
       "\n",
       "    .dataframe thead th {\n",
       "        text-align: right;\n",
       "    }\n",
       "</style>\n",
       "<table border=\"1\" class=\"dataframe\">\n",
       "  <thead>\n",
       "    <tr style=\"text-align: right;\">\n",
       "      <th></th>\n",
       "      <th>Year</th>\n",
       "      <th>Height (in)</th>\n",
       "      <th>Weight (lbs)</th>\n",
       "      <th>Broad Jump (in)</th>\n",
       "      <th>Predictions</th>\n",
       "      <th>Lower Bound</th>\n",
       "      <th>Upper Bound</th>\n",
       "    </tr>\n",
       "  </thead>\n",
       "  <tbody>\n",
       "    <tr>\n",
       "      <th>850418</th>\n",
       "      <td>2024</td>\n",
       "      <td>79</td>\n",
       "      <td>212</td>\n",
       "      <td>16</td>\n",
       "      <td>5.013197</td>\n",
       "      <td>4.702040</td>\n",
       "      <td>5.217154</td>\n",
       "    </tr>\n",
       "    <tr>\n",
       "      <th>406290</th>\n",
       "      <td>2024</td>\n",
       "      <td>68</td>\n",
       "      <td>181</td>\n",
       "      <td>36</td>\n",
       "      <td>4.759291</td>\n",
       "      <td>4.514824</td>\n",
       "      <td>5.124825</td>\n",
       "    </tr>\n",
       "    <tr>\n",
       "      <th>531091</th>\n",
       "      <td>2024</td>\n",
       "      <td>71</td>\n",
       "      <td>214</td>\n",
       "      <td>73</td>\n",
       "      <td>4.840381</td>\n",
       "      <td>4.616944</td>\n",
       "      <td>5.163252</td>\n",
       "    </tr>\n",
       "    <tr>\n",
       "      <th>658097</th>\n",
       "      <td>2024</td>\n",
       "      <td>74</td>\n",
       "      <td>262</td>\n",
       "      <td>95</td>\n",
       "      <td>4.994609</td>\n",
       "      <td>4.835676</td>\n",
       "      <td>5.184513</td>\n",
       "    </tr>\n",
       "    <tr>\n",
       "      <th>855217</th>\n",
       "      <td>2024</td>\n",
       "      <td>79</td>\n",
       "      <td>244</td>\n",
       "      <td>79</td>\n",
       "      <td>5.063294</td>\n",
       "      <td>4.920382</td>\n",
       "      <td>5.217154</td>\n",
       "    </tr>\n",
       "  </tbody>\n",
       "</table>\n",
       "</div>"
      ],
      "text/plain": [
       "        Year  Height (in)  Weight (lbs)  Broad Jump (in)  Predictions  \\\n",
       "850418  2024           79           212               16     5.013197   \n",
       "406290  2024           68           181               36     4.759291   \n",
       "531091  2024           71           214               73     4.840381   \n",
       "658097  2024           74           262               95     4.994609   \n",
       "855217  2024           79           244               79     5.063294   \n",
       "\n",
       "        Lower Bound  Upper Bound  \n",
       "850418     4.702040     5.217154  \n",
       "406290     4.514824     5.124825  \n",
       "531091     4.616944     5.163252  \n",
       "658097     4.835676     5.184513  \n",
       "855217     4.920382     5.217154  "
      ]
     },
     "execution_count": 92,
     "metadata": {},
     "output_type": "execute_result"
    }
   ],
   "source": [
    "predictions_df['Predictions'] = mean_prediction\n",
    "predictions_df['Lower Bound'] = lower_bound\n",
    "predictions_df['Upper Bound'] = upper_bound\n",
    "\n",
    "predictions_df.sample(n=5)"
   ]
  },
  {
   "cell_type": "markdown",
   "metadata": {},
   "source": [
    "We now have predictions with upper and lower limits so that we an provide a range of anticipated results through PowerBI."
   ]
  },
  {
   "cell_type": "code",
   "execution_count": 93,
   "metadata": {},
   "outputs": [],
   "source": [
    "predictions_df.to_csv('40_yard_predicitons.csv')"
   ]
  },
  {
   "cell_type": "code",
   "execution_count": null,
   "metadata": {},
   "outputs": [],
   "source": []
  }
 ],
 "metadata": {
  "kernelspec": {
   "display_name": "PythonData",
   "language": "python",
   "name": "python3"
  },
  "language_info": {
   "codemirror_mode": {
    "name": "ipython",
    "version": 3
   },
   "file_extension": ".py",
   "mimetype": "text/x-python",
   "name": "python",
   "nbconvert_exporter": "python",
   "pygments_lexer": "ipython3",
   "version": "3.7.10"
  }
 },
 "nbformat": 4,
 "nbformat_minor": 2
}
