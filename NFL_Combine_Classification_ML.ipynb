{
 "cells": [
  {
   "cell_type": "code",
   "execution_count": 2,
   "metadata": {},
   "outputs": [],
   "source": [
    "# Import important standard libraries\n",
    "import pandas as pd\n",
    "import numpy as np\n",
    "import matplotlib.pyplot as plt\n",
    "import seaborn as sns\n",
    "\n",
    "%matplotlib inline\n",
    "\n",
    "# Models from Scikit-Learn\n",
    "from sklearn.linear_model import LogisticRegression\n",
    "from sklearn.neighbors import KNeighborsClassifier\n",
    "from sklearn.ensemble import RandomForestClassifier\n",
    "from xgboost import XGBClassifier\n",
    "from xgboost import XGBRegressor\n",
    "from sklearn.preprocessing import LabelEncoder\n",
    "\n",
    "# Model Evaluation\n",
    "from sklearn.model_selection import train_test_split, cross_val_score\n",
    "from sklearn.model_selection import RandomizedSearchCV, GridSearchCV\n",
    "from sklearn.metrics import confusion_matrix, classification_report\n",
    "from sklearn.metrics import precision_score, recall_score, f1_score\n",
    "from sklearn.metrics import plot_roc_curve, RocCurveDisplay"
   ]
  },
  {
   "cell_type": "code",
   "execution_count": 3,
   "metadata": {},
   "outputs": [
    {
     "data": {
      "text/html": [
       "<div>\n",
       "<style scoped>\n",
       "    .dataframe tbody tr th:only-of-type {\n",
       "        vertical-align: middle;\n",
       "    }\n",
       "\n",
       "    .dataframe tbody tr th {\n",
       "        vertical-align: top;\n",
       "    }\n",
       "\n",
       "    .dataframe thead th {\n",
       "        text-align: right;\n",
       "    }\n",
       "</style>\n",
       "<table border=\"1\" class=\"dataframe\">\n",
       "  <thead>\n",
       "    <tr style=\"text-align: right;\">\n",
       "      <th></th>\n",
       "      <th>Year</th>\n",
       "      <th>Name</th>\n",
       "      <th>College</th>\n",
       "      <th>POS</th>\n",
       "      <th>Height (in)</th>\n",
       "      <th>Weight (lbs)</th>\n",
       "      <th>BMI</th>\n",
       "      <th>40 Yard</th>\n",
       "      <th>Bench Press</th>\n",
       "      <th>Vert Leap (in)</th>\n",
       "      <th>Broad Jump (in)</th>\n",
       "      <th>Shuttle</th>\n",
       "      <th>3Cone</th>\n",
       "    </tr>\n",
       "  </thead>\n",
       "  <tbody>\n",
       "    <tr>\n",
       "      <th>0</th>\n",
       "      <td>1987</td>\n",
       "      <td>Mike Adams</td>\n",
       "      <td>Arizona State</td>\n",
       "      <td>CB</td>\n",
       "      <td>69.8</td>\n",
       "      <td>198.0</td>\n",
       "      <td>28.6</td>\n",
       "      <td>4.42</td>\n",
       "      <td>13.0</td>\n",
       "      <td>32.0</td>\n",
       "      <td>118.0</td>\n",
       "      <td>4.60</td>\n",
       "      <td>NaN</td>\n",
       "    </tr>\n",
       "    <tr>\n",
       "      <th>1</th>\n",
       "      <td>1987</td>\n",
       "      <td>John Adickes</td>\n",
       "      <td>Baylor</td>\n",
       "      <td>C</td>\n",
       "      <td>74.8</td>\n",
       "      <td>266.0</td>\n",
       "      <td>33.4</td>\n",
       "      <td>4.97</td>\n",
       "      <td>25.0</td>\n",
       "      <td>26.5</td>\n",
       "      <td>103.0</td>\n",
       "      <td>4.60</td>\n",
       "      <td>NaN</td>\n",
       "    </tr>\n",
       "    <tr>\n",
       "      <th>2</th>\n",
       "      <td>1987</td>\n",
       "      <td>Tommy Agee</td>\n",
       "      <td>Auburn</td>\n",
       "      <td>FB</td>\n",
       "      <td>71.8</td>\n",
       "      <td>217.0</td>\n",
       "      <td>29.6</td>\n",
       "      <td>NaN</td>\n",
       "      <td>15.0</td>\n",
       "      <td>NaN</td>\n",
       "      <td>NaN</td>\n",
       "      <td>NaN</td>\n",
       "      <td>NaN</td>\n",
       "    </tr>\n",
       "    <tr>\n",
       "      <th>3</th>\n",
       "      <td>1987</td>\n",
       "      <td>David Alexander</td>\n",
       "      <td>Tulsa (OK)</td>\n",
       "      <td>C</td>\n",
       "      <td>75.0</td>\n",
       "      <td>279.0</td>\n",
       "      <td>34.9</td>\n",
       "      <td>5.13</td>\n",
       "      <td>22.0</td>\n",
       "      <td>27.5</td>\n",
       "      <td>105.0</td>\n",
       "      <td>4.33</td>\n",
       "      <td>NaN</td>\n",
       "    </tr>\n",
       "    <tr>\n",
       "      <th>4</th>\n",
       "      <td>1987</td>\n",
       "      <td>Lyneal Alston</td>\n",
       "      <td>Southern Mississippi</td>\n",
       "      <td>WR</td>\n",
       "      <td>72.1</td>\n",
       "      <td>202.0</td>\n",
       "      <td>27.3</td>\n",
       "      <td>4.64</td>\n",
       "      <td>7.0</td>\n",
       "      <td>32.0</td>\n",
       "      <td>114.0</td>\n",
       "      <td>4.52</td>\n",
       "      <td>NaN</td>\n",
       "    </tr>\n",
       "  </tbody>\n",
       "</table>\n",
       "</div>"
      ],
      "text/plain": [
       "   Year             Name               College POS  Height (in)  Weight (lbs)  \\\n",
       "0  1987       Mike Adams         Arizona State  CB         69.8         198.0   \n",
       "1  1987     John Adickes                Baylor   C         74.8         266.0   \n",
       "2  1987       Tommy Agee                Auburn  FB         71.8         217.0   \n",
       "3  1987  David Alexander            Tulsa (OK)   C         75.0         279.0   \n",
       "4  1987    Lyneal Alston  Southern Mississippi  WR         72.1         202.0   \n",
       "\n",
       "    BMI  40 Yard  Bench Press  Vert Leap (in)  Broad Jump (in)  Shuttle  3Cone  \n",
       "0  28.6     4.42         13.0            32.0            118.0     4.60    NaN  \n",
       "1  33.4     4.97         25.0            26.5            103.0     4.60    NaN  \n",
       "2  29.6      NaN         15.0             NaN              NaN      NaN    NaN  \n",
       "3  34.9     5.13         22.0            27.5            105.0     4.33    NaN  \n",
       "4  27.3     4.64          7.0            32.0            114.0     4.52    NaN  "
      ]
     },
     "execution_count": 3,
     "metadata": {},
     "output_type": "execute_result"
    }
   ],
   "source": [
    "combine_raw_df  = pd.read_csv('resources/combine_df.csv')\n",
    "\n",
    "combine_raw_df.head()"
   ]
  },
  {
   "cell_type": "code",
   "execution_count": 4,
   "metadata": {},
   "outputs": [
    {
     "name": "stdout",
     "output_type": "stream",
     "text": [
      "<class 'pandas.core.frame.DataFrame'>\n",
      "RangeIndex: 14164 entries, 0 to 14163\n",
      "Data columns (total 13 columns):\n",
      " #   Column           Non-Null Count  Dtype  \n",
      "---  ------           --------------  -----  \n",
      " 0   Year             14164 non-null  int64  \n",
      " 1   Name             14164 non-null  object \n",
      " 2   College          14157 non-null  object \n",
      " 3   POS              14164 non-null  object \n",
      " 4   Height (in)      14164 non-null  float64\n",
      " 5   Weight (lbs)     14164 non-null  float64\n",
      " 6   BMI              14164 non-null  float64\n",
      " 7   40 Yard          12634 non-null  float64\n",
      " 8   Bench Press      10276 non-null  float64\n",
      " 9   Vert Leap (in)   12178 non-null  float64\n",
      " 10  Broad Jump (in)  12055 non-null  float64\n",
      " 11  Shuttle          11099 non-null  float64\n",
      " 12  3Cone            3810 non-null   float64\n",
      "dtypes: float64(9), int64(1), object(3)\n",
      "memory usage: 1.4+ MB\n"
     ]
    }
   ],
   "source": [
    "combine_raw_df.info()"
   ]
  },
  {
   "cell_type": "code",
   "execution_count": 5,
   "metadata": {},
   "outputs": [
    {
     "name": "stdout",
     "output_type": "stream",
     "text": [
      "<class 'pandas.core.frame.DataFrame'>\n",
      "Int64Index: 8509 entries, 0 to 14160\n",
      "Data columns (total 12 columns):\n",
      " #   Column           Non-Null Count  Dtype  \n",
      "---  ------           --------------  -----  \n",
      " 0   Year             8509 non-null   int64  \n",
      " 1   Name             8509 non-null   object \n",
      " 2   College          8509 non-null   object \n",
      " 3   POS              8509 non-null   object \n",
      " 4   Height (in)      8509 non-null   float64\n",
      " 5   Weight (lbs)     8509 non-null   float64\n",
      " 6   BMI              8509 non-null   float64\n",
      " 7   40 Yard          8509 non-null   float64\n",
      " 8   Bench Press      8509 non-null   float64\n",
      " 9   Vert Leap (in)   8509 non-null   float64\n",
      " 10  Broad Jump (in)  8509 non-null   float64\n",
      " 11  Shuttle          8509 non-null   float64\n",
      "dtypes: float64(8), int64(1), object(3)\n",
      "memory usage: 864.2+ KB\n"
     ]
    }
   ],
   "source": [
    "combine_ml_df = combine_raw_df.drop(columns='3Cone')\n",
    "combine_ml_df.dropna(inplace=True)\n",
    "combine_ml_df.info()"
   ]
  },
  {
   "cell_type": "code",
   "execution_count": 6,
   "metadata": {},
   "outputs": [
    {
     "data": {
      "image/png": "[encoded data removed]",
      "text/plain": [
       "<Figure size 432x288 with 1 Axes>"
      ]
     },
     "metadata": {
      "needs_background": "light"
     },
     "output_type": "display_data"
    }
   ],
   "source": [
    "combine_ml_df['POS'].value_counts().plot(kind=\"bar\", color=['salmon']);"
   ]
  },
  {
   "cell_type": "code",
   "execution_count": 7,
   "metadata": {},
   "outputs": [
    {
     "data": {
      "text/plain": [
       "<AxesSubplot:ylabel='Frequency'>"
      ]
     },
     "execution_count": 7,
     "metadata": {},
     "output_type": "execute_result"
    },
    {
     "data": {
      "image/png": "[encoded data removed]",
      "text/plain": [
       "<Figure size 432x288 with 1 Axes>"
      ]
     },
     "metadata": {
      "needs_background": "light"
     },
     "output_type": "display_data"
    }
   ],
   "source": [
    "combine_ml_df['40 Yard'].plot.hist()"
   ]
  },
  {
   "cell_type": "code",
   "execution_count": 8,
   "metadata": {},
   "outputs": [
    {
     "data": {
      "text/plain": [
       "Year                 int64\n",
       "Name                object\n",
       "College             object\n",
       "POS                 object\n",
       "Height (in)        float64\n",
       "Weight (lbs)       float64\n",
       "BMI                float64\n",
       "40 Yard            float64\n",
       "Bench Press        float64\n",
       "Vert Leap (in)     float64\n",
       "Broad Jump (in)    float64\n",
       "Shuttle            float64\n",
       "dtype: object"
      ]
     },
     "execution_count": 8,
     "metadata": {},
     "output_type": "execute_result"
    }
   ],
   "source": [
    "combine_ml_df.dtypes\n"
   ]
  },
  {
   "cell_type": "code",
   "execution_count": 9,
   "metadata": {},
   "outputs": [
    {
     "data": {
      "text/plain": [
       "<AxesSubplot:ylabel='Frequency'>"
      ]
     },
     "execution_count": 9,
     "metadata": {},
     "output_type": "execute_result"
    },
    {
     "data": {
      "image/png": "[encoded data removed]",
      "text/plain": [
       "<Figure size 432x288 with 1 Axes>"
      ]
     },
     "metadata": {
      "needs_background": "light"
     },
     "output_type": "display_data"
    }
   ],
   "source": [
    "my_size_df = combine_ml_df.loc[(combine_ml_df['Height (in)'] >= 69) &\n",
    "               (combine_raw_df['Height (in)'] <= 73) &\n",
    "               (combine_raw_df['Weight (lbs)'] <= 198) &\n",
    "               (combine_raw_df['Weight (lbs)'] <= 205)]\n",
    "\n",
    "my_size_df['40 Yard'].plot.hist()"
   ]
  },
  {
   "cell_type": "code",
   "execution_count": 365,
   "metadata": {},
   "outputs": [
    {
     "data": {
      "text/html": [
       "<div>\n",
       "<style scoped>\n",
       "    .dataframe tbody tr th:only-of-type {\n",
       "        vertical-align: middle;\n",
       "    }\n",
       "\n",
       "    .dataframe tbody tr th {\n",
       "        vertical-align: top;\n",
       "    }\n",
       "\n",
       "    .dataframe thead th {\n",
       "        text-align: right;\n",
       "    }\n",
       "</style>\n",
       "<table border=\"1\" class=\"dataframe\">\n",
       "  <thead>\n",
       "    <tr style=\"text-align: right;\">\n",
       "      <th></th>\n",
       "      <th>Year</th>\n",
       "      <th>Height (in)</th>\n",
       "      <th>Weight (lbs)</th>\n",
       "      <th>BMI</th>\n",
       "      <th>40 Yard</th>\n",
       "      <th>Bench Press</th>\n",
       "      <th>Vert Leap (in)</th>\n",
       "      <th>Broad Jump (in)</th>\n",
       "      <th>Shuttle</th>\n",
       "    </tr>\n",
       "  </thead>\n",
       "  <tbody>\n",
       "    <tr>\n",
       "      <th>Year</th>\n",
       "      <td>1.000000</td>\n",
       "      <td>-0.006464</td>\n",
       "      <td>0.013938</td>\n",
       "      <td>0.021613</td>\n",
       "      <td>-0.164691</td>\n",
       "      <td>0.116822</td>\n",
       "      <td>0.194347</td>\n",
       "      <td>0.226758</td>\n",
       "      <td>-0.003177</td>\n",
       "    </tr>\n",
       "    <tr>\n",
       "      <th>Height (in)</th>\n",
       "      <td>-0.006464</td>\n",
       "      <td>1.000000</td>\n",
       "      <td>0.750982</td>\n",
       "      <td>0.487479</td>\n",
       "      <td>0.625295</td>\n",
       "      <td>0.361742</td>\n",
       "      <td>-0.430616</td>\n",
       "      <td>-0.411298</td>\n",
       "      <td>0.530356</td>\n",
       "    </tr>\n",
       "    <tr>\n",
       "      <th>Weight (lbs)</th>\n",
       "      <td>0.013938</td>\n",
       "      <td>0.750982</td>\n",
       "      <td>1.000000</td>\n",
       "      <td>0.941208</td>\n",
       "      <td>0.857803</td>\n",
       "      <td>0.630895</td>\n",
       "      <td>-0.635056</td>\n",
       "      <td>-0.674593</td>\n",
       "      <td>0.736187</td>\n",
       "    </tr>\n",
       "    <tr>\n",
       "      <th>BMI</th>\n",
       "      <td>0.021613</td>\n",
       "      <td>0.487479</td>\n",
       "      <td>0.941208</td>\n",
       "      <td>1.000000</td>\n",
       "      <td>0.810588</td>\n",
       "      <td>0.660457</td>\n",
       "      <td>-0.614985</td>\n",
       "      <td>-0.677088</td>\n",
       "      <td>0.697228</td>\n",
       "    </tr>\n",
       "    <tr>\n",
       "      <th>40 Yard</th>\n",
       "      <td>-0.164691</td>\n",
       "      <td>0.625295</td>\n",
       "      <td>0.857803</td>\n",
       "      <td>0.810588</td>\n",
       "      <td>1.000000</td>\n",
       "      <td>0.422216</td>\n",
       "      <td>-0.757910</td>\n",
       "      <td>-0.783943</td>\n",
       "      <td>0.770444</td>\n",
       "    </tr>\n",
       "    <tr>\n",
       "      <th>Bench Press</th>\n",
       "      <td>0.116822</td>\n",
       "      <td>0.361742</td>\n",
       "      <td>0.630895</td>\n",
       "      <td>0.660457</td>\n",
       "      <td>0.422216</td>\n",
       "      <td>1.000000</td>\n",
       "      <td>-0.256090</td>\n",
       "      <td>-0.309907</td>\n",
       "      <td>0.352981</td>\n",
       "    </tr>\n",
       "    <tr>\n",
       "      <th>Vert Leap (in)</th>\n",
       "      <td>0.194347</td>\n",
       "      <td>-0.430616</td>\n",
       "      <td>-0.635056</td>\n",
       "      <td>-0.614985</td>\n",
       "      <td>-0.757910</td>\n",
       "      <td>-0.256090</td>\n",
       "      <td>1.000000</td>\n",
       "      <td>0.795193</td>\n",
       "      <td>-0.678828</td>\n",
       "    </tr>\n",
       "    <tr>\n",
       "      <th>Broad Jump (in)</th>\n",
       "      <td>0.226758</td>\n",
       "      <td>-0.411298</td>\n",
       "      <td>-0.674593</td>\n",
       "      <td>-0.677088</td>\n",
       "      <td>-0.783943</td>\n",
       "      <td>-0.309907</td>\n",
       "      <td>0.795193</td>\n",
       "      <td>1.000000</td>\n",
       "      <td>-0.664198</td>\n",
       "    </tr>\n",
       "    <tr>\n",
       "      <th>Shuttle</th>\n",
       "      <td>-0.003177</td>\n",
       "      <td>0.530356</td>\n",
       "      <td>0.736187</td>\n",
       "      <td>0.697228</td>\n",
       "      <td>0.770444</td>\n",
       "      <td>0.352981</td>\n",
       "      <td>-0.678828</td>\n",
       "      <td>-0.664198</td>\n",
       "      <td>1.000000</td>\n",
       "    </tr>\n",
       "  </tbody>\n",
       "</table>\n",
       "</div>"
      ],
      "text/plain": [
       "                     Year  Height (in)  Weight (lbs)       BMI   40 Yard  \\\n",
       "Year             1.000000    -0.006464      0.013938  0.021613 -0.164691   \n",
       "Height (in)     -0.006464     1.000000      0.750982  0.487479  0.625295   \n",
       "Weight (lbs)     0.013938     0.750982      1.000000  0.941208  0.857803   \n",
       "BMI              0.021613     0.487479      0.941208  1.000000  0.810588   \n",
       "40 Yard         -0.164691     0.625295      0.857803  0.810588  1.000000   \n",
       "Bench Press      0.116822     0.361742      0.630895  0.660457  0.422216   \n",
       "Vert Leap (in)   0.194347    -0.430616     -0.635056 -0.614985 -0.757910   \n",
       "Broad Jump (in)  0.226758    -0.411298     -0.674593 -0.677088 -0.783943   \n",
       "Shuttle         -0.003177     0.530356      0.736187  0.697228  0.770444   \n",
       "\n",
       "                 Bench Press  Vert Leap (in)  Broad Jump (in)   Shuttle  \n",
       "Year                0.116822        0.194347         0.226758 -0.003177  \n",
       "Height (in)         0.361742       -0.430616        -0.411298  0.530356  \n",
       "Weight (lbs)        0.630895       -0.635056        -0.674593  0.736187  \n",
       "BMI                 0.660457       -0.614985        -0.677088  0.697228  \n",
       "40 Yard             0.422216       -0.757910        -0.783943  0.770444  \n",
       "Bench Press         1.000000       -0.256090        -0.309907  0.352981  \n",
       "Vert Leap (in)     -0.256090        1.000000         0.795193 -0.678828  \n",
       "Broad Jump (in)    -0.309907        0.795193         1.000000 -0.664198  \n",
       "Shuttle             0.352981       -0.678828        -0.664198  1.000000  "
      ]
     },
     "execution_count": 365,
     "metadata": {},
     "output_type": "execute_result"
    }
   ],
   "source": [
    "combine_ml_df.corr()"
   ]
  },
  {
   "cell_type": "code",
   "execution_count": 366,
   "metadata": {},
   "outputs": [
    {
     "data": {
      "image/png": "[encoded data removed]",
      "text/plain": [
       "<Figure size 1080x720 with 2 Axes>"
      ]
     },
     "metadata": {
      "needs_background": "light"
     },
     "output_type": "display_data"
    }
   ],
   "source": [
    "corr_matrix = combine_ml_df.corr()\n",
    "fig, ax = plt.subplots(figsize=(15,10))\n",
    "ax = sns.heatmap(corr_matrix,\n",
    "                 annot=True,\n",
    "                 linewidths=0.5,\n",
    "                 fmt='.2f',\n",
    "                 cmap = 'YlGnBu')"
   ]
  },
  {
   "cell_type": "code",
   "execution_count": 367,
   "metadata": {},
   "outputs": [
    {
     "data": {
      "text/plain": [
       "<AxesSubplot:xlabel='Feature', ylabel='Correlation'>"
      ]
     },
     "execution_count": 367,
     "metadata": {},
     "output_type": "execute_result"
    },
    {
     "data": {
      "image/png": "[encoded data removed]",
      "text/plain": [
       "<Figure size 720x432 with 1 Axes>"
      ]
     },
     "metadata": {
      "needs_background": "light"
     },
     "output_type": "display_data"
    }
   ],
   "source": [
    "corr_df = combine_ml_df.corr()\n",
    "\n",
    "# Extract the correlation values for the '40 Yard' column\n",
    "corr_40_yard = corr_df['40 Yard'].drop('40 Yard')  # Exclude the '40 Yard' itself to avoid a perfect correlation value of 1\n",
    "\n",
    "# Convert to a DataFrame for easier plotting\n",
    "corr_40_yard_df = corr_40_yard.reset_index()\n",
    "corr_40_yard_df.columns = ['Feature', 'Correlation']\n",
    "\n",
    "# Sort by correlation values for better visualization\n",
    "corr_40_yard_df = corr_40_yard_df.sort_values(by='Correlation', ascending=False)\n",
    "\n",
    "# Create a vertical bar chart\n",
    "plt.figure(figsize=(10, 6))\n",
    "sns.barplot(data=corr_40_yard_df, x='Feature', y='Correlation', palette='viridis')"
   ]
  },
  {
   "cell_type": "code",
   "execution_count": 368,
   "metadata": {},
   "outputs": [
    {
     "data": {
      "text/plain": [
       "<AxesSubplot:xlabel='Feature', ylabel='Correlation'>"
      ]
     },
     "execution_count": 368,
     "metadata": {},
     "output_type": "execute_result"
    },
    {
     "data": {
      "image/png": "[encoded data removed]",
      "text/plain": [
       "<Figure size 720x432 with 1 Axes>"
      ]
     },
     "metadata": {
      "needs_background": "light"
     },
     "output_type": "display_data"
    }
   ],
   "source": [
    "# Extract the correlation values for the 'Bench Press' column\n",
    "corr_bench = corr_df['Bench Press'].drop('Bench Press')  # Exclude the '40 Yard' itself to avoid a perfect correlation value of 1\n",
    "\n",
    "# Convert to a DataFrame for easier plotting\n",
    "corr_bench_df = corr_bench.reset_index()\n",
    "corr_bench_df.columns = ['Feature', 'Correlation']\n",
    "\n",
    "# Sort by correlation values for better visualization\n",
    "corr_bench_df = corr_bench_df.sort_values(by='Correlation', ascending=False)\n",
    "\n",
    "# Create a vertical bar chart\n",
    "plt.figure(figsize=(10, 6))\n",
    "sns.barplot(data=corr_bench_df, x='Feature', y='Correlation', palette='viridis')"
   ]
  },
  {
   "cell_type": "markdown",
   "metadata": {},
   "source": [
    "## Modeling\n",
    "\n",
    "For this project I want to see if I can determine what position a player will be based of their performance in the NFL combine. I'll use position as the target and the other features determining characteristics.\n",
    "\n",
    "### We're going to try:\n",
    "1. K-Nearest Neighbors\n",
    "2. Random Forest\n",
    "3. Logistic Regression"
   ]
  },
  {
   "cell_type": "code",
   "execution_count": 369,
   "metadata": {},
   "outputs": [],
   "source": [
    "# Split the data into X and y\n",
    "\n",
    "X = combine_ml_df.drop(columns=['POS','Name','College'])\n",
    "y = combine_ml_df['POS']\n",
    "\n",
    "np.random.seed(42)\n",
    "\n",
    "X_train, X_test, y_train, y_test = train_test_split(X, y, test_size=0.2)"
   ]
  },
  {
   "cell_type": "code",
   "execution_count": 25,
   "metadata": {},
   "outputs": [],
   "source": [
    "# Create dicitionary of models for quick access and testing.\n",
    "models = {\"Logistic Regression\": LogisticRegression(),\n",
    "          \"KNN\": KNeighborsClassifier(),\n",
    "          \"Random Forest\": RandomForestClassifier()}\n",
    "\n",
    "# Create a function to fit and score models\n",
    "def fit_and_score(models, X_train, X_test, y_train, y_test):\n",
    "    \"\"\"\n",
    "    Fits and evaluates given machine learning models.\n",
    "    models : a dict of different Scikit-Learn machine learning models\n",
    "    X_train : training data (no labels)\n",
    "    X_test : testing data (no labels)\n",
    "    y_train : training labels\n",
    "    y_test : test labels\n",
    "    \"\"\"\n",
    "\n",
    "    # Set random seed\n",
    "    np.random.seed(42)\n",
    "\n",
    "    # Make a dictionary to keep model scores\n",
    "    model_scores = {}\n",
    "\n",
    "    # Loop through models\n",
    "    for name, model in models.items(): \n",
    "\n",
    "        # Fit the model to the data\n",
    "        model.fit(X_train, y_train)\n",
    "\n",
    "        # Evaluate the model and append its score to model_score\n",
    "        model_scores[name] = model.score(X_test, y_test)\n",
    "\n",
    "    return model_scores\n",
    "\n"
   ]
  },
  {
   "cell_type": "code",
   "execution_count": 317,
   "metadata": {},
   "outputs": [
    {
     "name": "stderr",
     "output_type": "stream",
     "text": [
      "c:\\Users\\seanc\\anaconda3\\envs\\PythonData\\lib\\site-packages\\sklearn\\linear_model\\_logistic.py:765: ConvergenceWarning: lbfgs failed to converge (status=1):\n",
      "STOP: TOTAL NO. of ITERATIONS REACHED LIMIT.\n",
      "\n",
      "Increase the number of iterations (max_iter) or scale the data as shown in:\n",
      "    https://scikit-learn.org/stable/modules/preprocessing.html\n",
      "Please also refer to the documentation for alternative solver options:\n",
      "    https://scikit-learn.org/stable/modules/linear_model.html#logistic-regression\n",
      "  extra_warning_msg=_LOGISTIC_SOLVER_CONVERGENCE_MSG)\n"
     ]
    },
    {
     "data": {
      "text/plain": [
       "{'Logistic Regression': 0.3954171562867215,\n",
       " 'KNN': 0.4236192714453584,\n",
       " 'Random Forest': 0.5323149236192715}"
      ]
     },
     "execution_count": 317,
     "metadata": {},
     "output_type": "execute_result"
    }
   ],
   "source": [
    "models_scores = fit_and_score(models, X_train, X_test, y_train, y_test)\n",
    "models_scores"
   ]
  },
  {
   "cell_type": "code",
   "execution_count": 318,
   "metadata": {},
   "outputs": [
    {
     "data": {
      "image/png": "[encoded data removed]",
      "text/plain": [
       "<Figure size 432x288 with 1 Axes>"
      ]
     },
     "metadata": {
      "needs_background": "light"
     },
     "output_type": "display_data"
    }
   ],
   "source": [
    "model_compare = pd.DataFrame(models_scores, index=[\"accuracy\"])\n",
    "model_compare.T.plot.bar();"
   ]
  },
  {
   "cell_type": "markdown",
   "metadata": {},
   "source": [
    "These results are far from ideal. The first step we might take to improve the model is to refine the data. \n",
    "\n",
    "- We'll start by consolidating or removing positions that have very few occurances."
   ]
  },
  {
   "cell_type": "code",
   "execution_count": 319,
   "metadata": {},
   "outputs": [
    {
     "data": {
      "text/plain": [
       "WR     1874\n",
       "CB     1445\n",
       "RB     1248\n",
       "DE     1084\n",
       "OT     1072\n",
       "DT     1050\n",
       "OLB    1037\n",
       "OG      872\n",
       "TE      804\n",
       "QB      769\n",
       "ILB     572\n",
       "FS      548\n",
       "SS      500\n",
       "C       453\n",
       "FB      318\n",
       "P       163\n",
       "K       145\n",
       "LB       91\n",
       "S        53\n",
       "LS       26\n",
       "EDG      22\n",
       "OL       10\n",
       "DL        4\n",
       "DB        3\n",
       "NT        1\n",
       "Name: POS, dtype: int64"
      ]
     },
     "execution_count": 319,
     "metadata": {},
     "output_type": "execute_result"
    }
   ],
   "source": [
    "# Check original dataset\n",
    "combine_raw_df['POS'].value_counts()"
   ]
  },
  {
   "cell_type": "code",
   "execution_count": 320,
   "metadata": {},
   "outputs": [
    {
     "data": {
      "text/plain": [
       "CB     950\n",
       "RB     789\n",
       "OT     761\n",
       "DE     754\n",
       "WR     748\n",
       "DT     739\n",
       "OLB    720\n",
       "OG     629\n",
       "TE     579\n",
       "ILB    393\n",
       "FS     387\n",
       "C      335\n",
       "SS     333\n",
       "FB     228\n",
       "LB      51\n",
       "QB      37\n",
       "S       27\n",
       "EDG     16\n",
       "LS      14\n",
       "OL       6\n",
       "P        4\n",
       "DB       3\n",
       "K        3\n",
       "DL       2\n",
       "NT       1\n",
       "Name: POS, dtype: int64"
      ]
     },
     "execution_count": 320,
     "metadata": {},
     "output_type": "execute_result"
    }
   ],
   "source": [
    "# Check current dataset\n",
    "combine_ml_df['POS'].value_counts()"
   ]
  },
  {
   "cell_type": "markdown",
   "metadata": {},
   "source": [
    "One of the biggest differences is the change in the number of QB rows. Clearly QB's don't participate in every event.  "
   ]
  },
  {
   "cell_type": "code",
   "execution_count": 370,
   "metadata": {},
   "outputs": [
    {
     "data": {
      "text/plain": [
       "Year                 0\n",
       "Name                 0\n",
       "College              0\n",
       "POS                  0\n",
       "Height (in)          0\n",
       "Weight (lbs)         0\n",
       "BMI                  0\n",
       "40 Yard             93\n",
       "Bench Press        723\n",
       "Vert Leap (in)     125\n",
       "Broad Jump (in)    123\n",
       "Shuttle            154\n",
       "3Cone              651\n",
       "dtype: int64"
      ]
     },
     "execution_count": 370,
     "metadata": {},
     "output_type": "execute_result"
    }
   ],
   "source": [
    "# Get sum of null values for QB positions\n",
    "combine_raw_df[combine_raw_df['POS'] == 'QB'].isnull().sum()\n"
   ]
  },
  {
   "cell_type": "markdown",
   "metadata": {},
   "source": [
    "From this data it would appear that most QBs opt out of the bench press and 3 cone events. In this case we have a few options, like replacing the null values for the bench press with the average value for the QBs taht did decide to participate, but assuming future QBs could continue to opt out it it may not be the best option for prediction. In this case we'll drop the bench press and 3Cone events."
   ]
  },
  {
   "cell_type": "code",
   "execution_count": 379,
   "metadata": {},
   "outputs": [
    {
     "data": {
      "text/plain": [
       "WR     1462\n",
       "CB     1106\n",
       "RB      887\n",
       "OT      858\n",
       "DE      835\n",
       "OLB     811\n",
       "DT      808\n",
       "OG      706\n",
       "TE      655\n",
       "QB      587\n",
       "ILB     445\n",
       "FS      433\n",
       "SS      380\n",
       "C       361\n",
       "FB      252\n",
       "LB       57\n",
       "Name: POS, dtype: int64"
      ]
     },
     "execution_count": 379,
     "metadata": {},
     "output_type": "execute_result"
    }
   ],
   "source": [
    "# combine_df['Bench Press'].fillna([combine_df['POS'] == 'QB']['Bench Press'].mean(), inplace=True)\n",
    "\n",
    "# combine_df.loc[(combine_df[\"POS\"] == \"QB\")]['Bench Press'].fillna(combine_df[combine_df['POS'] == 'QB']['Bench Press'].mean(), inplace=True)\n",
    "\n",
    "combine_ml_df = combine_raw_df.drop(columns=['Bench Press', '3Cone'])\n",
    "\n",
    "combine_ml_df.dropna(inplace=True)\n",
    "\n",
    "combine_ml_df = combine_ml_df[~combine_ml_df['POS'].isin(['P', 'S', 'K', 'DL', 'LS', 'EDG', 'OL', 'DL', 'DB', 'NT'])]\n",
    "\n",
    "# Check current dataset\n",
    "combine_ml_df['POS'].value_counts()\n"
   ]
  },
  {
   "cell_type": "markdown",
   "metadata": {},
   "source": [
    "We may also want to combine some positions. Although there are some diffrences between ILB and OLB for example, they are similar."
   ]
  },
  {
   "cell_type": "code",
   "execution_count": 378,
   "metadata": {},
   "outputs": [
    {
     "data": {
      "text/html": [
       "<div>\n",
       "<style scoped>\n",
       "    .dataframe tbody tr th:only-of-type {\n",
       "        vertical-align: middle;\n",
       "    }\n",
       "\n",
       "    .dataframe tbody tr th {\n",
       "        vertical-align: top;\n",
       "    }\n",
       "\n",
       "    .dataframe thead th {\n",
       "        text-align: right;\n",
       "    }\n",
       "</style>\n",
       "<table border=\"1\" class=\"dataframe\">\n",
       "  <thead>\n",
       "    <tr style=\"text-align: right;\">\n",
       "      <th></th>\n",
       "      <th>Year</th>\n",
       "      <th>Name</th>\n",
       "      <th>College</th>\n",
       "      <th>POS</th>\n",
       "      <th>Height (in)</th>\n",
       "      <th>Weight (lbs)</th>\n",
       "      <th>BMI</th>\n",
       "      <th>40 Yard</th>\n",
       "      <th>Bench Press</th>\n",
       "      <th>Vert Leap (in)</th>\n",
       "      <th>Broad Jump (in)</th>\n",
       "      <th>Shuttle</th>\n",
       "      <th>3Cone</th>\n",
       "    </tr>\n",
       "  </thead>\n",
       "  <tbody>\n",
       "    <tr>\n",
       "      <th>0</th>\n",
       "      <td>1987</td>\n",
       "      <td>Mike Adams</td>\n",
       "      <td>Arizona State</td>\n",
       "      <td>CB</td>\n",
       "      <td>69.8</td>\n",
       "      <td>198.0</td>\n",
       "      <td>28.6</td>\n",
       "      <td>4.42</td>\n",
       "      <td>13.0</td>\n",
       "      <td>32.0</td>\n",
       "      <td>118.0</td>\n",
       "      <td>4.60</td>\n",
       "      <td>NaN</td>\n",
       "    </tr>\n",
       "    <tr>\n",
       "      <th>1</th>\n",
       "      <td>1987</td>\n",
       "      <td>John Adickes</td>\n",
       "      <td>Baylor</td>\n",
       "      <td>C</td>\n",
       "      <td>74.8</td>\n",
       "      <td>266.0</td>\n",
       "      <td>33.4</td>\n",
       "      <td>4.97</td>\n",
       "      <td>25.0</td>\n",
       "      <td>26.5</td>\n",
       "      <td>103.0</td>\n",
       "      <td>4.60</td>\n",
       "      <td>NaN</td>\n",
       "    </tr>\n",
       "    <tr>\n",
       "      <th>2</th>\n",
       "      <td>1987</td>\n",
       "      <td>Tommy Agee</td>\n",
       "      <td>Auburn</td>\n",
       "      <td>FB</td>\n",
       "      <td>71.8</td>\n",
       "      <td>217.0</td>\n",
       "      <td>29.6</td>\n",
       "      <td>NaN</td>\n",
       "      <td>15.0</td>\n",
       "      <td>NaN</td>\n",
       "      <td>NaN</td>\n",
       "      <td>NaN</td>\n",
       "      <td>NaN</td>\n",
       "    </tr>\n",
       "    <tr>\n",
       "      <th>3</th>\n",
       "      <td>1987</td>\n",
       "      <td>David Alexander</td>\n",
       "      <td>Tulsa (OK)</td>\n",
       "      <td>C</td>\n",
       "      <td>75.0</td>\n",
       "      <td>279.0</td>\n",
       "      <td>34.9</td>\n",
       "      <td>5.13</td>\n",
       "      <td>22.0</td>\n",
       "      <td>27.5</td>\n",
       "      <td>105.0</td>\n",
       "      <td>4.33</td>\n",
       "      <td>NaN</td>\n",
       "    </tr>\n",
       "    <tr>\n",
       "      <th>4</th>\n",
       "      <td>1987</td>\n",
       "      <td>Lyneal Alston</td>\n",
       "      <td>Southern Mississippi</td>\n",
       "      <td>WR</td>\n",
       "      <td>72.1</td>\n",
       "      <td>202.0</td>\n",
       "      <td>27.3</td>\n",
       "      <td>4.64</td>\n",
       "      <td>7.0</td>\n",
       "      <td>32.0</td>\n",
       "      <td>114.0</td>\n",
       "      <td>4.52</td>\n",
       "      <td>NaN</td>\n",
       "    </tr>\n",
       "  </tbody>\n",
       "</table>\n",
       "</div>"
      ],
      "text/plain": [
       "   Year             Name               College POS  Height (in)  Weight (lbs)  \\\n",
       "0  1987       Mike Adams         Arizona State  CB         69.8         198.0   \n",
       "1  1987     John Adickes                Baylor   C         74.8         266.0   \n",
       "2  1987       Tommy Agee                Auburn  FB         71.8         217.0   \n",
       "3  1987  David Alexander            Tulsa (OK)   C         75.0         279.0   \n",
       "4  1987    Lyneal Alston  Southern Mississippi  WR         72.1         202.0   \n",
       "\n",
       "    BMI  40 Yard  Bench Press  Vert Leap (in)  Broad Jump (in)  Shuttle  3Cone  \n",
       "0  28.6     4.42         13.0            32.0            118.0     4.60    NaN  \n",
       "1  33.4     4.97         25.0            26.5            103.0     4.60    NaN  \n",
       "2  29.6      NaN         15.0             NaN              NaN      NaN    NaN  \n",
       "3  34.9     5.13         22.0            27.5            105.0     4.33    NaN  \n",
       "4  27.3     4.64          7.0            32.0            114.0     4.52    NaN  "
      ]
     },
     "execution_count": 378,
     "metadata": {},
     "output_type": "execute_result"
    }
   ],
   "source": [
    "combine_raw_df.head()"
   ]
  },
  {
   "cell_type": "code",
   "execution_count": 323,
   "metadata": {},
   "outputs": [
    {
     "name": "stderr",
     "output_type": "stream",
     "text": [
      "c:\\Users\\seanc\\anaconda3\\envs\\PythonData\\lib\\site-packages\\pandas\\core\\series.py:4515: SettingWithCopyWarning: \n",
      "A value is trying to be set on a copy of a slice from a DataFrame\n",
      "\n",
      "See the caveats in the documentation: https://pandas.pydata.org/pandas-docs/stable/user_guide/indexing.html#returning-a-view-versus-a-copy\n",
      "  method=method,\n"
     ]
    },
    {
     "data": {
      "text/plain": [
       "CB    1467\n",
       "WR    1462\n",
       "LB    1313\n",
       "RB    1139\n",
       "OT     858\n",
       "DE     835\n",
       "S      813\n",
       "DT     808\n",
       "OG     706\n",
       "TE     655\n",
       "QB     587\n",
       "Name: POS, dtype: int64"
      ]
     },
     "execution_count": 323,
     "metadata": {},
     "output_type": "execute_result"
    }
   ],
   "source": [
    "combine_ml_df['POS'].replace('FB', 'RB', inplace=True)\n",
    "combine_ml_df['POS'].replace('C', 'CB', inplace=True)\n",
    "combine_ml_df['POS'].replace('SS', 'S', inplace=True)\n",
    "combine_ml_df['POS'].replace('FS', 'S', inplace=True)\n",
    "combine_ml_df['POS'].replace('FB', 'RB', inplace=True)\n",
    "combine_ml_df['POS'].replace('ILB', 'LB', inplace=True)\n",
    "combine_ml_df['POS'].replace('OLB', 'LB', inplace=True)\n",
    "\n",
    "combine_ml_df['POS'].value_counts()\n"
   ]
  },
  {
   "cell_type": "code",
   "execution_count": 324,
   "metadata": {},
   "outputs": [
    {
     "data": {
      "text/html": [
       "<div>\n",
       "<style scoped>\n",
       "    .dataframe tbody tr th:only-of-type {\n",
       "        vertical-align: middle;\n",
       "    }\n",
       "\n",
       "    .dataframe tbody tr th {\n",
       "        vertical-align: top;\n",
       "    }\n",
       "\n",
       "    .dataframe thead th {\n",
       "        text-align: right;\n",
       "    }\n",
       "</style>\n",
       "<table border=\"1\" class=\"dataframe\">\n",
       "  <thead>\n",
       "    <tr style=\"text-align: right;\">\n",
       "      <th></th>\n",
       "      <th>Year</th>\n",
       "      <th>Name</th>\n",
       "      <th>College</th>\n",
       "      <th>POS</th>\n",
       "      <th>Height (in)</th>\n",
       "      <th>Weight (lbs)</th>\n",
       "      <th>BMI</th>\n",
       "      <th>40 Yard</th>\n",
       "      <th>Vert Leap (in)</th>\n",
       "      <th>Broad Jump (in)</th>\n",
       "      <th>Shuttle</th>\n",
       "    </tr>\n",
       "  </thead>\n",
       "  <tbody>\n",
       "    <tr>\n",
       "      <th>0</th>\n",
       "      <td>1987</td>\n",
       "      <td>Mike Adams</td>\n",
       "      <td>Arizona State</td>\n",
       "      <td>CB</td>\n",
       "      <td>69.8</td>\n",
       "      <td>198.0</td>\n",
       "      <td>28.6</td>\n",
       "      <td>4.42</td>\n",
       "      <td>32.0</td>\n",
       "      <td>118.0</td>\n",
       "      <td>4.60</td>\n",
       "    </tr>\n",
       "    <tr>\n",
       "      <th>1</th>\n",
       "      <td>1987</td>\n",
       "      <td>John Adickes</td>\n",
       "      <td>Baylor</td>\n",
       "      <td>CB</td>\n",
       "      <td>74.8</td>\n",
       "      <td>266.0</td>\n",
       "      <td>33.4</td>\n",
       "      <td>4.97</td>\n",
       "      <td>26.5</td>\n",
       "      <td>103.0</td>\n",
       "      <td>4.60</td>\n",
       "    </tr>\n",
       "    <tr>\n",
       "      <th>3</th>\n",
       "      <td>1987</td>\n",
       "      <td>David Alexander</td>\n",
       "      <td>Tulsa (OK)</td>\n",
       "      <td>CB</td>\n",
       "      <td>75.0</td>\n",
       "      <td>279.0</td>\n",
       "      <td>34.9</td>\n",
       "      <td>5.13</td>\n",
       "      <td>27.5</td>\n",
       "      <td>105.0</td>\n",
       "      <td>4.33</td>\n",
       "    </tr>\n",
       "    <tr>\n",
       "      <th>4</th>\n",
       "      <td>1987</td>\n",
       "      <td>Lyneal Alston</td>\n",
       "      <td>Southern Mississippi</td>\n",
       "      <td>WR</td>\n",
       "      <td>72.1</td>\n",
       "      <td>202.0</td>\n",
       "      <td>27.3</td>\n",
       "      <td>4.64</td>\n",
       "      <td>32.0</td>\n",
       "      <td>114.0</td>\n",
       "      <td>4.52</td>\n",
       "    </tr>\n",
       "    <tr>\n",
       "      <th>5</th>\n",
       "      <td>1987</td>\n",
       "      <td>Steve Alvord</td>\n",
       "      <td>Washington</td>\n",
       "      <td>DE</td>\n",
       "      <td>76.5</td>\n",
       "      <td>273.0</td>\n",
       "      <td>32.8</td>\n",
       "      <td>4.86</td>\n",
       "      <td>28.5</td>\n",
       "      <td>108.0</td>\n",
       "      <td>4.49</td>\n",
       "    </tr>\n",
       "  </tbody>\n",
       "</table>\n",
       "</div>"
      ],
      "text/plain": [
       "   Year             Name               College POS  Height (in)  Weight (lbs)  \\\n",
       "0  1987       Mike Adams         Arizona State  CB         69.8         198.0   \n",
       "1  1987     John Adickes                Baylor  CB         74.8         266.0   \n",
       "3  1987  David Alexander            Tulsa (OK)  CB         75.0         279.0   \n",
       "4  1987    Lyneal Alston  Southern Mississippi  WR         72.1         202.0   \n",
       "5  1987     Steve Alvord            Washington  DE         76.5         273.0   \n",
       "\n",
       "    BMI  40 Yard  Vert Leap (in)  Broad Jump (in)  Shuttle  \n",
       "0  28.6     4.42            32.0            118.0     4.60  \n",
       "1  33.4     4.97            26.5            103.0     4.60  \n",
       "3  34.9     5.13            27.5            105.0     4.33  \n",
       "4  27.3     4.64            32.0            114.0     4.52  \n",
       "5  32.8     4.86            28.5            108.0     4.49  "
      ]
     },
     "execution_count": 324,
     "metadata": {},
     "output_type": "execute_result"
    }
   ],
   "source": [
    "combine_ml_df.head()"
   ]
  },
  {
   "cell_type": "code",
   "execution_count": 325,
   "metadata": {},
   "outputs": [
    {
     "name": "stderr",
     "output_type": "stream",
     "text": [
      "c:\\Users\\seanc\\anaconda3\\envs\\PythonData\\lib\\site-packages\\sklearn\\linear_model\\_logistic.py:765: ConvergenceWarning: lbfgs failed to converge (status=1):\n",
      "STOP: TOTAL NO. of ITERATIONS REACHED LIMIT.\n",
      "\n",
      "Increase the number of iterations (max_iter) or scale the data as shown in:\n",
      "    https://scikit-learn.org/stable/modules/preprocessing.html\n",
      "Please also refer to the documentation for alternative solver options:\n",
      "    https://scikit-learn.org/stable/modules/linear_model.html#logistic-regression\n",
      "  extra_warning_msg=_LOGISTIC_SOLVER_CONVERGENCE_MSG)\n"
     ]
    },
    {
     "data": {
      "text/html": [
       "<div>\n",
       "<style scoped>\n",
       "    .dataframe tbody tr th:only-of-type {\n",
       "        vertical-align: middle;\n",
       "    }\n",
       "\n",
       "    .dataframe tbody tr th {\n",
       "        vertical-align: top;\n",
       "    }\n",
       "\n",
       "    .dataframe thead th {\n",
       "        text-align: right;\n",
       "    }\n",
       "</style>\n",
       "<table border=\"1\" class=\"dataframe\">\n",
       "  <thead>\n",
       "    <tr style=\"text-align: right;\">\n",
       "      <th></th>\n",
       "      <th>Logistic Regression</th>\n",
       "      <th>KNN</th>\n",
       "      <th>Random Forest</th>\n",
       "    </tr>\n",
       "  </thead>\n",
       "  <tbody>\n",
       "    <tr>\n",
       "      <th>accuracy</th>\n",
       "      <td>0.377172</td>\n",
       "      <td>0.495068</td>\n",
       "      <td>0.580554</td>\n",
       "    </tr>\n",
       "  </tbody>\n",
       "</table>\n",
       "</div>"
      ],
      "text/plain": [
       "          Logistic Regression       KNN  Random Forest\n",
       "accuracy             0.377172  0.495068       0.580554"
      ]
     },
     "execution_count": 325,
     "metadata": {},
     "output_type": "execute_result"
    }
   ],
   "source": [
    "# Split the data into X and y again\n",
    "\n",
    "X = combine_ml_df.drop(columns=['POS','Name','College'])\n",
    "y = combine_ml_df['POS']\n",
    "\n",
    "np.random.seed(42)\n",
    "\n",
    "X_train, X_test, y_train, y_test = train_test_split(X, y, test_size=0.2)\n",
    "\n",
    "models_scores = fit_and_score(models, X_train, X_test, y_train, y_test)\n",
    "\n",
    "model_compare = pd.DataFrame(models_scores, index=[\"accuracy\"])\n",
    "model_compare"
   ]
  },
  {
   "cell_type": "code",
   "execution_count": 326,
   "metadata": {},
   "outputs": [
    {
     "data": {
      "text/plain": [
       "[0.9997650927883486,\n",
       " 0.7081277895231384,\n",
       " 0.6935635424007517,\n",
       " 0.6602067183462532,\n",
       " 0.6398872445384073,\n",
       " 0.6237961005402866,\n",
       " 0.6198026779422128,\n",
       " 0.6145172656800564,\n",
       " 0.6075875029363401,\n",
       " 0.5996006577401927,\n",
       " 0.5964294103828988,\n",
       " 0.5886774723984026,\n",
       " 0.5857411322527601,\n",
       " 0.5845665961945031,\n",
       " 0.5766972046041814,\n",
       " 0.5756401221517501,\n",
       " 0.5730561428235846,\n",
       " 0.5711768851303735,\n",
       " 0.5709419779187221,\n",
       " 0.5669485553206484]"
      ]
     },
     "execution_count": 326,
     "metadata": {},
     "output_type": "execute_result"
    }
   ],
   "source": [
    "# Let's tune KNN\n",
    "\n",
    "train_scores = []\n",
    "test_scores = []\n",
    "\n",
    "# Create a list of different values for n_neighbors\n",
    "neighbors = range(1, 21)\n",
    "\n",
    "# Setup KNN instance\n",
    "knn = KNeighborsClassifier()\n",
    "\n",
    "# Loop through different n_neighbors\n",
    "for i in neighbors:\n",
    "    knn.set_params(n_neighbors=i)\n",
    "    \n",
    "    # Fit the algorithm\n",
    "    knn.fit(X_train,y_train)\n",
    "    \n",
    "    # Update the training scores list\n",
    "    train_scores.append(knn.score(X_train, y_train))\n",
    "    \n",
    "    # Update the test scres list\n",
    "    test_scores.append(knn.score(X_test, y_test))\n",
    "\n",
    "train_scores"
   ]
  },
  {
   "cell_type": "code",
   "execution_count": 327,
   "metadata": {},
   "outputs": [
    {
     "data": {
      "text/plain": [
       "[0.4504462188821043,\n",
       " 0.4579614842649131,\n",
       " 0.47017379051197744,\n",
       " 0.480037576326914,\n",
       " 0.4950681070925317,\n",
       " 0.5068107092531705,\n",
       " 0.5091592296852983,\n",
       " 0.5124471582902771,\n",
       " 0.5152653828088304,\n",
       " 0.5180836073273838,\n",
       " 0.5232503522780648,\n",
       " 0.5194927195866604,\n",
       " 0.5340535462658526,\n",
       " 0.5345232503522781,\n",
       " 0.5270079849694692,\n",
       " 0.5340535462658526,\n",
       " 0.5307656176608736,\n",
       " 0.5364020666979803,\n",
       " 0.5317050258337247,\n",
       " 0.5326444340065759]"
      ]
     },
     "execution_count": 327,
     "metadata": {},
     "output_type": "execute_result"
    }
   ],
   "source": [
    "test_scores"
   ]
  },
  {
   "cell_type": "code",
   "execution_count": 328,
   "metadata": {},
   "outputs": [
    {
     "data": {
      "text/plain": [
       "<matplotlib.legend.Legend at 0x1dbbc19c408>"
      ]
     },
     "execution_count": 328,
     "metadata": {},
     "output_type": "execute_result"
    },
    {
     "data": {
      "image/png": "[encoded data removed]",
      "text/plain": [
       "<Figure size 432x288 with 1 Axes>"
      ]
     },
     "metadata": {
      "needs_background": "light"
     },
     "output_type": "display_data"
    }
   ],
   "source": [
    "plt.plot(neighbors, train_scores, label=\"Train score\")\n",
    "plt.plot(neighbors, test_scores, label=\"Test score\")\n",
    "plt.xticks(np.arange(1, 21, 1))\n",
    "plt.xlabel(\"Number of neighbors\")\n",
    "plt.ylabel(\"Model score\")\n",
    "plt.legend()"
   ]
  },
  {
   "cell_type": "markdown",
   "metadata": {},
   "source": [
    "## Hyperparam tuning with RandomizedSearchCV\n",
    "\n",
    "We're going to tune:\n",
    "* Logsitic Regression\n",
    "* Random Forest\n",
    "\n",
    ".... using RandomizedSearchCV"
   ]
  },
  {
   "cell_type": "code",
   "execution_count": 29,
   "metadata": {},
   "outputs": [],
   "source": [
    "# Create a hyperparam for Logistic Regression\n",
    "log_reg_grid = {\"C\" : np.logspace(-4, 4, 20),\n",
    "                \"solver\": [\"liblinear\"]}\n",
    "\n",
    "# Createt a hyperparam grid for RandomForestClassifier\n",
    "rf_grid = {\"n_estimators\": np.arange(10, 1000, 50),\n",
    "           \"max_depth\": [None, 3, 5, 10],\n",
    "           \"min_samples_split\": np.arange(2,20,2),\n",
    "           \"min_samples_leaf\": np.arange(1, 20, 2)}"
   ]
  },
  {
   "cell_type": "code",
   "execution_count": 330,
   "metadata": {},
   "outputs": [
    {
     "name": "stdout",
     "output_type": "stream",
     "text": [
      "Fitting 5 folds for each of 20 candidates, totalling 100 fits\n"
     ]
    },
    {
     "data": {
      "text/plain": [
       "RandomizedSearchCV(cv=5, estimator=LogisticRegression(), n_iter=20,\n",
       "                   param_distributions={'C': array([1.00000000e-04, 2.63665090e-04, 6.95192796e-04, 1.83298071e-03,\n",
       "       4.83293024e-03, 1.27427499e-02, 3.35981829e-02, 8.85866790e-02,\n",
       "       2.33572147e-01, 6.15848211e-01, 1.62377674e+00, 4.28133240e+00,\n",
       "       1.12883789e+01, 2.97635144e+01, 7.84759970e+01, 2.06913808e+02,\n",
       "       5.45559478e+02, 1.43844989e+03, 3.79269019e+03, 1.00000000e+04]),\n",
       "                                        'solver': ['liblinear']},\n",
       "                   verbose=True)"
      ]
     },
     "execution_count": 330,
     "metadata": {},
     "output_type": "execute_result"
    }
   ],
   "source": [
    "# Tune LogisiticRegression\n",
    "\n",
    "np.random.seed(42)\n",
    "\n",
    "# Setup random hyperparams search for Logistic Regression\n",
    "rs_log_reg = RandomizedSearchCV(LogisticRegression(),\n",
    "                                param_distributions=log_reg_grid,\n",
    "                                cv=5,\n",
    "                                n_iter=20,\n",
    "                                verbose=True)\n",
    "\n",
    "# Fit random hyperparam search model f  or LogisticRegression\n",
    "rs_log_reg.fit(X_train, y_train)"
   ]
  },
  {
   "cell_type": "code",
   "execution_count": 331,
   "metadata": {},
   "outputs": [
    {
     "data": {
      "text/plain": [
       "{'solver': 'liblinear', 'C': 1.623776739188721}"
      ]
     },
     "execution_count": 331,
     "metadata": {},
     "output_type": "execute_result"
    }
   ],
   "source": [
    "rs_log_reg.best_params_"
   ]
  },
  {
   "cell_type": "code",
   "execution_count": 332,
   "metadata": {},
   "outputs": [
    {
     "data": {
      "text/plain": [
       "0.46453734147487086"
      ]
     },
     "execution_count": 332,
     "metadata": {},
     "output_type": "execute_result"
    }
   ],
   "source": [
    "rs_log_reg.score(X_test, y_test)"
   ]
  },
  {
   "cell_type": "code",
   "execution_count": 333,
   "metadata": {},
   "outputs": [
    {
     "name": "stdout",
     "output_type": "stream",
     "text": [
      "Fitting 5 folds for each of 20 candidates, totalling 100 fits\n"
     ]
    },
    {
     "data": {
      "text/plain": [
       "RandomizedSearchCV(cv=5, estimator=RandomForestClassifier(), n_iter=20,\n",
       "                   param_distributions={'max_depth': [None, 3, 5, 10],\n",
       "                                        'min_samples_leaf': array([ 1,  3,  5,  7,  9, 11, 13, 15, 17, 19]),\n",
       "                                        'min_samples_split': array([ 2,  4,  6,  8, 10, 12, 14, 16, 18]),\n",
       "                                        'n_estimators': array([ 10,  60, 110, 160, 210, 260, 310, 360, 410, 460, 510, 560, 610,\n",
       "       660, 710, 760, 810, 860, 910, 960])},\n",
       "                   verbose=True)"
      ]
     },
     "execution_count": 333,
     "metadata": {},
     "output_type": "execute_result"
    }
   ],
   "source": [
    "np.random.seed(42)\n",
    "\n",
    "#Set up hyperparams for RFC\n",
    "rs_rf = RandomizedSearchCV(RandomForestClassifier(),\n",
    "                           param_distributions=rf_grid,\n",
    "                           cv=5,\n",
    "                           n_iter=20,\n",
    "                           verbose=True)\n",
    "\n",
    "# Fit random hyperparam search model for randomForestClassifier()\n",
    "rs_rf.fit(X_train, y_train)"
   ]
  },
  {
   "cell_type": "code",
   "execution_count": 334,
   "metadata": {},
   "outputs": [
    {
     "data": {
      "text/plain": [
       "{'n_estimators': 910,\n",
       " 'min_samples_split': 18,\n",
       " 'min_samples_leaf': 1,\n",
       " 'max_depth': 10}"
      ]
     },
     "execution_count": 334,
     "metadata": {},
     "output_type": "execute_result"
    }
   ],
   "source": [
    "# Find best hyperparameters\n",
    "rs_rf.best_params_"
   ]
  },
  {
   "cell_type": "code",
   "execution_count": 335,
   "metadata": {},
   "outputs": [
    {
     "data": {
      "text/plain": [
       "0.588069516204791"
      ]
     },
     "execution_count": 335,
     "metadata": {},
     "output_type": "execute_result"
    }
   ],
   "source": [
    "# Evaluate the randomized search cv\n",
    "rs_rf.score(X_test, y_test)"
   ]
  },
  {
   "cell_type": "markdown",
   "metadata": {},
   "source": [
    "### Let's try with XGBoost"
   ]
  },
  {
   "cell_type": "code",
   "execution_count": 336,
   "metadata": {},
   "outputs": [],
   "source": [
    "# Encode the classification values\n",
    "le = LabelEncoder()\n",
    "y_train_le = le.fit_transform(y_train)\n",
    "y_test_le = le.fit_transform(y_test)"
   ]
  },
  {
   "cell_type": "code",
   "execution_count": null,
   "metadata": {},
   "outputs": [
    {
     "data": {
      "text/plain": [
       "XGBClassifier(base_score=0.5, booster='gbtree', callbacks=None,\n",
       "              colsample_bylevel=1, colsample_bynode=1, colsample_bytree=1,\n",
       "              early_stopping_rounds=None, enable_categorical=False,\n",
       "              eval_metric=None, gamma=0, gpu_id=-1, grow_policy='depthwise',\n",
       "              importance_type=None, interaction_constraints='',\n",
       "              learning_rate=0.300000012, max_bin=256, max_cat_to_onehot=4,\n",
       "              max_delta_step=0, max_depth=6, max_leaves=0, min_child_weight=1,\n",
       "              missing=nan, monotone_constraints='()', n_estimators=100,\n",
       "              n_jobs=0, num_parallel_tree=1, objective='multi:softprob',\n",
       "              predictor='auto', random_state=0, reg_alpha=0, ...)"
      ]
     },
     "execution_count": 337,
     "metadata": {},
     "output_type": "execute_result"
    }
   ],
   "source": [
    "# fit model no training data\n",
    "model = XGBClassifier()\n",
    "model.fit(X_train, y_train_le)"
   ]
  },
  {
   "cell_type": "code",
   "execution_count": null,
   "metadata": {},
   "outputs": [
    {
     "data": {
      "text/plain": [
       "0.5659934241427901"
      ]
     },
     "execution_count": 338,
     "metadata": {},
     "output_type": "execute_result"
    }
   ],
   "source": [
    "model.score(X_test,y_test_le)"
   ]
  },
  {
   "cell_type": "code",
   "execution_count": 32,
   "metadata": {},
   "outputs": [
    {
     "ename": "NameError",
     "evalue": "name 'model' is not defined",
     "output_type": "error",
     "traceback": [
      "\u001b[1;31m---------------------------------------------------------------------------\u001b[0m",
      "\u001b[1;31mNameError\u001b[0m                                 Traceback (most recent call last)",
      "\u001b[1;32m<ipython-input-32-6afb9a4e6a0c>\u001b[0m in \u001b[0;36m<module>\u001b[1;34m\u001b[0m\n\u001b[0;32m      1\u001b[0m \u001b[1;32mfrom\u001b[0m \u001b[0msklearn\u001b[0m\u001b[1;33m.\u001b[0m\u001b[0mmetrics\u001b[0m \u001b[1;32mimport\u001b[0m \u001b[0mconfusion_matrix\u001b[0m\u001b[1;33m,\u001b[0m \u001b[0maccuracy_score\u001b[0m\u001b[1;33m\u001b[0m\u001b[1;33m\u001b[0m\u001b[0m\n\u001b[1;32m----> 2\u001b[1;33m \u001b[0my_pred\u001b[0m \u001b[1;33m=\u001b[0m \u001b[0mmodel\u001b[0m\u001b[1;33m.\u001b[0m\u001b[0mpredict\u001b[0m\u001b[1;33m(\u001b[0m\u001b[0mX_test\u001b[0m\u001b[1;33m)\u001b[0m\u001b[1;33m\u001b[0m\u001b[1;33m\u001b[0m\u001b[0m\n\u001b[0m\u001b[0;32m      3\u001b[0m \u001b[1;31m#y_pred = le.inverse_transform(y_pred)\u001b[0m\u001b[1;33m\u001b[0m\u001b[1;33m\u001b[0m\u001b[1;33m\u001b[0m\u001b[0m\n\u001b[0;32m      4\u001b[0m \u001b[1;33m\u001b[0m\u001b[0m\n\u001b[0;32m      5\u001b[0m \u001b[0maccuracy_score\u001b[0m\u001b[1;33m(\u001b[0m\u001b[0my_test_le\u001b[0m\u001b[1;33m,\u001b[0m \u001b[0my_pred\u001b[0m\u001b[1;33m)\u001b[0m\u001b[1;33m\u001b[0m\u001b[1;33m\u001b[0m\u001b[0m\n",
      "\u001b[1;31mNameError\u001b[0m: name 'model' is not defined"
     ]
    }
   ],
   "source": [
    "from sklearn.metrics import confusion_matrix, accuracy_score\n",
    "y_pred = model.predict(X_test)\n",
    "#y_pred = le.inverse_transform(y_pred)\n",
    "\n",
    "accuracy_score(y_test_le, y_pred)"
   ]
  },
  {
   "cell_type": "code",
   "execution_count": 340,
   "metadata": {},
   "outputs": [
    {
     "data": {
      "text/plain": [
       "11"
      ]
     },
     "execution_count": 340,
     "metadata": {},
     "output_type": "execute_result"
    }
   ],
   "source": [
    "len(y_train.unique())"
   ]
  },
  {
   "cell_type": "code",
   "execution_count": 341,
   "metadata": {},
   "outputs": [
    {
     "name": "stdout",
     "output_type": "stream",
     "text": [
      "[ 0  1  2  3  4  5  6  7  8  9 10]\n"
     ]
    }
   ],
   "source": [
    "val_list = np.unique(y_train_le)\n",
    "print(val_list)"
   ]
  },
  {
   "cell_type": "code",
   "execution_count": 342,
   "metadata": {},
   "outputs": [
    {
     "name": "stdout",
     "output_type": "stream",
     "text": [
      "[ 0  1  2  3  4  5  6  7  8  9 10]\n"
     ]
    }
   ],
   "source": [
    "val_list = np.unique(y_pred)\n",
    "print(val_list)"
   ]
  },
  {
   "cell_type": "code",
   "execution_count": 31,
   "metadata": {},
   "outputs": [],
   "source": [
    "# Create a grid to try and tune XGBoost\n",
    "xgb_grid = {\"max_depth\": [None, 3, 5, 10],\n",
    "            \"subsample\": np.arange(0.1,1,0.1),\n",
    "           \"colsample_bylevel\": np.arange(0.1,1,0.1),\n",
    "           \"colsample_bytree\": np.arange(0.1,1,0.1),\n",
    "           \"min_child_weight\": [1, 5, 25, 50, 100],\n",
    "           \"n_estimators\": [10,50,100,250,500,1000],\n",
    "           \"learning_rate\": np.arange(0.01,0.2,0.01)\n",
    "           }"
   ]
  },
  {
   "cell_type": "code",
   "execution_count": 39,
   "metadata": {},
   "outputs": [],
   "source": [
    "#Set up hyperparams for RFC\n",
    "rs_xgb = RandomizedSearchCV(XGBClassifier(),\n",
    "                           param_distributions=xgb_grid,\n",
    "                           cv=5,\n",
    "                           n_iter=20,\n",
    "                           verbose=True)\n"
   ]
  },
  {
   "cell_type": "code",
   "execution_count": 345,
   "metadata": {},
   "outputs": [
    {
     "name": "stdout",
     "output_type": "stream",
     "text": [
      "Fitting 5 folds for each of 20 candidates, totalling 100 fits\n"
     ]
    },
    {
     "data": {
      "text/plain": [
       "RandomizedSearchCV(cv=5,\n",
       "                   estimator=XGBClassifier(base_score=None, booster=None,\n",
       "                                           callbacks=None,\n",
       "                                           colsample_bylevel=None,\n",
       "                                           colsample_bynode=None,\n",
       "                                           colsample_bytree=None,\n",
       "                                           early_stopping_rounds=None,\n",
       "                                           enable_categorical=False,\n",
       "                                           eval_metric=None, gamma=None,\n",
       "                                           gpu_id=None, grow_policy=None,\n",
       "                                           importance_type=None,\n",
       "                                           interaction_constraints=None,\n",
       "                                           learning_rate=None, max_bin=None,...\n",
       "                                        'colsample_bytree': array([0.1, 0.2, 0.3, 0.4, 0.5, 0.6, 0.7, 0.8, 0.9]),\n",
       "                                        'learning_rate': array([0.01, 0.02, 0.03, 0.04, 0.05, 0.06, 0.07, 0.08, 0.09, 0.1 , 0.11,\n",
       "       0.12, 0.13, 0.14, 0.15, 0.16, 0.17, 0.18, 0.19]),\n",
       "                                        'max_depth': [None, 3, 5, 10],\n",
       "                                        'min_child_weight': [1, 5, 25, 50, 100],\n",
       "                                        'n_estimators': [10, 50, 100, 250, 500,\n",
       "                                                         1000],\n",
       "                                        'subsample': array([0.1, 0.2, 0.3, 0.4, 0.5, 0.6, 0.7, 0.8, 0.9])},\n",
       "                   verbose=True)"
      ]
     },
     "execution_count": 345,
     "metadata": {},
     "output_type": "execute_result"
    }
   ],
   "source": [
    "# Fit random hyperparam search model for randomForestClassifier()\n",
    "rs_xgb.fit(X_train, y_train_le)"
   ]
  },
  {
   "cell_type": "code",
   "execution_count": 346,
   "metadata": {},
   "outputs": [
    {
     "data": {
      "text/plain": [
       "{'subsample': 0.7000000000000001,\n",
       " 'n_estimators': 250,\n",
       " 'min_child_weight': 100,\n",
       " 'max_depth': 5,\n",
       " 'learning_rate': 0.12,\n",
       " 'colsample_bytree': 0.5,\n",
       " 'colsample_bylevel': 0.5}"
      ]
     },
     "execution_count": 346,
     "metadata": {},
     "output_type": "execute_result"
    }
   ],
   "source": [
    "# Find best hyperparameters\n",
    "rs_xgb.best_params_"
   ]
  },
  {
   "cell_type": "code",
   "execution_count": 347,
   "metadata": {},
   "outputs": [
    {
     "data": {
      "text/plain": [
       "0.5814936589948333"
      ]
     },
     "execution_count": 347,
     "metadata": {},
     "output_type": "execute_result"
    }
   ],
   "source": [
    "# Evaluate the randomized search cv\n",
    "rs_xgb.score(X_test, y_test_le)"
   ]
  },
  {
   "cell_type": "markdown",
   "metadata": {},
   "source": [
    "Despite years of input data it seems that it is difficult to accurately predict a player's position based on the combine performance, maybe becuase there are too many positions with overlap. Perhaps a different approach for classifying athletes would work."
   ]
  },
  {
   "cell_type": "markdown",
   "metadata": {},
   "source": []
  },
  {
   "cell_type": "markdown",
   "metadata": {},
   "source": [
    "# KMeans for Player Statistics\n",
    "\n",
    "Here we will:\n",
    "1. Import the KMeans algorithm.\n",
    "2. Group Players into clusters.\n",
    "3. Summarize the cluster results.\n",
    "4. Visualize the results,\n",
    "5. Use our categorization algorithms again to predict player classifications."
   ]
  },
  {
   "cell_type": "code",
   "execution_count": 10,
   "metadata": {},
   "outputs": [
    {
     "data": {
      "text/html": [
       "<div>\n",
       "<style scoped>\n",
       "    .dataframe tbody tr th:only-of-type {\n",
       "        vertical-align: middle;\n",
       "    }\n",
       "\n",
       "    .dataframe tbody tr th {\n",
       "        vertical-align: top;\n",
       "    }\n",
       "\n",
       "    .dataframe thead th {\n",
       "        text-align: right;\n",
       "    }\n",
       "</style>\n",
       "<table border=\"1\" class=\"dataframe\">\n",
       "  <thead>\n",
       "    <tr style=\"text-align: right;\">\n",
       "      <th></th>\n",
       "      <th>Year</th>\n",
       "      <th>Name</th>\n",
       "      <th>College</th>\n",
       "      <th>POS</th>\n",
       "      <th>Height (in)</th>\n",
       "      <th>Weight (lbs)</th>\n",
       "      <th>BMI</th>\n",
       "      <th>40 Yard</th>\n",
       "      <th>Bench Press</th>\n",
       "      <th>Vert Leap (in)</th>\n",
       "      <th>Broad Jump (in)</th>\n",
       "      <th>Shuttle</th>\n",
       "      <th>3Cone</th>\n",
       "    </tr>\n",
       "  </thead>\n",
       "  <tbody>\n",
       "    <tr>\n",
       "      <th>0</th>\n",
       "      <td>1987</td>\n",
       "      <td>Mike Adams</td>\n",
       "      <td>Arizona State</td>\n",
       "      <td>CB</td>\n",
       "      <td>69.8</td>\n",
       "      <td>198.0</td>\n",
       "      <td>28.6</td>\n",
       "      <td>4.42</td>\n",
       "      <td>13.0</td>\n",
       "      <td>32.0</td>\n",
       "      <td>118.0</td>\n",
       "      <td>4.60</td>\n",
       "      <td>NaN</td>\n",
       "    </tr>\n",
       "    <tr>\n",
       "      <th>1</th>\n",
       "      <td>1987</td>\n",
       "      <td>John Adickes</td>\n",
       "      <td>Baylor</td>\n",
       "      <td>C</td>\n",
       "      <td>74.8</td>\n",
       "      <td>266.0</td>\n",
       "      <td>33.4</td>\n",
       "      <td>4.97</td>\n",
       "      <td>25.0</td>\n",
       "      <td>26.5</td>\n",
       "      <td>103.0</td>\n",
       "      <td>4.60</td>\n",
       "      <td>NaN</td>\n",
       "    </tr>\n",
       "    <tr>\n",
       "      <th>2</th>\n",
       "      <td>1987</td>\n",
       "      <td>Tommy Agee</td>\n",
       "      <td>Auburn</td>\n",
       "      <td>FB</td>\n",
       "      <td>71.8</td>\n",
       "      <td>217.0</td>\n",
       "      <td>29.6</td>\n",
       "      <td>NaN</td>\n",
       "      <td>15.0</td>\n",
       "      <td>NaN</td>\n",
       "      <td>NaN</td>\n",
       "      <td>NaN</td>\n",
       "      <td>NaN</td>\n",
       "    </tr>\n",
       "    <tr>\n",
       "      <th>3</th>\n",
       "      <td>1987</td>\n",
       "      <td>David Alexander</td>\n",
       "      <td>Tulsa (OK)</td>\n",
       "      <td>C</td>\n",
       "      <td>75.0</td>\n",
       "      <td>279.0</td>\n",
       "      <td>34.9</td>\n",
       "      <td>5.13</td>\n",
       "      <td>22.0</td>\n",
       "      <td>27.5</td>\n",
       "      <td>105.0</td>\n",
       "      <td>4.33</td>\n",
       "      <td>NaN</td>\n",
       "    </tr>\n",
       "    <tr>\n",
       "      <th>4</th>\n",
       "      <td>1987</td>\n",
       "      <td>Lyneal Alston</td>\n",
       "      <td>Southern Mississippi</td>\n",
       "      <td>WR</td>\n",
       "      <td>72.1</td>\n",
       "      <td>202.0</td>\n",
       "      <td>27.3</td>\n",
       "      <td>4.64</td>\n",
       "      <td>7.0</td>\n",
       "      <td>32.0</td>\n",
       "      <td>114.0</td>\n",
       "      <td>4.52</td>\n",
       "      <td>NaN</td>\n",
       "    </tr>\n",
       "  </tbody>\n",
       "</table>\n",
       "</div>"
      ],
      "text/plain": [
       "   Year             Name               College POS  Height (in)  Weight (lbs)  \\\n",
       "0  1987       Mike Adams         Arizona State  CB         69.8         198.0   \n",
       "1  1987     John Adickes                Baylor   C         74.8         266.0   \n",
       "2  1987       Tommy Agee                Auburn  FB         71.8         217.0   \n",
       "3  1987  David Alexander            Tulsa (OK)   C         75.0         279.0   \n",
       "4  1987    Lyneal Alston  Southern Mississippi  WR         72.1         202.0   \n",
       "\n",
       "    BMI  40 Yard  Bench Press  Vert Leap (in)  Broad Jump (in)  Shuttle  3Cone  \n",
       "0  28.6     4.42         13.0            32.0            118.0     4.60    NaN  \n",
       "1  33.4     4.97         25.0            26.5            103.0     4.60    NaN  \n",
       "2  29.6      NaN         15.0             NaN              NaN      NaN    NaN  \n",
       "3  34.9     5.13         22.0            27.5            105.0     4.33    NaN  \n",
       "4  27.3     4.64          7.0            32.0            114.0     4.52    NaN  "
      ]
     },
     "execution_count": 10,
     "metadata": {},
     "output_type": "execute_result"
    }
   ],
   "source": [
    "# View the data again\n",
    "combine_df = combine_raw_df\n",
    "combine_df.head()"
   ]
  },
  {
   "cell_type": "code",
   "execution_count": 11,
   "metadata": {},
   "outputs": [
    {
     "data": {
      "text/plain": [
       "Year                   0\n",
       "Name                   0\n",
       "College                7\n",
       "POS                    0\n",
       "Height (in)            0\n",
       "Weight (lbs)           0\n",
       "BMI                    0\n",
       "40 Yard             1530\n",
       "Bench Press         3888\n",
       "Vert Leap (in)      1986\n",
       "Broad Jump (in)     2109\n",
       "Shuttle             3065\n",
       "3Cone              10354\n",
       "dtype: int64"
      ]
     },
     "execution_count": 11,
     "metadata": {},
     "output_type": "execute_result"
    }
   ],
   "source": [
    "combine_df.isna().sum()"
   ]
  },
  {
   "cell_type": "markdown",
   "metadata": {},
   "source": [
    "We need to get rid of the NaN values again. In this case we will eliminate NaN values, but only delete the 3Cone column. We won't be as worried about positions such as QB where Bench Press data is missing. We'll be more focused on how the algorithm classifies players based on the raw stats. "
   ]
  },
  {
   "cell_type": "code",
   "execution_count": 12,
   "metadata": {},
   "outputs": [
    {
     "name": "stdout",
     "output_type": "stream",
     "text": [
      "<class 'pandas.core.frame.DataFrame'>\n",
      "Int64Index: 10734 entries, 0 to 14160\n",
      "Data columns (total 11 columns):\n",
      " #   Column           Non-Null Count  Dtype  \n",
      "---  ------           --------------  -----  \n",
      " 0   Year             10734 non-null  int64  \n",
      " 1   Name             10734 non-null  object \n",
      " 2   College          10734 non-null  object \n",
      " 3   POS              10734 non-null  object \n",
      " 4   Height (in)      10734 non-null  float64\n",
      " 5   Weight (lbs)     10734 non-null  float64\n",
      " 6   BMI              10734 non-null  float64\n",
      " 7   40 Yard          10734 non-null  float64\n",
      " 8   Vert Leap (in)   10734 non-null  float64\n",
      " 9   Broad Jump (in)  10734 non-null  float64\n",
      " 10  Shuttle          10734 non-null  float64\n",
      "dtypes: float64(7), int64(1), object(3)\n",
      "memory usage: 1006.3+ KB\n"
     ]
    }
   ],
   "source": [
    "# Drop 3Cone and NaN Values\n",
    "combine_df= combine_df.drop(columns=['3Cone', 'Bench Press'])\n",
    "combine_df = combine_df.dropna()\n",
    "\n",
    "combine_df.info()"
   ]
  },
  {
   "cell_type": "code",
   "execution_count": 13,
   "metadata": {},
   "outputs": [
    {
     "data": {
      "text/plain": [
       "Year               0\n",
       "Name               0\n",
       "College            0\n",
       "POS                0\n",
       "Height (in)        0\n",
       "Weight (lbs)       0\n",
       "BMI                0\n",
       "40 Yard            0\n",
       "Vert Leap (in)     0\n",
       "Broad Jump (in)    0\n",
       "Shuttle            0\n",
       "dtype: int64"
      ]
     },
     "execution_count": 13,
     "metadata": {},
     "output_type": "execute_result"
    }
   ],
   "source": [
    "combine_df.isna().sum()"
   ]
  },
  {
   "cell_type": "code",
   "execution_count": 14,
   "metadata": {},
   "outputs": [
    {
     "data": {
      "image/png": "[encoded data removed]",
      "text/plain": [
       "<Figure size 432x288 with 1 Axes>"
      ]
     },
     "metadata": {
      "needs_background": "light"
     },
     "output_type": "display_data"
    }
   ],
   "source": [
    "# Import KMeans algorithm\n",
    "from sklearn.cluster import KMeans\n",
    "from sklearn.preprocessing import MinMaxScaler\n",
    "\n",
    "# Store categorical data seperately\n",
    "combine_categorical = combine_df.drop(columns=combine_df.columns[4:])\n",
    "\n",
    "# Get just values\n",
    "stats_df = combine_df.drop(columns=combine_df.columns[:4])\n",
    "\n",
    "# Scale stats\n",
    "scaler = MinMaxScaler()\n",
    "\n",
    "scaler.fit(stats_df)\n",
    "scaled_stats_df = scaler.transform(stats_df)\n",
    "\n",
    "# Test different values for k\n",
    "sum_of_squared_distances = []\n",
    "\n",
    "K = range(1,15)\n",
    "for k in K:\n",
    "    km = KMeans(n_clusters=k)\n",
    "    km = km.fit(scaled_stats_df)\n",
    "    sum_of_squared_distances.append(km.inertia_)\n",
    "\n",
    "# Plot the elbow chart\n",
    "plt.plot(K, sum_of_squared_distances, 'bx-')\n",
    "plt.xlabel('k')\n",
    "plt.ylabel('Sum_of_squared_distances')\n",
    "plt.title('Elbow Chart for Optimal k')\n",
    "plt.show()"
   ]
  },
  {
   "cell_type": "markdown",
   "metadata": {},
   "source": [
    "#### The elbow appears at 3 clusters, so that's what we'll try out. Next we'll run the model and combine the predicted clusters wit hthe original dataset."
   ]
  },
  {
   "cell_type": "code",
   "execution_count": 15,
   "metadata": {},
   "outputs": [
    {
     "data": {
      "text/html": [
       "<div>\n",
       "<style scoped>\n",
       "    .dataframe tbody tr th:only-of-type {\n",
       "        vertical-align: middle;\n",
       "    }\n",
       "\n",
       "    .dataframe tbody tr th {\n",
       "        vertical-align: top;\n",
       "    }\n",
       "\n",
       "    .dataframe thead th {\n",
       "        text-align: right;\n",
       "    }\n",
       "</style>\n",
       "<table border=\"1\" class=\"dataframe\">\n",
       "  <thead>\n",
       "    <tr style=\"text-align: right;\">\n",
       "      <th></th>\n",
       "      <th>Year</th>\n",
       "      <th>Name</th>\n",
       "      <th>College</th>\n",
       "      <th>POS</th>\n",
       "      <th>Height (in)</th>\n",
       "      <th>Weight (lbs)</th>\n",
       "      <th>BMI</th>\n",
       "      <th>40 Yard</th>\n",
       "      <th>Vert Leap (in)</th>\n",
       "      <th>Broad Jump (in)</th>\n",
       "      <th>Shuttle</th>\n",
       "      <th>Clusters</th>\n",
       "    </tr>\n",
       "  </thead>\n",
       "  <tbody>\n",
       "    <tr>\n",
       "      <th>0</th>\n",
       "      <td>1987</td>\n",
       "      <td>Mike Adams</td>\n",
       "      <td>Arizona State</td>\n",
       "      <td>CB</td>\n",
       "      <td>69.8</td>\n",
       "      <td>198.0</td>\n",
       "      <td>28.6</td>\n",
       "      <td>4.42</td>\n",
       "      <td>32.0</td>\n",
       "      <td>118.0</td>\n",
       "      <td>4.60</td>\n",
       "      <td>1</td>\n",
       "    </tr>\n",
       "    <tr>\n",
       "      <th>1</th>\n",
       "      <td>1987</td>\n",
       "      <td>John Adickes</td>\n",
       "      <td>Baylor</td>\n",
       "      <td>C</td>\n",
       "      <td>74.8</td>\n",
       "      <td>266.0</td>\n",
       "      <td>33.4</td>\n",
       "      <td>4.97</td>\n",
       "      <td>26.5</td>\n",
       "      <td>103.0</td>\n",
       "      <td>4.60</td>\n",
       "      <td>0</td>\n",
       "    </tr>\n",
       "    <tr>\n",
       "      <th>3</th>\n",
       "      <td>1987</td>\n",
       "      <td>David Alexander</td>\n",
       "      <td>Tulsa (OK)</td>\n",
       "      <td>C</td>\n",
       "      <td>75.0</td>\n",
       "      <td>279.0</td>\n",
       "      <td>34.9</td>\n",
       "      <td>5.13</td>\n",
       "      <td>27.5</td>\n",
       "      <td>105.0</td>\n",
       "      <td>4.33</td>\n",
       "      <td>2</td>\n",
       "    </tr>\n",
       "    <tr>\n",
       "      <th>4</th>\n",
       "      <td>1987</td>\n",
       "      <td>Lyneal Alston</td>\n",
       "      <td>Southern Mississippi</td>\n",
       "      <td>WR</td>\n",
       "      <td>72.1</td>\n",
       "      <td>202.0</td>\n",
       "      <td>27.3</td>\n",
       "      <td>4.64</td>\n",
       "      <td>32.0</td>\n",
       "      <td>114.0</td>\n",
       "      <td>4.52</td>\n",
       "      <td>1</td>\n",
       "    </tr>\n",
       "    <tr>\n",
       "      <th>5</th>\n",
       "      <td>1987</td>\n",
       "      <td>Steve Alvord</td>\n",
       "      <td>Washington</td>\n",
       "      <td>DE</td>\n",
       "      <td>76.5</td>\n",
       "      <td>273.0</td>\n",
       "      <td>32.8</td>\n",
       "      <td>4.86</td>\n",
       "      <td>28.5</td>\n",
       "      <td>108.0</td>\n",
       "      <td>4.49</td>\n",
       "      <td>0</td>\n",
       "    </tr>\n",
       "  </tbody>\n",
       "</table>\n",
       "</div>"
      ],
      "text/plain": [
       "   Year             Name               College POS  Height (in)  Weight (lbs)  \\\n",
       "0  1987       Mike Adams         Arizona State  CB         69.8         198.0   \n",
       "1  1987     John Adickes                Baylor   C         74.8         266.0   \n",
       "3  1987  David Alexander            Tulsa (OK)   C         75.0         279.0   \n",
       "4  1987    Lyneal Alston  Southern Mississippi  WR         72.1         202.0   \n",
       "5  1987     Steve Alvord            Washington  DE         76.5         273.0   \n",
       "\n",
       "    BMI  40 Yard  Vert Leap (in)  Broad Jump (in)  Shuttle  Clusters  \n",
       "0  28.6     4.42            32.0            118.0     4.60         1  \n",
       "1  33.4     4.97            26.5            103.0     4.60         0  \n",
       "3  34.9     5.13            27.5            105.0     4.33         2  \n",
       "4  27.3     4.64            32.0            114.0     4.52         1  \n",
       "5  32.8     4.86            28.5            108.0     4.49         0  "
      ]
     },
     "execution_count": 15,
     "metadata": {},
     "output_type": "execute_result"
    }
   ],
   "source": [
    "# Fit the model with just the desired clusters\n",
    "km = KMeans(n_clusters=3)\n",
    "km.fit(scaled_stats_df)\n",
    "\n",
    "# Create resulting clusters\n",
    "predicted = km.predict(scaled_stats_df)\n",
    "\n",
    "# Add predictions to the orignial dataframe (unscaled and with all columns)\n",
    "combine_df['Clusters'] = predicted\n",
    "\n",
    "combine_df.head()"
   ]
  },
  {
   "cell_type": "code",
   "execution_count": 16,
   "metadata": {},
   "outputs": [
    {
     "name": "stdout",
     "output_type": "stream",
     "text": [
      "         Height (in)\n",
      "               count\n",
      "Clusters            \n",
      "0             3533.0\n",
      "1             4418.0\n",
      "2             2783.0\n",
      "         Height (in)\n",
      "                mean\n",
      "Clusters            \n",
      "0          74.733360\n",
      "1          71.652114\n",
      "2          76.061700\n",
      "         Height (in)\n",
      "                 std\n",
      "Clusters            \n",
      "0           1.875741\n",
      "1           2.001394\n",
      "2           1.662413\n",
      "         Height (in)\n",
      "                 min\n",
      "Clusters            \n",
      "0               67.5\n",
      "1               61.5\n",
      "2               70.9\n",
      "         Height (in)\n",
      "                 25%\n",
      "Clusters            \n",
      "0              73.50\n",
      "1              70.25\n",
      "2              74.90\n",
      "         Height (in)\n",
      "                 50%\n",
      "Clusters            \n",
      "0              74.80\n",
      "1              71.63\n",
      "2              76.00\n",
      "         Height (in)\n",
      "                 75%\n",
      "Clusters            \n",
      "0              76.00\n",
      "1              73.00\n",
      "2              77.13\n",
      "         Height (in)\n",
      "                 max\n",
      "Clusters            \n",
      "0              80.88\n",
      "1              78.30\n",
      "2              82.40\n",
      "         Weight (lbs)\n",
      "                count\n",
      "Clusters             \n",
      "0              3533.0\n",
      "1              4418.0\n",
      "2              2783.0\n",
      "         Weight (lbs)\n",
      "                 mean\n",
      "Clusters             \n",
      "0          243.808378\n",
      "1          199.682888\n",
      "2          305.011139\n",
      "         Weight (lbs)\n",
      "                  std\n",
      "Clusters             \n",
      "0           18.053598\n",
      "1           15.349544\n",
      "2           17.413880\n",
      "         Weight (lbs)\n",
      "                  min\n",
      "Clusters             \n",
      "0               184.0\n",
      "1               144.0\n",
      "2               250.0\n",
      "         Weight (lbs)\n",
      "                  25%\n",
      "Clusters             \n",
      "0               232.0\n",
      "1               189.0\n",
      "2               295.0\n",
      "         Weight (lbs)\n",
      "                  50%\n",
      "Clusters             \n",
      "0               243.0\n",
      "1               199.0\n",
      "2               305.0\n",
      "         Weight (lbs)\n",
      "                  75%\n",
      "Clusters             \n",
      "0               255.0\n",
      "1               210.0\n",
      "2               315.0\n",
      "         Weight (lbs)\n",
      "                  max\n",
      "Clusters             \n",
      "0               306.0\n",
      "1               254.0\n",
      "2               387.0\n",
      "             BMI\n",
      "           count\n",
      "Clusters        \n",
      "0         3533.0\n",
      "1         4418.0\n",
      "2         2783.0\n",
      "                BMI\n",
      "               mean\n",
      "Clusters           \n",
      "0         30.699547\n",
      "1         27.351245\n",
      "2         37.091340\n",
      "               BMI\n",
      "               std\n",
      "Clusters          \n",
      "0         2.151254\n",
      "1         1.942464\n",
      "2         2.297317\n",
      "           BMI\n",
      "           min\n",
      "Clusters      \n",
      "0         22.8\n",
      "1         21.3\n",
      "2         29.8\n",
      "           BMI\n",
      "           25%\n",
      "Clusters      \n",
      "0         29.4\n",
      "1         26.0\n",
      "2         35.6\n",
      "           BMI\n",
      "           50%\n",
      "Clusters      \n",
      "0         30.8\n",
      "1         27.1\n",
      "2         37.0\n",
      "           BMI\n",
      "           75%\n",
      "Clusters      \n",
      "0         32.1\n",
      "1         28.5\n",
      "2         38.5\n",
      "           BMI\n",
      "           max\n",
      "Clusters      \n",
      "0         38.3\n",
      "1         38.7\n",
      "2         47.7\n",
      "         40 Yard\n",
      "           count\n",
      "Clusters        \n",
      "0         3533.0\n",
      "1         4418.0\n",
      "2         2783.0\n",
      "           40 Yard\n",
      "              mean\n",
      "Clusters          \n",
      "0         4.812468\n",
      "1         4.558547\n",
      "2         5.242231\n",
      "           40 Yard\n",
      "               std\n",
      "Clusters          \n",
      "0         0.150458\n",
      "1         0.112626\n",
      "2         0.190158\n",
      "         40 Yard\n",
      "             min\n",
      "Clusters        \n",
      "0           4.36\n",
      "1           4.22\n",
      "2           4.71\n",
      "         40 Yard\n",
      "             25%\n",
      "Clusters        \n",
      "0           4.70\n",
      "1           4.48\n",
      "2           5.11\n",
      "         40 Yard\n",
      "             50%\n",
      "Clusters        \n",
      "0           4.81\n",
      "1           4.55\n",
      "2           5.23\n",
      "         40 Yard\n",
      "             75%\n",
      "Clusters        \n",
      "0           4.91\n",
      "1           4.63\n",
      "2           5.37\n",
      "         40 Yard\n",
      "             max\n",
      "Clusters        \n",
      "0           5.37\n",
      "1           5.19\n",
      "2           6.12\n",
      "         Vert Leap (in)\n",
      "                  count\n",
      "Clusters               \n",
      "0                3533.0\n",
      "1                4418.0\n",
      "2                2783.0\n",
      "         Vert Leap (in)\n",
      "                   mean\n",
      "Clusters               \n",
      "0             32.147410\n",
      "1             35.027162\n",
      "2             27.816924\n",
      "         Vert Leap (in)\n",
      "                    std\n",
      "Clusters               \n",
      "0              3.141286\n",
      "1              3.107282\n",
      "2              3.006850\n",
      "         Vert Leap (in)\n",
      "                    min\n",
      "Clusters               \n",
      "0                  20.5\n",
      "1                  22.5\n",
      "2                  17.5\n",
      "         Vert Leap (in)\n",
      "                    25%\n",
      "Clusters               \n",
      "0                  30.0\n",
      "1                  33.0\n",
      "2                  25.5\n",
      "         Vert Leap (in)\n",
      "                    50%\n",
      "Clusters               \n",
      "0                  32.0\n",
      "1                  35.0\n",
      "2                  28.0\n",
      "         Vert Leap (in)\n",
      "                    75%\n",
      "Clusters               \n",
      "0                  34.0\n",
      "1                  37.0\n",
      "2                  30.0\n",
      "         Vert Leap (in)\n",
      "                    max\n",
      "Clusters               \n",
      "0                  42.5\n",
      "1                  46.5\n",
      "2                  38.5\n",
      "         Broad Jump (in)\n",
      "                   count\n",
      "Clusters                \n",
      "0                 3533.0\n",
      "1                 4418.0\n",
      "2                 2783.0\n",
      "         Broad Jump (in)\n",
      "                    mean\n",
      "Clusters                \n",
      "0             113.309086\n",
      "1             119.576279\n",
      "2             102.447000\n",
      "         Broad Jump (in)\n",
      "                     std\n",
      "Clusters                \n",
      "0               7.131599\n",
      "1               6.243145\n",
      "2               7.585362\n",
      "         Broad Jump (in)\n",
      "                     min\n",
      "Clusters                \n",
      "0                    9.0\n",
      "1                   95.0\n",
      "2                    7.0\n",
      "         Broad Jump (in)\n",
      "                     25%\n",
      "Clusters                \n",
      "0                  109.0\n",
      "1                  115.0\n",
      "2                   98.0\n",
      "         Broad Jump (in)\n",
      "                     50%\n",
      "Clusters                \n",
      "0                  113.0\n",
      "1                  120.0\n",
      "2                  103.0\n",
      "         Broad Jump (in)\n",
      "                     75%\n",
      "Clusters                \n",
      "0                  118.0\n",
      "1                  124.0\n",
      "2                  107.0\n",
      "         Broad Jump (in)\n",
      "                     max\n",
      "Clusters                \n",
      "0                  139.0\n",
      "1                  147.0\n",
      "2                  128.0\n",
      "         Shuttle\n",
      "           count\n",
      "Clusters        \n",
      "0         3533.0\n",
      "1         4418.0\n",
      "2         2783.0\n",
      "           Shuttle\n",
      "              mean\n",
      "Clusters          \n",
      "0         4.393756\n",
      "1         4.243153\n",
      "2         4.730367\n",
      "           Shuttle\n",
      "               std\n",
      "Clusters          \n",
      "0         0.177588\n",
      "1         0.161780\n",
      "2         0.202477\n",
      "         Shuttle\n",
      "             min\n",
      "Clusters        \n",
      "0           3.83\n",
      "1           3.73\n",
      "2           3.89\n",
      "         Shuttle\n",
      "             25%\n",
      "Clusters        \n",
      "0           4.28\n",
      "1           4.13\n",
      "2           4.59\n",
      "         Shuttle\n",
      "             50%\n",
      "Clusters        \n",
      "0           4.39\n",
      "1           4.24\n",
      "2           4.72\n",
      "         Shuttle\n",
      "             75%\n",
      "Clusters        \n",
      "0           4.50\n",
      "1           4.35\n",
      "2           4.85\n",
      "         Shuttle\n",
      "             max\n",
      "Clusters        \n",
      "0           7.20\n",
      "1           6.69\n",
      "2           5.68\n"
     ]
    }
   ],
   "source": [
    "# Describe each of the clusters, what makes them unique?\n",
    "cluster_info = combine_df.groupby('Clusters').describe()\n",
    "\n",
    "cluster_info = pd.DataFrame(cluster_info)\n",
    "\n",
    "cluster_info.drop(columns=['Year'],inplace=True)\n",
    "\n",
    "for column in cluster_info.columns:\n",
    "    measure_df = pd.DataFrame(cluster_info[column])\n",
    "    print(measure_df)\n",
    "\n"
   ]
  },
  {
   "cell_type": "code",
   "execution_count": 46,
   "metadata": {},
   "outputs": [
    {
     "data": {
      "application/vnd.jupyter.widget-view+json": {
       "model_id": "35967f18a3be473ab3e2ba47618f4c92",
       "version_major": 2,
       "version_minor": 0
      },
      "image/png": "[encoded data removed]",
      "text/html": [
       "\n",
       "            <div style=\"display: inline-block;\">\n",
       "                <div class=\"jupyter-widgets widget-label\" style=\"text-align: center;\">\n",
       "                    Figure\n",
       "                </div>\n",
       "                <img src='data:image/png;base64,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' width=600.0/>\n",
       "            </div>\n",
       "        "
      ],
      "text/plain": [
       "Canvas(toolbar=Toolbar(toolitems=[('Home', 'Reset original view', 'home', 'home'), ('Back', 'Back to previous …"
      ]
     },
     "metadata": {},
     "output_type": "display_data"
    }
   ],
   "source": [
    "# Combine averages dataframe\n",
    "combine_means = combine_df.groupby('Clusters').mean().reset_index()\n",
    "\n",
    "# Create a figure and axes\n",
    "fig, axes = plt.subplots(3, 3, figsize=(12, 12), dpi=50)\n",
    "\n",
    "# Flatten the axes array for easy iteration\n",
    "axes = axes.flatten()\n",
    "\n",
    "# Multiple line plots\n",
    "for num, column in enumerate(combine_means.drop(['Clusters','Year'], axis=1), start=1):\n",
    "    ax = axes[num-1]\n",
    "\n",
    "    # Plot the line plot\n",
    "    ax.barh(combine_means['Clusters'].astype('string'), combine_means[column], color='deepskyblue', label=column)\n",
    "\n",
    "    # Add title\n",
    "    ax.set_title(column, loc='left', fontsize=12, fontweight=0, color='black')\n",
    "\n",
    "# Show the graph\n",
    "plt.show()"
   ]
  },
  {
   "cell_type": "code",
   "execution_count": 18,
   "metadata": {},
   "outputs": [
    {
     "data": {
      "text/html": [
       "<div>\n",
       "<style scoped>\n",
       "    .dataframe tbody tr th:only-of-type {\n",
       "        vertical-align: middle;\n",
       "    }\n",
       "\n",
       "    .dataframe tbody tr th {\n",
       "        vertical-align: top;\n",
       "    }\n",
       "\n",
       "    .dataframe thead tr th {\n",
       "        text-align: left;\n",
       "    }\n",
       "\n",
       "    .dataframe thead tr:last-of-type th {\n",
       "        text-align: right;\n",
       "    }\n",
       "</style>\n",
       "<table border=\"1\" class=\"dataframe\">\n",
       "  <thead>\n",
       "    <tr>\n",
       "      <th></th>\n",
       "      <th colspan=\"3\" halign=\"left\">Clusters</th>\n",
       "    </tr>\n",
       "    <tr>\n",
       "      <th>Clusters</th>\n",
       "      <th>0</th>\n",
       "      <th>1</th>\n",
       "      <th>2</th>\n",
       "    </tr>\n",
       "    <tr>\n",
       "      <th>POS</th>\n",
       "      <th></th>\n",
       "      <th></th>\n",
       "      <th></th>\n",
       "    </tr>\n",
       "  </thead>\n",
       "  <tbody>\n",
       "    <tr>\n",
       "      <th>C</th>\n",
       "      <td>11</td>\n",
       "      <td>0</td>\n",
       "      <td>350</td>\n",
       "    </tr>\n",
       "    <tr>\n",
       "      <th>CB</th>\n",
       "      <td>5</td>\n",
       "      <td>1101</td>\n",
       "      <td>0</td>\n",
       "    </tr>\n",
       "    <tr>\n",
       "      <th>DB</th>\n",
       "      <td>0</td>\n",
       "      <td>3</td>\n",
       "      <td>0</td>\n",
       "    </tr>\n",
       "    <tr>\n",
       "      <th>DE</th>\n",
       "      <td>703</td>\n",
       "      <td>1</td>\n",
       "      <td>131</td>\n",
       "    </tr>\n",
       "    <tr>\n",
       "      <th>DL</th>\n",
       "      <td>3</td>\n",
       "      <td>0</td>\n",
       "      <td>0</td>\n",
       "    </tr>\n",
       "    <tr>\n",
       "      <th>DT</th>\n",
       "      <td>79</td>\n",
       "      <td>0</td>\n",
       "      <td>729</td>\n",
       "    </tr>\n",
       "    <tr>\n",
       "      <th>EDG</th>\n",
       "      <td>17</td>\n",
       "      <td>0</td>\n",
       "      <td>0</td>\n",
       "    </tr>\n",
       "    <tr>\n",
       "      <th>FB</th>\n",
       "      <td>215</td>\n",
       "      <td>33</td>\n",
       "      <td>4</td>\n",
       "    </tr>\n",
       "    <tr>\n",
       "      <th>FS</th>\n",
       "      <td>14</td>\n",
       "      <td>419</td>\n",
       "      <td>0</td>\n",
       "    </tr>\n",
       "    <tr>\n",
       "      <th>ILB</th>\n",
       "      <td>407</td>\n",
       "      <td>36</td>\n",
       "      <td>2</td>\n",
       "    </tr>\n",
       "    <tr>\n",
       "      <th>K</th>\n",
       "      <td>4</td>\n",
       "      <td>3</td>\n",
       "      <td>0</td>\n",
       "    </tr>\n",
       "    <tr>\n",
       "      <th>LB</th>\n",
       "      <td>47</td>\n",
       "      <td>10</td>\n",
       "      <td>0</td>\n",
       "    </tr>\n",
       "    <tr>\n",
       "      <th>LS</th>\n",
       "      <td>17</td>\n",
       "      <td>0</td>\n",
       "      <td>0</td>\n",
       "    </tr>\n",
       "    <tr>\n",
       "      <th>NT</th>\n",
       "      <td>0</td>\n",
       "      <td>0</td>\n",
       "      <td>1</td>\n",
       "    </tr>\n",
       "    <tr>\n",
       "      <th>OG</th>\n",
       "      <td>10</td>\n",
       "      <td>0</td>\n",
       "      <td>696</td>\n",
       "    </tr>\n",
       "    <tr>\n",
       "      <th>OL</th>\n",
       "      <td>0</td>\n",
       "      <td>0</td>\n",
       "      <td>6</td>\n",
       "    </tr>\n",
       "    <tr>\n",
       "      <th>OLB</th>\n",
       "      <td>669</td>\n",
       "      <td>139</td>\n",
       "      <td>3</td>\n",
       "    </tr>\n",
       "    <tr>\n",
       "      <th>OT</th>\n",
       "      <td>18</td>\n",
       "      <td>2</td>\n",
       "      <td>838</td>\n",
       "    </tr>\n",
       "    <tr>\n",
       "      <th>P</th>\n",
       "      <td>4</td>\n",
       "      <td>4</td>\n",
       "      <td>0</td>\n",
       "    </tr>\n",
       "    <tr>\n",
       "      <th>QB</th>\n",
       "      <td>466</td>\n",
       "      <td>120</td>\n",
       "      <td>1</td>\n",
       "    </tr>\n",
       "    <tr>\n",
       "      <th>RB</th>\n",
       "      <td>131</td>\n",
       "      <td>756</td>\n",
       "      <td>0</td>\n",
       "    </tr>\n",
       "    <tr>\n",
       "      <th>S</th>\n",
       "      <td>1</td>\n",
       "      <td>28</td>\n",
       "      <td>0</td>\n",
       "    </tr>\n",
       "    <tr>\n",
       "      <th>SS</th>\n",
       "      <td>16</td>\n",
       "      <td>364</td>\n",
       "      <td>0</td>\n",
       "    </tr>\n",
       "    <tr>\n",
       "      <th>TE</th>\n",
       "      <td>617</td>\n",
       "      <td>16</td>\n",
       "      <td>22</td>\n",
       "    </tr>\n",
       "    <tr>\n",
       "      <th>WR</th>\n",
       "      <td>79</td>\n",
       "      <td>1383</td>\n",
       "      <td>0</td>\n",
       "    </tr>\n",
       "  </tbody>\n",
       "</table>\n",
       "</div>"
      ],
      "text/plain": [
       "         Clusters           \n",
       "Clusters        0     1    2\n",
       "POS                         \n",
       "C              11     0  350\n",
       "CB              5  1101    0\n",
       "DB              0     3    0\n",
       "DE            703     1  131\n",
       "DL              3     0    0\n",
       "DT             79     0  729\n",
       "EDG            17     0    0\n",
       "FB            215    33    4\n",
       "FS             14   419    0\n",
       "ILB           407    36    2\n",
       "K               4     3    0\n",
       "LB             47    10    0\n",
       "LS             17     0    0\n",
       "NT              0     0    1\n",
       "OG             10     0  696\n",
       "OL              0     0    6\n",
       "OLB           669   139    3\n",
       "OT             18     2  838\n",
       "P               4     4    0\n",
       "QB            466   120    1\n",
       "RB            131   756    0\n",
       "S               1    28    0\n",
       "SS             16   364    0\n",
       "TE            617    16   22\n",
       "WR             79  1383    0"
      ]
     },
     "execution_count": 18,
     "metadata": {},
     "output_type": "execute_result"
    }
   ],
   "source": [
    "combine_df.pivot_table(index=['POS'],columns=['Clusters'],\n",
    "                       aggfunc={'Clusters': 'count'}, fill_value=0)"
   ]
  },
  {
   "cell_type": "code",
   "execution_count": 21,
   "metadata": {},
   "outputs": [
    {
     "data": {
      "application/vnd.jupyter.widget-view+json": {
       "model_id": "b5eac8d8e89149be99c10dbb005eb314",
       "version_major": 2,
       "version_minor": 0
      },
      "image/png": "[encoded data removed]",
      "text/html": [
       "\n",
       "            <div style=\"display: inline-block;\">\n",
       "                <div class=\"jupyter-widgets widget-label\" style=\"text-align: center;\">\n",
       "                    Figure\n",
       "                </div>\n",
       "                <img src='data:image/png;base64,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' width=1000.0/>\n",
       "            </div>\n",
       "        "
      ],
      "text/plain": [
       "Canvas(toolbar=Toolbar(toolitems=[('Home', 'Reset original view', 'home', 'home'), ('Back', 'Back to previous …"
      ]
     },
     "metadata": {},
     "output_type": "display_data"
    }
   ],
   "source": [
    "# Create an interactive 3d Scatter plot of the different features\n",
    "\n",
    "from mpl_toolkits.mplot3d import Axes3D\n",
    "\n",
    "# for creating a responsive plot \n",
    "%matplotlib widget \n",
    "  \n",
    "# Select features for the plot\n",
    "xs = combine_df['BMI']\n",
    "# ys = combine_df['Bench Press']\n",
    "ys = combine_df['40 Yard']\n",
    "zs = combine_df['Vert Leap (in)']\n",
    "\n",
    "\n",
    "fig = plt.figure(figsize = (10, 7))\n",
    "ax = fig.add_subplot(111, projection='3d')\n",
    "\n",
    "scatter = ax.scatter(xs, ys, zs, c=combine_df['Clusters'])\n",
    "\n",
    "ax.set_xlabel('BMI') \n",
    "# ax.set_ylabel('Bench Press') \n",
    "ax.set_ylabel('40 Yard')\n",
    "ax.set_zlabel('Vert Leap (in)') \n",
    "\n",
    "ax.legend(*scatter.legend_elements())\n",
    "\n",
    "plt.show()"
   ]
  },
  {
   "cell_type": "markdown",
   "metadata": {},
   "source": [
    "### Run Machine Learning Models for Clusters\n",
    "- Reconfigure the X, y values for the models to Clusters\n",
    "- Run the previously created function on the new data.\n",
    "- Run XGBoost on the new function.\n",
    "- Tune the parameters to see if the models can be more accurate.\n",
    "- Compare the models and select the most accurate one."
   ]
  },
  {
   "cell_type": "code",
   "execution_count": 22,
   "metadata": {},
   "outputs": [],
   "source": [
    "# Split the data into X and y\n",
    "\n",
    "X = combine_df.drop(columns=['POS','Name','College','Clusters'])\n",
    "y = combine_df['Clusters']\n",
    "\n",
    "np.random.seed(42)\n",
    "\n",
    "X_train, X_test, y_train, y_test = train_test_split(X, y, test_size=0.2)"
   ]
  },
  {
   "cell_type": "code",
   "execution_count": 26,
   "metadata": {},
   "outputs": [
    {
     "name": "stderr",
     "output_type": "stream",
     "text": [
      "c:\\Users\\seanc\\anaconda3\\envs\\PythonData\\lib\\site-packages\\sklearn\\linear_model\\_logistic.py:765: ConvergenceWarning: lbfgs failed to converge (status=1):\n",
      "STOP: TOTAL NO. of ITERATIONS REACHED LIMIT.\n",
      "\n",
      "Increase the number of iterations (max_iter) or scale the data as shown in:\n",
      "    https://scikit-learn.org/stable/modules/preprocessing.html\n",
      "Please also refer to the documentation for alternative solver options:\n",
      "    https://scikit-learn.org/stable/modules/linear_model.html#logistic-regression\n",
      "  extra_warning_msg=_LOGISTIC_SOLVER_CONVERGENCE_MSG)\n"
     ]
    },
    {
     "data": {
      "text/plain": [
       "{'Logistic Regression': 0.9627387051700047,\n",
       " 'KNN': 0.9646017699115044,\n",
       " 'Random Forest': 0.984163949697252}"
      ]
     },
     "execution_count": 26,
     "metadata": {},
     "output_type": "execute_result"
    }
   ],
   "source": [
    "# Rerun the models\n",
    "models_scores = fit_and_score(models, X_train, X_test, y_train, y_test)\n",
    "models_scores"
   ]
  },
  {
   "cell_type": "code",
   "execution_count": 30,
   "metadata": {},
   "outputs": [
    {
     "name": "stdout",
     "output_type": "stream",
     "text": [
      "Fitting 5 folds for each of 20 candidates, totalling 100 fits\n"
     ]
    },
    {
     "data": {
      "text/plain": [
       "RandomizedSearchCV(cv=5, estimator=RandomForestClassifier(), n_iter=20,\n",
       "                   param_distributions={'max_depth': [None, 3, 5, 10],\n",
       "                                        'min_samples_leaf': array([ 1,  3,  5,  7,  9, 11, 13, 15, 17, 19]),\n",
       "                                        'min_samples_split': array([ 2,  4,  6,  8, 10, 12, 14, 16, 18]),\n",
       "                                        'n_estimators': array([ 10,  60, 110, 160, 210, 260, 310, 360, 410, 460, 510, 560, 610,\n",
       "       660, 710, 760, 810, 860, 910, 960])},\n",
       "                   verbose=True)"
      ]
     },
     "execution_count": 30,
     "metadata": {},
     "output_type": "execute_result"
    }
   ],
   "source": [
    "# Tune Random Forest\n",
    "np.random.seed(42)\n",
    "\n",
    "#Set up hyperparams for RFC\n",
    "rs_rf = RandomizedSearchCV(RandomForestClassifier(),\n",
    "                           param_distributions=rf_grid,\n",
    "                           cv=5,\n",
    "                           n_iter=20,\n",
    "                           verbose=True)\n",
    "\n",
    "# Fit random hyperparam search model for randomForestClassifier()\n",
    "rs_rf.fit(X_train, y_train)"
   ]
  },
  {
   "cell_type": "code",
   "execution_count": 35,
   "metadata": {},
   "outputs": [
    {
     "data": {
      "text/plain": [
       "0.9813693525850024"
      ]
     },
     "execution_count": 35,
     "metadata": {},
     "output_type": "execute_result"
    }
   ],
   "source": [
    "rs_rf.score(X_test, y_test)"
   ]
  },
  {
   "cell_type": "code",
   "execution_count": 36,
   "metadata": {},
   "outputs": [],
   "source": [
    "# Encode the classification values\n",
    "le = LabelEncoder()\n",
    "y_train_le = le.fit_transform(y_train)\n",
    "y_test_le = le.fit_transform(y_test)"
   ]
  },
  {
   "cell_type": "code",
   "execution_count": 37,
   "metadata": {},
   "outputs": [
    {
     "data": {
      "text/plain": [
       "0.9869585468095017"
      ]
     },
     "execution_count": 37,
     "metadata": {},
     "output_type": "execute_result"
    }
   ],
   "source": [
    "# fit model no training data\n",
    "model = XGBClassifier()\n",
    "model.fit(X_train, y_train_le)\n",
    "model.score(X_test,y_test_le)"
   ]
  },
  {
   "cell_type": "code",
   "execution_count": 40,
   "metadata": {},
   "outputs": [
    {
     "name": "stdout",
     "output_type": "stream",
     "text": [
      "Fitting 5 folds for each of 20 candidates, totalling 100 fits\n"
     ]
    },
    {
     "data": {
      "text/plain": [
       "RandomizedSearchCV(cv=5,\n",
       "                   estimator=XGBClassifier(base_score=None, booster=None,\n",
       "                                           callbacks=None,\n",
       "                                           colsample_bylevel=None,\n",
       "                                           colsample_bynode=None,\n",
       "                                           colsample_bytree=None,\n",
       "                                           early_stopping_rounds=None,\n",
       "                                           enable_categorical=False,\n",
       "                                           eval_metric=None, gamma=None,\n",
       "                                           gpu_id=None, grow_policy=None,\n",
       "                                           importance_type=None,\n",
       "                                           interaction_constraints=None,\n",
       "                                           learning_rate=None, max_bin=None,...\n",
       "                                        'colsample_bytree': array([0.1, 0.2, 0.3, 0.4, 0.5, 0.6, 0.7, 0.8, 0.9]),\n",
       "                                        'learning_rate': array([0.01, 0.02, 0.03, 0.04, 0.05, 0.06, 0.07, 0.08, 0.09, 0.1 , 0.11,\n",
       "       0.12, 0.13, 0.14, 0.15, 0.16, 0.17, 0.18, 0.19]),\n",
       "                                        'max_depth': [None, 3, 5, 10],\n",
       "                                        'min_child_weight': [1, 5, 25, 50, 100],\n",
       "                                        'n_estimators': [10, 50, 100, 250, 500,\n",
       "                                                         1000],\n",
       "                                        'subsample': array([0.1, 0.2, 0.3, 0.4, 0.5, 0.6, 0.7, 0.8, 0.9])},\n",
       "                   verbose=True)"
      ]
     },
     "execution_count": 40,
     "metadata": {},
     "output_type": "execute_result"
    }
   ],
   "source": [
    "# Fit random hyperparam search model for randomForestClassifier()\n",
    "rs_xgb.fit(X_train, y_train_le)"
   ]
  },
  {
   "cell_type": "code",
   "execution_count": 42,
   "metadata": {},
   "outputs": [
    {
     "data": {
      "text/plain": [
       "{'subsample': 0.1,\n",
       " 'n_estimators': 500,\n",
       " 'min_child_weight': 1,\n",
       " 'max_depth': None,\n",
       " 'learning_rate': 0.12,\n",
       " 'colsample_bytree': 0.7000000000000001,\n",
       " 'colsample_bylevel': 0.9}"
      ]
     },
     "execution_count": 42,
     "metadata": {},
     "output_type": "execute_result"
    }
   ],
   "source": [
    "# Find best hyperparameters\n",
    "rs_xgb.best_params_"
   ]
  },
  {
   "cell_type": "code",
   "execution_count": 43,
   "metadata": {},
   "outputs": [
    {
     "data": {
      "text/plain": [
       "0.9911504424778761"
      ]
     },
     "execution_count": 43,
     "metadata": {},
     "output_type": "execute_result"
    }
   ],
   "source": [
    "# Evaluate the randomized search cv\n",
    "rs_xgb.score(X_test, y_test_le)"
   ]
  },
  {
   "cell_type": "code",
   "execution_count": null,
   "metadata": {},
   "outputs": [],
   "source": []
  }
 ],
 "metadata": {
  "kernelspec": {
   "display_name": "PythonData",
   "language": "python",
   "name": "python3"
  },
  "language_info": {
   "codemirror_mode": {
    "name": "ipython",
    "version": 3
   },
   "file_extension": ".py",
   "mimetype": "text/x-python",
   "name": "python",
   "nbconvert_exporter": "python",
   "pygments_lexer": "ipython3",
   "version": "3.7.10"
  }
 },
 "nbformat": 4,
 "nbformat_minor": 2
}
