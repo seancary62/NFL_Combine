{
 "cells": [
  {
   "cell_type": "markdown",
   "metadata": {},
   "source": [
    "#Predicting a Player's Position Based on Combine Scores\n",
    "\n",
    "In this notebook I attempted to predict a player's position based on their Combine scores and Classification algorithms. Although the desired outcome was not achieved using supervised machine learning, a way of classifying athletes was created using K-Means Clustering, an unsupervised method.\n",
    "\n",
    "Steps Taken:\n",
    "1. Exploring the data with Pandas and Matplotlib.\n",
    "2. Attempting several classifiers to see how they perform.\n",
    "3. Optimizing the models as necessary.\n",
    "4. Attempting unsupervised ML."
   ]
  },
  {
   "cell_type": "code",
   "execution_count": 1,
   "metadata": {},
   "outputs": [],
   "source": [
    "# Import important standard libraries\n",
    "import pandas as pd\n",
    "import numpy as np\n",
    "import matplotlib.pyplot as plt\n",
    "import seaborn as sns\n",
    "\n",
    "%matplotlib inline\n",
    "\n",
    "# Models from Scikit-Learn\n",
    "from sklearn.linear_model import LogisticRegression\n",
    "from sklearn.neighbors import KNeighborsClassifier\n",
    "from sklearn.ensemble import RandomForestClassifier\n",
    "from xgboost import XGBClassifier\n",
    "from sklearn.preprocessing import LabelEncoder\n",
    "\n",
    "# Model Evaluation\n",
    "from sklearn.model_selection import train_test_split, cross_val_score\n",
    "from sklearn.model_selection import RandomizedSearchCV, GridSearchCV\n",
    "from sklearn.metrics import confusion_matrix, classification_report\n",
    "from sklearn.metrics import precision_score, recall_score, f1_score\n",
    "from sklearn.metrics import plot_roc_curve, RocCurveDisplay"
   ]
  },
  {
   "cell_type": "code",
   "execution_count": 2,
   "metadata": {},
   "outputs": [
    {
     "data": {
      "text/html": [
       "<div>\n",
       "<style scoped>\n",
       "    .dataframe tbody tr th:only-of-type {\n",
       "        vertical-align: middle;\n",
       "    }\n",
       "\n",
       "    .dataframe tbody tr th {\n",
       "        vertical-align: top;\n",
       "    }\n",
       "\n",
       "    .dataframe thead th {\n",
       "        text-align: right;\n",
       "    }\n",
       "</style>\n",
       "<table border=\"1\" class=\"dataframe\">\n",
       "  <thead>\n",
       "    <tr style=\"text-align: right;\">\n",
       "      <th></th>\n",
       "      <th>Year</th>\n",
       "      <th>Name</th>\n",
       "      <th>College</th>\n",
       "      <th>POS</th>\n",
       "      <th>Height (in)</th>\n",
       "      <th>Weight (lbs)</th>\n",
       "      <th>BMI</th>\n",
       "      <th>40 Yard</th>\n",
       "      <th>Bench Press</th>\n",
       "      <th>Vert Leap (in)</th>\n",
       "      <th>Broad Jump (in)</th>\n",
       "      <th>Shuttle</th>\n",
       "      <th>3Cone</th>\n",
       "    </tr>\n",
       "  </thead>\n",
       "  <tbody>\n",
       "    <tr>\n",
       "      <th>0</th>\n",
       "      <td>1987</td>\n",
       "      <td>Mike Adams</td>\n",
       "      <td>Arizona State</td>\n",
       "      <td>CB</td>\n",
       "      <td>69.8</td>\n",
       "      <td>198.0</td>\n",
       "      <td>28.6</td>\n",
       "      <td>4.42</td>\n",
       "      <td>13.0</td>\n",
       "      <td>32.0</td>\n",
       "      <td>118.0</td>\n",
       "      <td>4.60</td>\n",
       "      <td>NaN</td>\n",
       "    </tr>\n",
       "    <tr>\n",
       "      <th>1</th>\n",
       "      <td>1987</td>\n",
       "      <td>John Adickes</td>\n",
       "      <td>Baylor</td>\n",
       "      <td>C</td>\n",
       "      <td>74.8</td>\n",
       "      <td>266.0</td>\n",
       "      <td>33.4</td>\n",
       "      <td>4.97</td>\n",
       "      <td>25.0</td>\n",
       "      <td>26.5</td>\n",
       "      <td>103.0</td>\n",
       "      <td>4.60</td>\n",
       "      <td>NaN</td>\n",
       "    </tr>\n",
       "    <tr>\n",
       "      <th>2</th>\n",
       "      <td>1987</td>\n",
       "      <td>Tommy Agee</td>\n",
       "      <td>Auburn</td>\n",
       "      <td>FB</td>\n",
       "      <td>71.8</td>\n",
       "      <td>217.0</td>\n",
       "      <td>29.6</td>\n",
       "      <td>NaN</td>\n",
       "      <td>15.0</td>\n",
       "      <td>NaN</td>\n",
       "      <td>NaN</td>\n",
       "      <td>NaN</td>\n",
       "      <td>NaN</td>\n",
       "    </tr>\n",
       "    <tr>\n",
       "      <th>3</th>\n",
       "      <td>1987</td>\n",
       "      <td>David Alexander</td>\n",
       "      <td>Tulsa (OK)</td>\n",
       "      <td>C</td>\n",
       "      <td>75.0</td>\n",
       "      <td>279.0</td>\n",
       "      <td>34.9</td>\n",
       "      <td>5.13</td>\n",
       "      <td>22.0</td>\n",
       "      <td>27.5</td>\n",
       "      <td>105.0</td>\n",
       "      <td>4.33</td>\n",
       "      <td>NaN</td>\n",
       "    </tr>\n",
       "    <tr>\n",
       "      <th>4</th>\n",
       "      <td>1987</td>\n",
       "      <td>Lyneal Alston</td>\n",
       "      <td>Southern Mississippi</td>\n",
       "      <td>WR</td>\n",
       "      <td>72.1</td>\n",
       "      <td>202.0</td>\n",
       "      <td>27.3</td>\n",
       "      <td>4.64</td>\n",
       "      <td>7.0</td>\n",
       "      <td>32.0</td>\n",
       "      <td>114.0</td>\n",
       "      <td>4.52</td>\n",
       "      <td>NaN</td>\n",
       "    </tr>\n",
       "  </tbody>\n",
       "</table>\n",
       "</div>"
      ],
      "text/plain": [
       "   Year             Name               College POS  Height (in)  Weight (lbs)  \\\n",
       "0  1987       Mike Adams         Arizona State  CB         69.8         198.0   \n",
       "1  1987     John Adickes                Baylor   C         74.8         266.0   \n",
       "2  1987       Tommy Agee                Auburn  FB         71.8         217.0   \n",
       "3  1987  David Alexander            Tulsa (OK)   C         75.0         279.0   \n",
       "4  1987    Lyneal Alston  Southern Mississippi  WR         72.1         202.0   \n",
       "\n",
       "    BMI  40 Yard  Bench Press  Vert Leap (in)  Broad Jump (in)  Shuttle  3Cone  \n",
       "0  28.6     4.42         13.0            32.0            118.0     4.60    NaN  \n",
       "1  33.4     4.97         25.0            26.5            103.0     4.60    NaN  \n",
       "2  29.6      NaN         15.0             NaN              NaN      NaN    NaN  \n",
       "3  34.9     5.13         22.0            27.5            105.0     4.33    NaN  \n",
       "4  27.3     4.64          7.0            32.0            114.0     4.52    NaN  "
      ]
     },
     "execution_count": 2,
     "metadata": {},
     "output_type": "execute_result"
    }
   ],
   "source": [
    "combine_raw_df  = pd.read_csv('resources/combine_df.csv')\n",
    "\n",
    "combine_raw_df.head()"
   ]
  },
  {
   "cell_type": "code",
   "execution_count": 3,
   "metadata": {},
   "outputs": [
    {
     "name": "stdout",
     "output_type": "stream",
     "text": [
      "<class 'pandas.core.frame.DataFrame'>\n",
      "RangeIndex: 14164 entries, 0 to 14163\n",
      "Data columns (total 13 columns):\n",
      " #   Column           Non-Null Count  Dtype  \n",
      "---  ------           --------------  -----  \n",
      " 0   Year             14164 non-null  int64  \n",
      " 1   Name             14164 non-null  object \n",
      " 2   College          14157 non-null  object \n",
      " 3   POS              14164 non-null  object \n",
      " 4   Height (in)      14164 non-null  float64\n",
      " 5   Weight (lbs)     14164 non-null  float64\n",
      " 6   BMI              14164 non-null  float64\n",
      " 7   40 Yard          12634 non-null  float64\n",
      " 8   Bench Press      10276 non-null  float64\n",
      " 9   Vert Leap (in)   12178 non-null  float64\n",
      " 10  Broad Jump (in)  12055 non-null  float64\n",
      " 11  Shuttle          11099 non-null  float64\n",
      " 12  3Cone            3810 non-null   float64\n",
      "dtypes: float64(9), int64(1), object(3)\n",
      "memory usage: 1.4+ MB\n"
     ]
    }
   ],
   "source": [
    "combine_raw_df.info()"
   ]
  },
  {
   "cell_type": "code",
   "execution_count": 4,
   "metadata": {},
   "outputs": [
    {
     "name": "stdout",
     "output_type": "stream",
     "text": [
      "<class 'pandas.core.frame.DataFrame'>\n",
      "Int64Index: 8509 entries, 0 to 14160\n",
      "Data columns (total 12 columns):\n",
      " #   Column           Non-Null Count  Dtype  \n",
      "---  ------           --------------  -----  \n",
      " 0   Year             8509 non-null   int64  \n",
      " 1   Name             8509 non-null   object \n",
      " 2   College          8509 non-null   object \n",
      " 3   POS              8509 non-null   object \n",
      " 4   Height (in)      8509 non-null   float64\n",
      " 5   Weight (lbs)     8509 non-null   float64\n",
      " 6   BMI              8509 non-null   float64\n",
      " 7   40 Yard          8509 non-null   float64\n",
      " 8   Bench Press      8509 non-null   float64\n",
      " 9   Vert Leap (in)   8509 non-null   float64\n",
      " 10  Broad Jump (in)  8509 non-null   float64\n",
      " 11  Shuttle          8509 non-null   float64\n",
      "dtypes: float64(8), int64(1), object(3)\n",
      "memory usage: 864.2+ KB\n"
     ]
    }
   ],
   "source": [
    "combine_ml_df = combine_raw_df.drop(columns='3Cone')\n",
    "combine_ml_df.dropna(inplace=True)\n",
    "combine_ml_df.info()"
   ]
  },
  {
   "cell_type": "code",
   "execution_count": 5,
   "metadata": {},
   "outputs": [
    {
     "data": {
      "image/png": "[encoded data removed]",
      "text/plain": [
       "<Figure size 432x288 with 1 Axes>"
      ]
     },
     "metadata": {
      "needs_background": "light"
     },
     "output_type": "display_data"
    }
   ],
   "source": [
    "combine_ml_df['POS'].value_counts().plot(kind=\"bar\", color=['salmon']);"
   ]
  },
  {
   "cell_type": "code",
   "execution_count": 6,
   "metadata": {},
   "outputs": [
    {
     "data": {
      "text/plain": [
       "<AxesSubplot:ylabel='Frequency'>"
      ]
     },
     "execution_count": 6,
     "metadata": {},
     "output_type": "execute_result"
    },
    {
     "data": {
      "image/png": "[encoded data removed]",
      "text/plain": [
       "<Figure size 432x288 with 1 Axes>"
      ]
     },
     "metadata": {
      "needs_background": "light"
     },
     "output_type": "display_data"
    }
   ],
   "source": [
    "combine_ml_df['40 Yard'].plot.hist()"
   ]
  },
  {
   "cell_type": "code",
   "execution_count": 7,
   "metadata": {},
   "outputs": [
    {
     "data": {
      "text/plain": [
       "<AxesSubplot:ylabel='Frequency'>"
      ]
     },
     "execution_count": 7,
     "metadata": {},
     "output_type": "execute_result"
    },
    {
     "data": {
      "image/png": "[encoded data removed]",
      "text/plain": [
       "<Figure size 432x288 with 1 Axes>"
      ]
     },
     "metadata": {
      "needs_background": "light"
     },
     "output_type": "display_data"
    }
   ],
   "source": [
    "# Checking the histogram of 40 yard times in my personal size range.\n",
    "my_size_df = combine_ml_df.loc[(combine_ml_df['Height (in)'] >= 69) &\n",
    "               (combine_raw_df['Height (in)'] <= 73) &\n",
    "               (combine_raw_df['Weight (lbs)'] <= 198) &\n",
    "               (combine_raw_df['Weight (lbs)'] <= 205)]\n",
    "\n",
    "my_size_df['40 Yard'].plot.hist()"
   ]
  },
  {
   "cell_type": "code",
   "execution_count": 8,
   "metadata": {},
   "outputs": [
    {
     "data": {
      "text/html": [
       "<div>\n",
       "<style scoped>\n",
       "    .dataframe tbody tr th:only-of-type {\n",
       "        vertical-align: middle;\n",
       "    }\n",
       "\n",
       "    .dataframe tbody tr th {\n",
       "        vertical-align: top;\n",
       "    }\n",
       "\n",
       "    .dataframe thead th {\n",
       "        text-align: right;\n",
       "    }\n",
       "</style>\n",
       "<table border=\"1\" class=\"dataframe\">\n",
       "  <thead>\n",
       "    <tr style=\"text-align: right;\">\n",
       "      <th></th>\n",
       "      <th>Year</th>\n",
       "      <th>Height (in)</th>\n",
       "      <th>Weight (lbs)</th>\n",
       "      <th>BMI</th>\n",
       "      <th>40 Yard</th>\n",
       "      <th>Bench Press</th>\n",
       "      <th>Vert Leap (in)</th>\n",
       "      <th>Broad Jump (in)</th>\n",
       "      <th>Shuttle</th>\n",
       "    </tr>\n",
       "  </thead>\n",
       "  <tbody>\n",
       "    <tr>\n",
       "      <th>Year</th>\n",
       "      <td>1.000000</td>\n",
       "      <td>-0.006464</td>\n",
       "      <td>0.013938</td>\n",
       "      <td>0.021613</td>\n",
       "      <td>-0.164691</td>\n",
       "      <td>0.116822</td>\n",
       "      <td>0.194347</td>\n",
       "      <td>0.226758</td>\n",
       "      <td>-0.003177</td>\n",
       "    </tr>\n",
       "    <tr>\n",
       "      <th>Height (in)</th>\n",
       "      <td>-0.006464</td>\n",
       "      <td>1.000000</td>\n",
       "      <td>0.750982</td>\n",
       "      <td>0.487479</td>\n",
       "      <td>0.625295</td>\n",
       "      <td>0.361742</td>\n",
       "      <td>-0.430616</td>\n",
       "      <td>-0.411298</td>\n",
       "      <td>0.530356</td>\n",
       "    </tr>\n",
       "    <tr>\n",
       "      <th>Weight (lbs)</th>\n",
       "      <td>0.013938</td>\n",
       "      <td>0.750982</td>\n",
       "      <td>1.000000</td>\n",
       "      <td>0.941208</td>\n",
       "      <td>0.857803</td>\n",
       "      <td>0.630895</td>\n",
       "      <td>-0.635056</td>\n",
       "      <td>-0.674593</td>\n",
       "      <td>0.736187</td>\n",
       "    </tr>\n",
       "    <tr>\n",
       "      <th>BMI</th>\n",
       "      <td>0.021613</td>\n",
       "      <td>0.487479</td>\n",
       "      <td>0.941208</td>\n",
       "      <td>1.000000</td>\n",
       "      <td>0.810588</td>\n",
       "      <td>0.660457</td>\n",
       "      <td>-0.614985</td>\n",
       "      <td>-0.677088</td>\n",
       "      <td>0.697228</td>\n",
       "    </tr>\n",
       "    <tr>\n",
       "      <th>40 Yard</th>\n",
       "      <td>-0.164691</td>\n",
       "      <td>0.625295</td>\n",
       "      <td>0.857803</td>\n",
       "      <td>0.810588</td>\n",
       "      <td>1.000000</td>\n",
       "      <td>0.422216</td>\n",
       "      <td>-0.757910</td>\n",
       "      <td>-0.783943</td>\n",
       "      <td>0.770444</td>\n",
       "    </tr>\n",
       "    <tr>\n",
       "      <th>Bench Press</th>\n",
       "      <td>0.116822</td>\n",
       "      <td>0.361742</td>\n",
       "      <td>0.630895</td>\n",
       "      <td>0.660457</td>\n",
       "      <td>0.422216</td>\n",
       "      <td>1.000000</td>\n",
       "      <td>-0.256090</td>\n",
       "      <td>-0.309907</td>\n",
       "      <td>0.352981</td>\n",
       "    </tr>\n",
       "    <tr>\n",
       "      <th>Vert Leap (in)</th>\n",
       "      <td>0.194347</td>\n",
       "      <td>-0.430616</td>\n",
       "      <td>-0.635056</td>\n",
       "      <td>-0.614985</td>\n",
       "      <td>-0.757910</td>\n",
       "      <td>-0.256090</td>\n",
       "      <td>1.000000</td>\n",
       "      <td>0.795193</td>\n",
       "      <td>-0.678828</td>\n",
       "    </tr>\n",
       "    <tr>\n",
       "      <th>Broad Jump (in)</th>\n",
       "      <td>0.226758</td>\n",
       "      <td>-0.411298</td>\n",
       "      <td>-0.674593</td>\n",
       "      <td>-0.677088</td>\n",
       "      <td>-0.783943</td>\n",
       "      <td>-0.309907</td>\n",
       "      <td>0.795193</td>\n",
       "      <td>1.000000</td>\n",
       "      <td>-0.664198</td>\n",
       "    </tr>\n",
       "    <tr>\n",
       "      <th>Shuttle</th>\n",
       "      <td>-0.003177</td>\n",
       "      <td>0.530356</td>\n",
       "      <td>0.736187</td>\n",
       "      <td>0.697228</td>\n",
       "      <td>0.770444</td>\n",
       "      <td>0.352981</td>\n",
       "      <td>-0.678828</td>\n",
       "      <td>-0.664198</td>\n",
       "      <td>1.000000</td>\n",
       "    </tr>\n",
       "  </tbody>\n",
       "</table>\n",
       "</div>"
      ],
      "text/plain": [
       "                     Year  Height (in)  Weight (lbs)       BMI   40 Yard  \\\n",
       "Year             1.000000    -0.006464      0.013938  0.021613 -0.164691   \n",
       "Height (in)     -0.006464     1.000000      0.750982  0.487479  0.625295   \n",
       "Weight (lbs)     0.013938     0.750982      1.000000  0.941208  0.857803   \n",
       "BMI              0.021613     0.487479      0.941208  1.000000  0.810588   \n",
       "40 Yard         -0.164691     0.625295      0.857803  0.810588  1.000000   \n",
       "Bench Press      0.116822     0.361742      0.630895  0.660457  0.422216   \n",
       "Vert Leap (in)   0.194347    -0.430616     -0.635056 -0.614985 -0.757910   \n",
       "Broad Jump (in)  0.226758    -0.411298     -0.674593 -0.677088 -0.783943   \n",
       "Shuttle         -0.003177     0.530356      0.736187  0.697228  0.770444   \n",
       "\n",
       "                 Bench Press  Vert Leap (in)  Broad Jump (in)   Shuttle  \n",
       "Year                0.116822        0.194347         0.226758 -0.003177  \n",
       "Height (in)         0.361742       -0.430616        -0.411298  0.530356  \n",
       "Weight (lbs)        0.630895       -0.635056        -0.674593  0.736187  \n",
       "BMI                 0.660457       -0.614985        -0.677088  0.697228  \n",
       "40 Yard             0.422216       -0.757910        -0.783943  0.770444  \n",
       "Bench Press         1.000000       -0.256090        -0.309907  0.352981  \n",
       "Vert Leap (in)     -0.256090        1.000000         0.795193 -0.678828  \n",
       "Broad Jump (in)    -0.309907        0.795193         1.000000 -0.664198  \n",
       "Shuttle             0.352981       -0.678828        -0.664198  1.000000  "
      ]
     },
     "execution_count": 8,
     "metadata": {},
     "output_type": "execute_result"
    }
   ],
   "source": [
    "# View correlation of the features\n",
    "\n",
    "combine_ml_df.corr()"
   ]
  },
  {
   "cell_type": "code",
   "execution_count": 9,
   "metadata": {},
   "outputs": [
    {
     "data": {
      "image/png": "[encoded data removed]",
      "text/plain": [
       "<Figure size 1080x720 with 2 Axes>"
      ]
     },
     "metadata": {
      "needs_background": "light"
     },
     "output_type": "display_data"
    }
   ],
   "source": [
    "corr_matrix = combine_ml_df.corr()\n",
    "fig, ax = plt.subplots(figsize=(15,10))\n",
    "ax = sns.heatmap(corr_matrix,\n",
    "                 annot=True,\n",
    "                 linewidths=0.5,\n",
    "                 fmt='.2f',\n",
    "                 cmap = 'YlGnBu')"
   ]
  },
  {
   "cell_type": "code",
   "execution_count": 10,
   "metadata": {},
   "outputs": [
    {
     "data": {
      "text/plain": [
       "<AxesSubplot:xlabel='Feature', ylabel='Correlation'>"
      ]
     },
     "execution_count": 10,
     "metadata": {},
     "output_type": "execute_result"
    },
    {
     "data": {
      "image/png": "[encoded data removed]",
      "text/plain": [
       "<Figure size 720x432 with 1 Axes>"
      ]
     },
     "metadata": {
      "needs_background": "light"
     },
     "output_type": "display_data"
    }
   ],
   "source": [
    "corr_df = combine_ml_df.corr()\n",
    "\n",
    "# Extract the correlation values for the '40 Yard' column\n",
    "# Exclude the '40 Yard' itself to avoid a perfect correlation value of 1\n",
    "\n",
    "corr_40_yard = corr_df['40 Yard'].drop('40 Yard')  \n",
    "\n",
    "# Convert to a DataFrame for easier plotting\n",
    "corr_40_yard_df = corr_40_yard.reset_index()\n",
    "corr_40_yard_df.columns = ['Feature', 'Correlation']\n",
    "\n",
    "# Sort by correlation values for better visualization\n",
    "corr_40_yard_df = corr_40_yard_df.sort_values(by='Correlation', ascending=False)\n",
    "\n",
    "# Create a vertical bar chart\n",
    "plt.figure(figsize=(10, 6))\n",
    "sns.barplot(data=corr_40_yard_df, x='Feature', y='Correlation', palette='viridis')"
   ]
  },
  {
   "cell_type": "code",
   "execution_count": 11,
   "metadata": {},
   "outputs": [
    {
     "data": {
      "text/plain": [
       "<AxesSubplot:xlabel='Feature', ylabel='Correlation'>"
      ]
     },
     "execution_count": 11,
     "metadata": {},
     "output_type": "execute_result"
    },
    {
     "data": {
      "image/png": "[encoded data removed]",
      "text/plain": [
       "<Figure size 720x432 with 1 Axes>"
      ]
     },
     "metadata": {
      "needs_background": "light"
     },
     "output_type": "display_data"
    }
   ],
   "source": [
    "# Extract the correlation values for the 'Bench Press' column\n",
    "corr_bench = corr_df['Bench Press'].drop('Bench Press')  # Exclude the '40 Yard' itself to avoid a perfect correlation value of 1\n",
    "\n",
    "# Convert to a DataFrame for easier plotting\n",
    "corr_bench_df = corr_bench.reset_index()\n",
    "corr_bench_df.columns = ['Feature', 'Correlation']\n",
    "\n",
    "# Sort by correlation values for better visualization\n",
    "corr_bench_df = corr_bench_df.sort_values(by='Correlation', ascending=False)\n",
    "\n",
    "# Create a vertical bar chart\n",
    "plt.figure(figsize=(10, 6))\n",
    "sns.barplot(data=corr_bench_df, x='Feature', y='Correlation', palette='viridis')"
   ]
  },
  {
   "cell_type": "markdown",
   "metadata": {},
   "source": [
    "## Modeling\n",
    "\n",
    "For this project I want to see if I can determine what position a player will be based of their performance in the NFL combine. I'll use position as the target and the other features determining characteristics.\n",
    "\n",
    "### We're going to try:\n",
    "1. K-Nearest Neighbors\n",
    "2. Random Forest\n",
    "3. Logistic Regression"
   ]
  },
  {
   "cell_type": "code",
   "execution_count": 12,
   "metadata": {},
   "outputs": [],
   "source": [
    "# Split the data into X and y\n",
    "\n",
    "X = combine_ml_df.drop(columns=['POS','Name','College'])\n",
    "y = combine_ml_df['POS']\n",
    "\n",
    "np.random.seed(42)\n",
    "\n",
    "X_train, X_test, y_train, y_test = train_test_split(X, y, test_size=0.2)"
   ]
  },
  {
   "cell_type": "code",
   "execution_count": 13,
   "metadata": {},
   "outputs": [],
   "source": [
    "# Create dicitionary of models for quick access and testing.\n",
    "models = {\"Logistic Regression\": LogisticRegression(),\n",
    "          \"KNN\": KNeighborsClassifier(),\n",
    "          \"Random Forest\": RandomForestClassifier()}\n",
    "\n",
    "# Create a function to fit and score models\n",
    "def fit_and_score(models, X_train, X_test, y_train, y_test):\n",
    "    \"\"\"\n",
    "    Fits and evaluates given machine learning models.\n",
    "    models : a dict of different Scikit-Learn machine learning models\n",
    "    X_train : training data (no labels)\n",
    "    X_test : testing data (no labels)\n",
    "    y_train : training labels\n",
    "    y_test : test labels\n",
    "    \"\"\"\n",
    "\n",
    "    # Set random seed\n",
    "    np.random.seed(42)\n",
    "\n",
    "    # Make a dictionary to keep model scores\n",
    "    model_scores = {}\n",
    "\n",
    "    # Loop through models\n",
    "    for name, model in models.items(): \n",
    "\n",
    "        # Fit the model to the data\n",
    "        model.fit(X_train, y_train)\n",
    "\n",
    "        # Evaluate the model and append its score to model_score\n",
    "        model_scores[name] = model.score(X_test, y_test)\n",
    "\n",
    "    return model_scores\n",
    "\n"
   ]
  },
  {
   "cell_type": "code",
   "execution_count": 14,
   "metadata": {},
   "outputs": [
    {
     "name": "stderr",
     "output_type": "stream",
     "text": [
      "c:\\Users\\seanc\\anaconda3\\envs\\PythonData\\lib\\site-packages\\sklearn\\linear_model\\_logistic.py:765: ConvergenceWarning: lbfgs failed to converge (status=1):\n",
      "STOP: TOTAL NO. of ITERATIONS REACHED LIMIT.\n",
      "\n",
      "Increase the number of iterations (max_iter) or scale the data as shown in:\n",
      "    https://scikit-learn.org/stable/modules/preprocessing.html\n",
      "Please also refer to the documentation for alternative solver options:\n",
      "    https://scikit-learn.org/stable/modules/linear_model.html#logistic-regression\n",
      "  extra_warning_msg=_LOGISTIC_SOLVER_CONVERGENCE_MSG)\n"
     ]
    },
    {
     "data": {
      "text/plain": [
       "{'Logistic Regression': 0.3954171562867215,\n",
       " 'KNN': 0.4236192714453584,\n",
       " 'Random Forest': 0.5323149236192715}"
      ]
     },
     "execution_count": 14,
     "metadata": {},
     "output_type": "execute_result"
    }
   ],
   "source": [
    "models_scores = fit_and_score(models, X_train, X_test, y_train, y_test)\n",
    "models_scores"
   ]
  },
  {
   "cell_type": "code",
   "execution_count": 15,
   "metadata": {},
   "outputs": [
    {
     "data": {
      "image/png": "[encoded data removed]",
      "text/plain": [
       "<Figure size 432x288 with 1 Axes>"
      ]
     },
     "metadata": {
      "needs_background": "light"
     },
     "output_type": "display_data"
    }
   ],
   "source": [
    "model_compare = pd.DataFrame(models_scores, index=[\"accuracy\"])\n",
    "model_compare.T.plot.bar();"
   ]
  },
  {
   "cell_type": "markdown",
   "metadata": {},
   "source": [
    "These results are far from ideal. The first step we might take to improve the model is to refine the data. \n",
    "\n",
    "- We'll start by consolidating or removing positions that have very few occurances."
   ]
  },
  {
   "cell_type": "code",
   "execution_count": 16,
   "metadata": {},
   "outputs": [
    {
     "data": {
      "text/plain": [
       "WR     1874\n",
       "CB     1445\n",
       "RB     1248\n",
       "DE     1084\n",
       "OT     1072\n",
       "DT     1050\n",
       "OLB    1037\n",
       "OG      872\n",
       "TE      804\n",
       "QB      769\n",
       "ILB     572\n",
       "FS      548\n",
       "SS      500\n",
       "C       453\n",
       "FB      318\n",
       "P       163\n",
       "K       145\n",
       "LB       91\n",
       "S        53\n",
       "LS       26\n",
       "EDG      22\n",
       "OL       10\n",
       "DL        4\n",
       "DB        3\n",
       "NT        1\n",
       "Name: POS, dtype: int64"
      ]
     },
     "execution_count": 16,
     "metadata": {},
     "output_type": "execute_result"
    }
   ],
   "source": [
    "# Check original dataset\n",
    "combine_raw_df['POS'].value_counts()"
   ]
  },
  {
   "cell_type": "code",
   "execution_count": 17,
   "metadata": {},
   "outputs": [
    {
     "data": {
      "text/plain": [
       "CB     950\n",
       "RB     789\n",
       "OT     761\n",
       "DE     754\n",
       "WR     748\n",
       "DT     739\n",
       "OLB    720\n",
       "OG     629\n",
       "TE     579\n",
       "ILB    393\n",
       "FS     387\n",
       "C      335\n",
       "SS     333\n",
       "FB     228\n",
       "LB      51\n",
       "QB      37\n",
       "S       27\n",
       "EDG     16\n",
       "LS      14\n",
       "OL       6\n",
       "P        4\n",
       "DB       3\n",
       "K        3\n",
       "DL       2\n",
       "NT       1\n",
       "Name: POS, dtype: int64"
      ]
     },
     "execution_count": 17,
     "metadata": {},
     "output_type": "execute_result"
    }
   ],
   "source": [
    "# Check current dataset\n",
    "combine_ml_df['POS'].value_counts()"
   ]
  },
  {
   "cell_type": "markdown",
   "metadata": {},
   "source": [
    "One of the biggest differences is the change in the number of QB rows. Clearly QB's don't participate in every event.  "
   ]
  },
  {
   "cell_type": "code",
   "execution_count": 18,
   "metadata": {},
   "outputs": [
    {
     "data": {
      "text/plain": [
       "Year                 0\n",
       "Name                 0\n",
       "College              0\n",
       "POS                  0\n",
       "Height (in)          0\n",
       "Weight (lbs)         0\n",
       "BMI                  0\n",
       "40 Yard             93\n",
       "Bench Press        723\n",
       "Vert Leap (in)     125\n",
       "Broad Jump (in)    123\n",
       "Shuttle            154\n",
       "3Cone              651\n",
       "dtype: int64"
      ]
     },
     "execution_count": 18,
     "metadata": {},
     "output_type": "execute_result"
    }
   ],
   "source": [
    "# Get sum of null values for QB positions\n",
    "combine_raw_df[combine_raw_df['POS'] == 'QB'].isnull().sum()\n"
   ]
  },
  {
   "cell_type": "markdown",
   "metadata": {},
   "source": [
    "From this data it would appear that most QBs opt out of the bench press and 3 cone events. In this case we have a few options, like replacing the null values for the bench press with the average value for the QBs that did participate, but assuming future QBs could continue to opt out, it may not be the best option for prediction. In this case we'll drop the bench press and 3Cone events."
   ]
  },
  {
   "cell_type": "code",
   "execution_count": 19,
   "metadata": {},
   "outputs": [
    {
     "data": {
      "text/plain": [
       "WR     1462\n",
       "CB     1106\n",
       "RB      887\n",
       "OT      858\n",
       "DE      835\n",
       "OLB     811\n",
       "DT      808\n",
       "OG      706\n",
       "TE      655\n",
       "QB      587\n",
       "ILB     445\n",
       "FS      433\n",
       "SS      380\n",
       "C       361\n",
       "FB      252\n",
       "LB       57\n",
       "Name: POS, dtype: int64"
      ]
     },
     "execution_count": 19,
     "metadata": {},
     "output_type": "execute_result"
    }
   ],
   "source": [
    "# Drop the columns and NaN values\n",
    "\n",
    "combine_ml_df = combine_raw_df.drop(columns=['Bench Press', '3Cone'])\n",
    "\n",
    "combine_ml_df.dropna(inplace=True)\n",
    "\n",
    "combine_ml_df = combine_ml_df[~combine_ml_df['POS'].isin(['P', 'S', 'K', 'DL', 'LS', 'EDG', 'OL', 'DL', 'DB', 'NT'])]\n",
    "\n",
    "# Check current dataset\n",
    "\n",
    "combine_ml_df['POS'].value_counts()\n"
   ]
  },
  {
   "cell_type": "markdown",
   "metadata": {},
   "source": [
    "We may also want to combine some positions. Although there are some diffrences between ILB and OLB for example, they are similar."
   ]
  },
  {
   "cell_type": "code",
   "execution_count": 20,
   "metadata": {},
   "outputs": [
    {
     "data": {
      "text/html": [
       "<div>\n",
       "<style scoped>\n",
       "    .dataframe tbody tr th:only-of-type {\n",
       "        vertical-align: middle;\n",
       "    }\n",
       "\n",
       "    .dataframe tbody tr th {\n",
       "        vertical-align: top;\n",
       "    }\n",
       "\n",
       "    .dataframe thead th {\n",
       "        text-align: right;\n",
       "    }\n",
       "</style>\n",
       "<table border=\"1\" class=\"dataframe\">\n",
       "  <thead>\n",
       "    <tr style=\"text-align: right;\">\n",
       "      <th></th>\n",
       "      <th>Year</th>\n",
       "      <th>Name</th>\n",
       "      <th>College</th>\n",
       "      <th>POS</th>\n",
       "      <th>Height (in)</th>\n",
       "      <th>Weight (lbs)</th>\n",
       "      <th>BMI</th>\n",
       "      <th>40 Yard</th>\n",
       "      <th>Bench Press</th>\n",
       "      <th>Vert Leap (in)</th>\n",
       "      <th>Broad Jump (in)</th>\n",
       "      <th>Shuttle</th>\n",
       "      <th>3Cone</th>\n",
       "    </tr>\n",
       "  </thead>\n",
       "  <tbody>\n",
       "    <tr>\n",
       "      <th>0</th>\n",
       "      <td>1987</td>\n",
       "      <td>Mike Adams</td>\n",
       "      <td>Arizona State</td>\n",
       "      <td>CB</td>\n",
       "      <td>69.8</td>\n",
       "      <td>198.0</td>\n",
       "      <td>28.6</td>\n",
       "      <td>4.42</td>\n",
       "      <td>13.0</td>\n",
       "      <td>32.0</td>\n",
       "      <td>118.0</td>\n",
       "      <td>4.60</td>\n",
       "      <td>NaN</td>\n",
       "    </tr>\n",
       "    <tr>\n",
       "      <th>1</th>\n",
       "      <td>1987</td>\n",
       "      <td>John Adickes</td>\n",
       "      <td>Baylor</td>\n",
       "      <td>C</td>\n",
       "      <td>74.8</td>\n",
       "      <td>266.0</td>\n",
       "      <td>33.4</td>\n",
       "      <td>4.97</td>\n",
       "      <td>25.0</td>\n",
       "      <td>26.5</td>\n",
       "      <td>103.0</td>\n",
       "      <td>4.60</td>\n",
       "      <td>NaN</td>\n",
       "    </tr>\n",
       "    <tr>\n",
       "      <th>2</th>\n",
       "      <td>1987</td>\n",
       "      <td>Tommy Agee</td>\n",
       "      <td>Auburn</td>\n",
       "      <td>FB</td>\n",
       "      <td>71.8</td>\n",
       "      <td>217.0</td>\n",
       "      <td>29.6</td>\n",
       "      <td>NaN</td>\n",
       "      <td>15.0</td>\n",
       "      <td>NaN</td>\n",
       "      <td>NaN</td>\n",
       "      <td>NaN</td>\n",
       "      <td>NaN</td>\n",
       "    </tr>\n",
       "    <tr>\n",
       "      <th>3</th>\n",
       "      <td>1987</td>\n",
       "      <td>David Alexander</td>\n",
       "      <td>Tulsa (OK)</td>\n",
       "      <td>C</td>\n",
       "      <td>75.0</td>\n",
       "      <td>279.0</td>\n",
       "      <td>34.9</td>\n",
       "      <td>5.13</td>\n",
       "      <td>22.0</td>\n",
       "      <td>27.5</td>\n",
       "      <td>105.0</td>\n",
       "      <td>4.33</td>\n",
       "      <td>NaN</td>\n",
       "    </tr>\n",
       "    <tr>\n",
       "      <th>4</th>\n",
       "      <td>1987</td>\n",
       "      <td>Lyneal Alston</td>\n",
       "      <td>Southern Mississippi</td>\n",
       "      <td>WR</td>\n",
       "      <td>72.1</td>\n",
       "      <td>202.0</td>\n",
       "      <td>27.3</td>\n",
       "      <td>4.64</td>\n",
       "      <td>7.0</td>\n",
       "      <td>32.0</td>\n",
       "      <td>114.0</td>\n",
       "      <td>4.52</td>\n",
       "      <td>NaN</td>\n",
       "    </tr>\n",
       "  </tbody>\n",
       "</table>\n",
       "</div>"
      ],
      "text/plain": [
       "   Year             Name               College POS  Height (in)  Weight (lbs)  \\\n",
       "0  1987       Mike Adams         Arizona State  CB         69.8         198.0   \n",
       "1  1987     John Adickes                Baylor   C         74.8         266.0   \n",
       "2  1987       Tommy Agee                Auburn  FB         71.8         217.0   \n",
       "3  1987  David Alexander            Tulsa (OK)   C         75.0         279.0   \n",
       "4  1987    Lyneal Alston  Southern Mississippi  WR         72.1         202.0   \n",
       "\n",
       "    BMI  40 Yard  Bench Press  Vert Leap (in)  Broad Jump (in)  Shuttle  3Cone  \n",
       "0  28.6     4.42         13.0            32.0            118.0     4.60    NaN  \n",
       "1  33.4     4.97         25.0            26.5            103.0     4.60    NaN  \n",
       "2  29.6      NaN         15.0             NaN              NaN      NaN    NaN  \n",
       "3  34.9     5.13         22.0            27.5            105.0     4.33    NaN  \n",
       "4  27.3     4.64          7.0            32.0            114.0     4.52    NaN  "
      ]
     },
     "execution_count": 20,
     "metadata": {},
     "output_type": "execute_result"
    }
   ],
   "source": [
    "combine_raw_df.head()"
   ]
  },
  {
   "cell_type": "code",
   "execution_count": 21,
   "metadata": {},
   "outputs": [
    {
     "data": {
      "text/plain": [
       "CB    1467\n",
       "WR    1462\n",
       "LB    1313\n",
       "RB    1139\n",
       "OT     858\n",
       "DE     835\n",
       "S      813\n",
       "DT     808\n",
       "OG     706\n",
       "TE     655\n",
       "QB     587\n",
       "Name: POS, dtype: int64"
      ]
     },
     "execution_count": 21,
     "metadata": {},
     "output_type": "execute_result"
    }
   ],
   "source": [
    "# Replace some niche postions with a more generalized version.\n",
    "combine_ml_df['POS'].replace('FB', 'RB', inplace=True)\n",
    "combine_ml_df['POS'].replace('C', 'CB', inplace=True)\n",
    "combine_ml_df['POS'].replace('SS', 'S', inplace=True)\n",
    "combine_ml_df['POS'].replace('FS', 'S', inplace=True)\n",
    "combine_ml_df['POS'].replace('FB', 'RB', inplace=True)\n",
    "combine_ml_df['POS'].replace('ILB', 'LB', inplace=True)\n",
    "combine_ml_df['POS'].replace('OLB', 'LB', inplace=True)\n",
    "\n",
    "combine_ml_df['POS'].value_counts()\n"
   ]
  },
  {
   "cell_type": "code",
   "execution_count": 22,
   "metadata": {},
   "outputs": [
    {
     "data": {
      "text/html": [
       "<div>\n",
       "<style scoped>\n",
       "    .dataframe tbody tr th:only-of-type {\n",
       "        vertical-align: middle;\n",
       "    }\n",
       "\n",
       "    .dataframe tbody tr th {\n",
       "        vertical-align: top;\n",
       "    }\n",
       "\n",
       "    .dataframe thead th {\n",
       "        text-align: right;\n",
       "    }\n",
       "</style>\n",
       "<table border=\"1\" class=\"dataframe\">\n",
       "  <thead>\n",
       "    <tr style=\"text-align: right;\">\n",
       "      <th></th>\n",
       "      <th>Year</th>\n",
       "      <th>Name</th>\n",
       "      <th>College</th>\n",
       "      <th>POS</th>\n",
       "      <th>Height (in)</th>\n",
       "      <th>Weight (lbs)</th>\n",
       "      <th>BMI</th>\n",
       "      <th>40 Yard</th>\n",
       "      <th>Vert Leap (in)</th>\n",
       "      <th>Broad Jump (in)</th>\n",
       "      <th>Shuttle</th>\n",
       "    </tr>\n",
       "  </thead>\n",
       "  <tbody>\n",
       "    <tr>\n",
       "      <th>0</th>\n",
       "      <td>1987</td>\n",
       "      <td>Mike Adams</td>\n",
       "      <td>Arizona State</td>\n",
       "      <td>CB</td>\n",
       "      <td>69.8</td>\n",
       "      <td>198.0</td>\n",
       "      <td>28.6</td>\n",
       "      <td>4.42</td>\n",
       "      <td>32.0</td>\n",
       "      <td>118.0</td>\n",
       "      <td>4.60</td>\n",
       "    </tr>\n",
       "    <tr>\n",
       "      <th>1</th>\n",
       "      <td>1987</td>\n",
       "      <td>John Adickes</td>\n",
       "      <td>Baylor</td>\n",
       "      <td>CB</td>\n",
       "      <td>74.8</td>\n",
       "      <td>266.0</td>\n",
       "      <td>33.4</td>\n",
       "      <td>4.97</td>\n",
       "      <td>26.5</td>\n",
       "      <td>103.0</td>\n",
       "      <td>4.60</td>\n",
       "    </tr>\n",
       "    <tr>\n",
       "      <th>3</th>\n",
       "      <td>1987</td>\n",
       "      <td>David Alexander</td>\n",
       "      <td>Tulsa (OK)</td>\n",
       "      <td>CB</td>\n",
       "      <td>75.0</td>\n",
       "      <td>279.0</td>\n",
       "      <td>34.9</td>\n",
       "      <td>5.13</td>\n",
       "      <td>27.5</td>\n",
       "      <td>105.0</td>\n",
       "      <td>4.33</td>\n",
       "    </tr>\n",
       "    <tr>\n",
       "      <th>4</th>\n",
       "      <td>1987</td>\n",
       "      <td>Lyneal Alston</td>\n",
       "      <td>Southern Mississippi</td>\n",
       "      <td>WR</td>\n",
       "      <td>72.1</td>\n",
       "      <td>202.0</td>\n",
       "      <td>27.3</td>\n",
       "      <td>4.64</td>\n",
       "      <td>32.0</td>\n",
       "      <td>114.0</td>\n",
       "      <td>4.52</td>\n",
       "    </tr>\n",
       "    <tr>\n",
       "      <th>5</th>\n",
       "      <td>1987</td>\n",
       "      <td>Steve Alvord</td>\n",
       "      <td>Washington</td>\n",
       "      <td>DE</td>\n",
       "      <td>76.5</td>\n",
       "      <td>273.0</td>\n",
       "      <td>32.8</td>\n",
       "      <td>4.86</td>\n",
       "      <td>28.5</td>\n",
       "      <td>108.0</td>\n",
       "      <td>4.49</td>\n",
       "    </tr>\n",
       "  </tbody>\n",
       "</table>\n",
       "</div>"
      ],
      "text/plain": [
       "   Year             Name               College POS  Height (in)  Weight (lbs)  \\\n",
       "0  1987       Mike Adams         Arizona State  CB         69.8         198.0   \n",
       "1  1987     John Adickes                Baylor  CB         74.8         266.0   \n",
       "3  1987  David Alexander            Tulsa (OK)  CB         75.0         279.0   \n",
       "4  1987    Lyneal Alston  Southern Mississippi  WR         72.1         202.0   \n",
       "5  1987     Steve Alvord            Washington  DE         76.5         273.0   \n",
       "\n",
       "    BMI  40 Yard  Vert Leap (in)  Broad Jump (in)  Shuttle  \n",
       "0  28.6     4.42            32.0            118.0     4.60  \n",
       "1  33.4     4.97            26.5            103.0     4.60  \n",
       "3  34.9     5.13            27.5            105.0     4.33  \n",
       "4  27.3     4.64            32.0            114.0     4.52  \n",
       "5  32.8     4.86            28.5            108.0     4.49  "
      ]
     },
     "execution_count": 22,
     "metadata": {},
     "output_type": "execute_result"
    }
   ],
   "source": [
    "combine_ml_df.head()"
   ]
  },
  {
   "cell_type": "code",
   "execution_count": 23,
   "metadata": {},
   "outputs": [
    {
     "name": "stderr",
     "output_type": "stream",
     "text": [
      "c:\\Users\\seanc\\anaconda3\\envs\\PythonData\\lib\\site-packages\\sklearn\\linear_model\\_logistic.py:765: ConvergenceWarning: lbfgs failed to converge (status=1):\n",
      "STOP: TOTAL NO. of ITERATIONS REACHED LIMIT.\n",
      "\n",
      "Increase the number of iterations (max_iter) or scale the data as shown in:\n",
      "    https://scikit-learn.org/stable/modules/preprocessing.html\n",
      "Please also refer to the documentation for alternative solver options:\n",
      "    https://scikit-learn.org/stable/modules/linear_model.html#logistic-regression\n",
      "  extra_warning_msg=_LOGISTIC_SOLVER_CONVERGENCE_MSG)\n"
     ]
    },
    {
     "data": {
      "text/html": [
       "<div>\n",
       "<style scoped>\n",
       "    .dataframe tbody tr th:only-of-type {\n",
       "        vertical-align: middle;\n",
       "    }\n",
       "\n",
       "    .dataframe tbody tr th {\n",
       "        vertical-align: top;\n",
       "    }\n",
       "\n",
       "    .dataframe thead th {\n",
       "        text-align: right;\n",
       "    }\n",
       "</style>\n",
       "<table border=\"1\" class=\"dataframe\">\n",
       "  <thead>\n",
       "    <tr style=\"text-align: right;\">\n",
       "      <th></th>\n",
       "      <th>Logistic Regression</th>\n",
       "      <th>KNN</th>\n",
       "      <th>Random Forest</th>\n",
       "    </tr>\n",
       "  </thead>\n",
       "  <tbody>\n",
       "    <tr>\n",
       "      <th>accuracy</th>\n",
       "      <td>0.377172</td>\n",
       "      <td>0.495068</td>\n",
       "      <td>0.580554</td>\n",
       "    </tr>\n",
       "  </tbody>\n",
       "</table>\n",
       "</div>"
      ],
      "text/plain": [
       "          Logistic Regression       KNN  Random Forest\n",
       "accuracy             0.377172  0.495068       0.580554"
      ]
     },
     "execution_count": 23,
     "metadata": {},
     "output_type": "execute_result"
    }
   ],
   "source": [
    "# Split the data into X and y again\n",
    "\n",
    "X = combine_ml_df.drop(columns=['POS','Name','College'])\n",
    "y = combine_ml_df['POS']\n",
    "\n",
    "np.random.seed(42)\n",
    "\n",
    "X_train, X_test, y_train, y_test = train_test_split(X, y, test_size=0.2)\n",
    "\n",
    "models_scores = fit_and_score(models, X_train, X_test, y_train, y_test)\n",
    "\n",
    "model_compare = pd.DataFrame(models_scores, index=[\"accuracy\"])\n",
    "model_compare"
   ]
  },
  {
   "cell_type": "code",
   "execution_count": 24,
   "metadata": {},
   "outputs": [],
   "source": [
    "# Let's tune KNN\n",
    "\n",
    "train_scores = []\n",
    "test_scores = []\n",
    "\n",
    "# Create a list of different values for n_neighbors\n",
    "neighbors = range(1, 21)\n",
    "\n",
    "# Setup KNN instance\n",
    "knn = KNeighborsClassifier()\n",
    "\n",
    "# Loop through different n_neighbors\n",
    "for i in neighbors:\n",
    "    knn.set_params(n_neighbors=i)\n",
    "    \n",
    "    # Fit the algorithm\n",
    "    knn.fit(X_train,y_train)\n",
    "    \n",
    "    # Update the training scores list\n",
    "    train_scores.append(knn.score(X_train, y_train))\n",
    "    \n",
    "    # Update the test scores list\n",
    "    test_scores.append(knn.score(X_test, y_test))"
   ]
  },
  {
   "cell_type": "code",
   "execution_count": 25,
   "metadata": {},
   "outputs": [
    {
     "data": {
      "text/plain": [
       "<matplotlib.legend.Legend at 0x237784afd48>"
      ]
     },
     "execution_count": 25,
     "metadata": {},
     "output_type": "execute_result"
    },
    {
     "data": {
      "image/png": "[encoded data removed]",
      "text/plain": [
       "<Figure size 432x288 with 1 Axes>"
      ]
     },
     "metadata": {
      "needs_background": "light"
     },
     "output_type": "display_data"
    }
   ],
   "source": [
    "# Plot the results\n",
    "\n",
    "plt.plot(neighbors, train_scores, label=\"Train score\")\n",
    "plt.plot(neighbors, test_scores, label=\"Test score\")\n",
    "plt.xticks(np.arange(1, 21, 1))\n",
    "plt.xlabel(\"Number of neighbors\")\n",
    "plt.ylabel(\"Model score\")\n",
    "plt.legend()"
   ]
  },
  {
   "cell_type": "markdown",
   "metadata": {},
   "source": [
    "## Hyperparam tuning with RandomizedSearchCV\n",
    "\n",
    "We're going to tune these models using RandomizedSearchCV:\n",
    "* Logsitic Regression\n",
    "* Random Forest"
   ]
  },
  {
   "cell_type": "code",
   "execution_count": 26,
   "metadata": {},
   "outputs": [],
   "source": [
    "# Create a hyperparam for Logistic Regression\n",
    "log_reg_grid = {\"C\" : np.logspace(-4, 4, 20),\n",
    "                \"solver\": [\"liblinear\"]}\n",
    "\n",
    "# Createt a hyperparam grid for RandomForestClassifier\n",
    "rf_grid = {\"n_estimators\": np.arange(10, 1000, 50),\n",
    "           \"max_depth\": [None, 3, 5, 10],\n",
    "           \"min_samples_split\": np.arange(2,20,2),\n",
    "           \"min_samples_leaf\": np.arange(1, 20, 2)}"
   ]
  },
  {
   "cell_type": "code",
   "execution_count": 27,
   "metadata": {},
   "outputs": [
    {
     "name": "stdout",
     "output_type": "stream",
     "text": [
      "Fitting 5 folds for each of 20 candidates, totalling 100 fits\n"
     ]
    },
    {
     "data": {
      "text/plain": [
       "RandomizedSearchCV(cv=5, estimator=LogisticRegression(), n_iter=20,\n",
       "                   param_distributions={'C': array([1.00000000e-04, 2.63665090e-04, 6.95192796e-04, 1.83298071e-03,\n",
       "       4.83293024e-03, 1.27427499e-02, 3.35981829e-02, 8.85866790e-02,\n",
       "       2.33572147e-01, 6.15848211e-01, 1.62377674e+00, 4.28133240e+00,\n",
       "       1.12883789e+01, 2.97635144e+01, 7.84759970e+01, 2.06913808e+02,\n",
       "       5.45559478e+02, 1.43844989e+03, 3.79269019e+03, 1.00000000e+04]),\n",
       "                                        'solver': ['liblinear']},\n",
       "                   verbose=True)"
      ]
     },
     "execution_count": 27,
     "metadata": {},
     "output_type": "execute_result"
    }
   ],
   "source": [
    "# Tune LogisiticRegression\n",
    "\n",
    "np.random.seed(42)\n",
    "\n",
    "# Setup random hyperparams search for Logistic Regression\n",
    "rs_log_reg = RandomizedSearchCV(LogisticRegression(),\n",
    "                                param_distributions=log_reg_grid,\n",
    "                                cv=5,\n",
    "                                n_iter=20,\n",
    "                                verbose=True)\n",
    "\n",
    "# Fit random hyperparam search model f  or LogisticRegression\n",
    "rs_log_reg.fit(X_train, y_train)"
   ]
  },
  {
   "cell_type": "code",
   "execution_count": 28,
   "metadata": {},
   "outputs": [
    {
     "data": {
      "text/plain": [
       "{'solver': 'liblinear', 'C': 1.623776739188721}"
      ]
     },
     "execution_count": 28,
     "metadata": {},
     "output_type": "execute_result"
    }
   ],
   "source": [
    "rs_log_reg.best_params_"
   ]
  },
  {
   "cell_type": "code",
   "execution_count": 29,
   "metadata": {},
   "outputs": [
    {
     "data": {
      "text/plain": [
       "0.46453734147487086"
      ]
     },
     "execution_count": 29,
     "metadata": {},
     "output_type": "execute_result"
    }
   ],
   "source": [
    "rs_log_reg.score(X_test, y_test)"
   ]
  },
  {
   "cell_type": "code",
   "execution_count": 30,
   "metadata": {},
   "outputs": [
    {
     "name": "stdout",
     "output_type": "stream",
     "text": [
      "Fitting 5 folds for each of 20 candidates, totalling 100 fits\n"
     ]
    },
    {
     "data": {
      "text/plain": [
       "RandomizedSearchCV(cv=5, estimator=RandomForestClassifier(), n_iter=20,\n",
       "                   param_distributions={'max_depth': [None, 3, 5, 10],\n",
       "                                        'min_samples_leaf': array([ 1,  3,  5,  7,  9, 11, 13, 15, 17, 19]),\n",
       "                                        'min_samples_split': array([ 2,  4,  6,  8, 10, 12, 14, 16, 18]),\n",
       "                                        'n_estimators': array([ 10,  60, 110, 160, 210, 260, 310, 360, 410, 460, 510, 560, 610,\n",
       "       660, 710, 760, 810, 860, 910, 960])},\n",
       "                   verbose=True)"
      ]
     },
     "execution_count": 30,
     "metadata": {},
     "output_type": "execute_result"
    }
   ],
   "source": [
    "np.random.seed(42)\n",
    "\n",
    "#Set up hyperparams for RFC\n",
    "rs_rf = RandomizedSearchCV(RandomForestClassifier(),\n",
    "                           param_distributions=rf_grid,\n",
    "                           cv=5,\n",
    "                           n_iter=20,\n",
    "                           verbose=True)\n",
    "\n",
    "# Fit random hyperparam search model for randomForestClassifier()\n",
    "rs_rf.fit(X_train, y_train)"
   ]
  },
  {
   "cell_type": "code",
   "execution_count": 31,
   "metadata": {},
   "outputs": [
    {
     "data": {
      "text/plain": [
       "{'n_estimators': 910,\n",
       " 'min_samples_split': 18,\n",
       " 'min_samples_leaf': 1,\n",
       " 'max_depth': 10}"
      ]
     },
     "execution_count": 31,
     "metadata": {},
     "output_type": "execute_result"
    }
   ],
   "source": [
    "# Find best hyperparameters\n",
    "rs_rf.best_params_"
   ]
  },
  {
   "cell_type": "code",
   "execution_count": 32,
   "metadata": {},
   "outputs": [
    {
     "data": {
      "text/plain": [
       "0.588069516204791"
      ]
     },
     "execution_count": 32,
     "metadata": {},
     "output_type": "execute_result"
    }
   ],
   "source": [
    "# Evaluate the randomized search cv\n",
    "rs_rf.score(X_test, y_test)"
   ]
  },
  {
   "cell_type": "markdown",
   "metadata": {},
   "source": [
    "### Let's try with XGBoost"
   ]
  },
  {
   "cell_type": "code",
   "execution_count": 33,
   "metadata": {},
   "outputs": [],
   "source": [
    "# Encode the classification values\n",
    "le = LabelEncoder()\n",
    "y_train_le = le.fit_transform(y_train)\n",
    "y_test_le = le.fit_transform(y_test)"
   ]
  },
  {
   "cell_type": "code",
   "execution_count": 34,
   "metadata": {},
   "outputs": [
    {
     "data": {
      "text/plain": [
       "XGBClassifier(base_score=0.5, booster='gbtree', callbacks=None,\n",
       "              colsample_bylevel=1, colsample_bynode=1, colsample_bytree=1,\n",
       "              early_stopping_rounds=None, enable_categorical=False,\n",
       "              eval_metric=None, gamma=0, gpu_id=-1, grow_policy='depthwise',\n",
       "              importance_type=None, interaction_constraints='',\n",
       "              learning_rate=0.300000012, max_bin=256, max_cat_to_onehot=4,\n",
       "              max_delta_step=0, max_depth=6, max_leaves=0, min_child_weight=1,\n",
       "              missing=nan, monotone_constraints='()', n_estimators=100,\n",
       "              n_jobs=0, num_parallel_tree=1, objective='multi:softprob',\n",
       "              predictor='auto', random_state=0, reg_alpha=0, ...)"
      ]
     },
     "execution_count": 34,
     "metadata": {},
     "output_type": "execute_result"
    }
   ],
   "source": [
    "# fit model no training data\n",
    "model = XGBClassifier()\n",
    "model.fit(X_train, y_train_le)"
   ]
  },
  {
   "cell_type": "code",
   "execution_count": 35,
   "metadata": {},
   "outputs": [
    {
     "data": {
      "text/plain": [
       "0.5659934241427901"
      ]
     },
     "execution_count": 35,
     "metadata": {},
     "output_type": "execute_result"
    }
   ],
   "source": [
    "model.score(X_test,y_test_le)"
   ]
  },
  {
   "cell_type": "code",
   "execution_count": 36,
   "metadata": {},
   "outputs": [
    {
     "data": {
      "text/plain": [
       "0.5659934241427901"
      ]
     },
     "execution_count": 36,
     "metadata": {},
     "output_type": "execute_result"
    }
   ],
   "source": [
    "from sklearn.metrics import confusion_matrix, accuracy_score\n",
    "y_pred = model.predict(X_test)\n",
    "#y_pred = le.inverse_transform(y_pred)\n",
    "\n",
    "accuracy_score(y_test_le, y_pred)"
   ]
  },
  {
   "cell_type": "code",
   "execution_count": 37,
   "metadata": {},
   "outputs": [
    {
     "data": {
      "text/plain": [
       "11"
      ]
     },
     "execution_count": 37,
     "metadata": {},
     "output_type": "execute_result"
    }
   ],
   "source": [
    "len(y_train.unique())"
   ]
  },
  {
   "cell_type": "code",
   "execution_count": 38,
   "metadata": {},
   "outputs": [
    {
     "name": "stdout",
     "output_type": "stream",
     "text": [
      "[ 0  1  2  3  4  5  6  7  8  9 10]\n"
     ]
    }
   ],
   "source": [
    "val_list = np.unique(y_train_le)\n",
    "print(val_list)"
   ]
  },
  {
   "cell_type": "code",
   "execution_count": 39,
   "metadata": {},
   "outputs": [
    {
     "name": "stdout",
     "output_type": "stream",
     "text": [
      "[ 0  1  2  3  4  5  6  7  8  9 10]\n"
     ]
    }
   ],
   "source": [
    "val_list = np.unique(y_pred)\n",
    "print(val_list)"
   ]
  },
  {
   "cell_type": "code",
   "execution_count": 40,
   "metadata": {},
   "outputs": [],
   "source": [
    "# Create a grid to try and tune XGBoost\n",
    "xgb_grid = {\"max_depth\": [None, 3, 5, 10],\n",
    "            \"subsample\": np.arange(0.1,1,0.1),\n",
    "           \"colsample_bylevel\": np.arange(0.1,1,0.1),\n",
    "           \"colsample_bytree\": np.arange(0.1,1,0.1),\n",
    "           \"min_child_weight\": [1, 5, 25, 50, 100],\n",
    "           \"n_estimators\": [10,50,100,250,500,1000],\n",
    "           \"learning_rate\": np.arange(0.01,0.2,0.01)\n",
    "           }"
   ]
  },
  {
   "cell_type": "code",
   "execution_count": 41,
   "metadata": {},
   "outputs": [],
   "source": [
    "#Set up hyperparams for RFC\n",
    "rs_xgb = RandomizedSearchCV(XGBClassifier(),\n",
    "                           param_distributions=xgb_grid,\n",
    "                           cv=5,\n",
    "                           n_iter=20,\n",
    "                           verbose=True)\n"
   ]
  },
  {
   "cell_type": "code",
   "execution_count": 42,
   "metadata": {},
   "outputs": [
    {
     "name": "stdout",
     "output_type": "stream",
     "text": [
      "Fitting 5 folds for each of 20 candidates, totalling 100 fits\n"
     ]
    },
    {
     "data": {
      "text/plain": [
       "RandomizedSearchCV(cv=5,\n",
       "                   estimator=XGBClassifier(base_score=None, booster=None,\n",
       "                                           callbacks=None,\n",
       "                                           colsample_bylevel=None,\n",
       "                                           colsample_bynode=None,\n",
       "                                           colsample_bytree=None,\n",
       "                                           early_stopping_rounds=None,\n",
       "                                           enable_categorical=False,\n",
       "                                           eval_metric=None, gamma=None,\n",
       "                                           gpu_id=None, grow_policy=None,\n",
       "                                           importance_type=None,\n",
       "                                           interaction_constraints=None,\n",
       "                                           learning_rate=None, max_bin=None,...\n",
       "                                        'colsample_bytree': array([0.1, 0.2, 0.3, 0.4, 0.5, 0.6, 0.7, 0.8, 0.9]),\n",
       "                                        'learning_rate': array([0.01, 0.02, 0.03, 0.04, 0.05, 0.06, 0.07, 0.08, 0.09, 0.1 , 0.11,\n",
       "       0.12, 0.13, 0.14, 0.15, 0.16, 0.17, 0.18, 0.19]),\n",
       "                                        'max_depth': [None, 3, 5, 10],\n",
       "                                        'min_child_weight': [1, 5, 25, 50, 100],\n",
       "                                        'n_estimators': [10, 50, 100, 250, 500,\n",
       "                                                         1000],\n",
       "                                        'subsample': array([0.1, 0.2, 0.3, 0.4, 0.5, 0.6, 0.7, 0.8, 0.9])},\n",
       "                   verbose=True)"
      ]
     },
     "execution_count": 42,
     "metadata": {},
     "output_type": "execute_result"
    }
   ],
   "source": [
    "# Fit random hyperparam search model for randomForestClassifier()\n",
    "rs_xgb.fit(X_train, y_train_le)"
   ]
  },
  {
   "cell_type": "code",
   "execution_count": 43,
   "metadata": {},
   "outputs": [
    {
     "data": {
      "text/plain": [
       "{'subsample': 0.7000000000000001,\n",
       " 'n_estimators': 250,\n",
       " 'min_child_weight': 100,\n",
       " 'max_depth': 5,\n",
       " 'learning_rate': 0.12,\n",
       " 'colsample_bytree': 0.5,\n",
       " 'colsample_bylevel': 0.5}"
      ]
     },
     "execution_count": 43,
     "metadata": {},
     "output_type": "execute_result"
    }
   ],
   "source": [
    "# Find best hyperparameters\n",
    "rs_xgb.best_params_"
   ]
  },
  {
   "cell_type": "code",
   "execution_count": 44,
   "metadata": {},
   "outputs": [
    {
     "data": {
      "text/plain": [
       "0.5814936589948333"
      ]
     },
     "execution_count": 44,
     "metadata": {},
     "output_type": "execute_result"
    }
   ],
   "source": [
    "# Evaluate the randomized search cv\n",
    "rs_xgb.score(X_test, y_test_le)"
   ]
  },
  {
   "cell_type": "markdown",
   "metadata": {},
   "source": [
    "Despite years of input data it seems that it is difficult to accurately predict a player's position based on the combine performance, maybe becuase there are too many positions with overlap. Perhaps a different approach for classifying athletes would be better."
   ]
  },
  {
   "cell_type": "markdown",
   "metadata": {},
   "source": [
    "# KMeans for Player Statistics\n",
    "\n",
    "Here we will:\n",
    "1. Import the KMeans algorithm.\n",
    "2. Group Players into clusters.\n",
    "3. Summarize the cluster results.\n",
    "4. Visualize the results.\n",
    "5. Use our categorization algorithms again to predict player classifications."
   ]
  },
  {
   "cell_type": "code",
   "execution_count": 45,
   "metadata": {},
   "outputs": [
    {
     "data": {
      "text/html": [
       "<div>\n",
       "<style scoped>\n",
       "    .dataframe tbody tr th:only-of-type {\n",
       "        vertical-align: middle;\n",
       "    }\n",
       "\n",
       "    .dataframe tbody tr th {\n",
       "        vertical-align: top;\n",
       "    }\n",
       "\n",
       "    .dataframe thead th {\n",
       "        text-align: right;\n",
       "    }\n",
       "</style>\n",
       "<table border=\"1\" class=\"dataframe\">\n",
       "  <thead>\n",
       "    <tr style=\"text-align: right;\">\n",
       "      <th></th>\n",
       "      <th>Year</th>\n",
       "      <th>Name</th>\n",
       "      <th>College</th>\n",
       "      <th>POS</th>\n",
       "      <th>Height (in)</th>\n",
       "      <th>Weight (lbs)</th>\n",
       "      <th>BMI</th>\n",
       "      <th>40 Yard</th>\n",
       "      <th>Bench Press</th>\n",
       "      <th>Vert Leap (in)</th>\n",
       "      <th>Broad Jump (in)</th>\n",
       "      <th>Shuttle</th>\n",
       "      <th>3Cone</th>\n",
       "    </tr>\n",
       "  </thead>\n",
       "  <tbody>\n",
       "    <tr>\n",
       "      <th>0</th>\n",
       "      <td>1987</td>\n",
       "      <td>Mike Adams</td>\n",
       "      <td>Arizona State</td>\n",
       "      <td>CB</td>\n",
       "      <td>69.8</td>\n",
       "      <td>198.0</td>\n",
       "      <td>28.6</td>\n",
       "      <td>4.42</td>\n",
       "      <td>13.0</td>\n",
       "      <td>32.0</td>\n",
       "      <td>118.0</td>\n",
       "      <td>4.60</td>\n",
       "      <td>NaN</td>\n",
       "    </tr>\n",
       "    <tr>\n",
       "      <th>1</th>\n",
       "      <td>1987</td>\n",
       "      <td>John Adickes</td>\n",
       "      <td>Baylor</td>\n",
       "      <td>C</td>\n",
       "      <td>74.8</td>\n",
       "      <td>266.0</td>\n",
       "      <td>33.4</td>\n",
       "      <td>4.97</td>\n",
       "      <td>25.0</td>\n",
       "      <td>26.5</td>\n",
       "      <td>103.0</td>\n",
       "      <td>4.60</td>\n",
       "      <td>NaN</td>\n",
       "    </tr>\n",
       "    <tr>\n",
       "      <th>2</th>\n",
       "      <td>1987</td>\n",
       "      <td>Tommy Agee</td>\n",
       "      <td>Auburn</td>\n",
       "      <td>FB</td>\n",
       "      <td>71.8</td>\n",
       "      <td>217.0</td>\n",
       "      <td>29.6</td>\n",
       "      <td>NaN</td>\n",
       "      <td>15.0</td>\n",
       "      <td>NaN</td>\n",
       "      <td>NaN</td>\n",
       "      <td>NaN</td>\n",
       "      <td>NaN</td>\n",
       "    </tr>\n",
       "    <tr>\n",
       "      <th>3</th>\n",
       "      <td>1987</td>\n",
       "      <td>David Alexander</td>\n",
       "      <td>Tulsa (OK)</td>\n",
       "      <td>C</td>\n",
       "      <td>75.0</td>\n",
       "      <td>279.0</td>\n",
       "      <td>34.9</td>\n",
       "      <td>5.13</td>\n",
       "      <td>22.0</td>\n",
       "      <td>27.5</td>\n",
       "      <td>105.0</td>\n",
       "      <td>4.33</td>\n",
       "      <td>NaN</td>\n",
       "    </tr>\n",
       "    <tr>\n",
       "      <th>4</th>\n",
       "      <td>1987</td>\n",
       "      <td>Lyneal Alston</td>\n",
       "      <td>Southern Mississippi</td>\n",
       "      <td>WR</td>\n",
       "      <td>72.1</td>\n",
       "      <td>202.0</td>\n",
       "      <td>27.3</td>\n",
       "      <td>4.64</td>\n",
       "      <td>7.0</td>\n",
       "      <td>32.0</td>\n",
       "      <td>114.0</td>\n",
       "      <td>4.52</td>\n",
       "      <td>NaN</td>\n",
       "    </tr>\n",
       "  </tbody>\n",
       "</table>\n",
       "</div>"
      ],
      "text/plain": [
       "   Year             Name               College POS  Height (in)  Weight (lbs)  \\\n",
       "0  1987       Mike Adams         Arizona State  CB         69.8         198.0   \n",
       "1  1987     John Adickes                Baylor   C         74.8         266.0   \n",
       "2  1987       Tommy Agee                Auburn  FB         71.8         217.0   \n",
       "3  1987  David Alexander            Tulsa (OK)   C         75.0         279.0   \n",
       "4  1987    Lyneal Alston  Southern Mississippi  WR         72.1         202.0   \n",
       "\n",
       "    BMI  40 Yard  Bench Press  Vert Leap (in)  Broad Jump (in)  Shuttle  3Cone  \n",
       "0  28.6     4.42         13.0            32.0            118.0     4.60    NaN  \n",
       "1  33.4     4.97         25.0            26.5            103.0     4.60    NaN  \n",
       "2  29.6      NaN         15.0             NaN              NaN      NaN    NaN  \n",
       "3  34.9     5.13         22.0            27.5            105.0     4.33    NaN  \n",
       "4  27.3     4.64          7.0            32.0            114.0     4.52    NaN  "
      ]
     },
     "execution_count": 45,
     "metadata": {},
     "output_type": "execute_result"
    }
   ],
   "source": [
    "# View the data again\n",
    "combine_df = combine_raw_df\n",
    "combine_df.head()"
   ]
  },
  {
   "cell_type": "code",
   "execution_count": 46,
   "metadata": {},
   "outputs": [
    {
     "data": {
      "text/plain": [
       "Year                   0\n",
       "Name                   0\n",
       "College                7\n",
       "POS                    0\n",
       "Height (in)            0\n",
       "Weight (lbs)           0\n",
       "BMI                    0\n",
       "40 Yard             1530\n",
       "Bench Press         3888\n",
       "Vert Leap (in)      1986\n",
       "Broad Jump (in)     2109\n",
       "Shuttle             3065\n",
       "3Cone              10354\n",
       "dtype: int64"
      ]
     },
     "execution_count": 46,
     "metadata": {},
     "output_type": "execute_result"
    }
   ],
   "source": [
    "combine_df.isna().sum()"
   ]
  },
  {
   "cell_type": "markdown",
   "metadata": {},
   "source": [
    "We need to get rid of the NaN values again. In this case we will eliminate NaN values, but only delete the 3Cone column. We won't be as worried about positions such as QB where Bench Press data is missing. We'll be more focused on how the algorithm classifies players based on all statistics."
   ]
  },
  {
   "cell_type": "code",
   "execution_count": 47,
   "metadata": {},
   "outputs": [
    {
     "name": "stdout",
     "output_type": "stream",
     "text": [
      "<class 'pandas.core.frame.DataFrame'>\n",
      "Int64Index: 10734 entries, 0 to 14160\n",
      "Data columns (total 11 columns):\n",
      " #   Column           Non-Null Count  Dtype  \n",
      "---  ------           --------------  -----  \n",
      " 0   Year             10734 non-null  int64  \n",
      " 1   Name             10734 non-null  object \n",
      " 2   College          10734 non-null  object \n",
      " 3   POS              10734 non-null  object \n",
      " 4   Height (in)      10734 non-null  float64\n",
      " 5   Weight (lbs)     10734 non-null  float64\n",
      " 6   BMI              10734 non-null  float64\n",
      " 7   40 Yard          10734 non-null  float64\n",
      " 8   Vert Leap (in)   10734 non-null  float64\n",
      " 9   Broad Jump (in)  10734 non-null  float64\n",
      " 10  Shuttle          10734 non-null  float64\n",
      "dtypes: float64(7), int64(1), object(3)\n",
      "memory usage: 1006.3+ KB\n"
     ]
    }
   ],
   "source": [
    "# Drop 3Cone and NaN Values\n",
    "combine_df= combine_df.drop(columns=['3Cone', 'Bench Press'])\n",
    "combine_df = combine_df.dropna()\n",
    "\n",
    "combine_df.info()"
   ]
  },
  {
   "cell_type": "code",
   "execution_count": 48,
   "metadata": {},
   "outputs": [
    {
     "data": {
      "text/plain": [
       "Year               0\n",
       "Name               0\n",
       "College            0\n",
       "POS                0\n",
       "Height (in)        0\n",
       "Weight (lbs)       0\n",
       "BMI                0\n",
       "40 Yard            0\n",
       "Vert Leap (in)     0\n",
       "Broad Jump (in)    0\n",
       "Shuttle            0\n",
       "dtype: int64"
      ]
     },
     "execution_count": 48,
     "metadata": {},
     "output_type": "execute_result"
    }
   ],
   "source": [
    "combine_df.isna().sum()"
   ]
  },
  {
   "cell_type": "code",
   "execution_count": 49,
   "metadata": {},
   "outputs": [
    {
     "data": {
      "image/png": "[encoded data removed]",
      "text/plain": [
       "<Figure size 432x288 with 1 Axes>"
      ]
     },
     "metadata": {
      "needs_background": "light"
     },
     "output_type": "display_data"
    }
   ],
   "source": [
    "# Import KMeans algorithm\n",
    "from sklearn.cluster import KMeans\n",
    "from sklearn.preprocessing import MinMaxScaler\n",
    "\n",
    "# Store categorical data seperately\n",
    "combine_categorical = combine_df.drop(columns=combine_df.columns[4:])\n",
    "\n",
    "# Get just values\n",
    "stats_df = combine_df.drop(columns=combine_df.columns[:4])\n",
    "\n",
    "# Scale stats\n",
    "scaler = MinMaxScaler()\n",
    "\n",
    "scaler.fit(stats_df)\n",
    "scaled_stats_df = scaler.transform(stats_df)\n",
    "\n",
    "# Test different values for k\n",
    "sum_of_squared_distances = []\n",
    "\n",
    "K = range(1,15)\n",
    "for k in K:\n",
    "    km = KMeans(n_clusters=k)\n",
    "    km = km.fit(scaled_stats_df)\n",
    "    sum_of_squared_distances.append(km.inertia_)\n",
    "\n",
    "# Plot the elbow chart\n",
    "plt.plot(K, sum_of_squared_distances, 'bx-')\n",
    "plt.xlabel('k')\n",
    "plt.ylabel('Sum_of_squared_distances')\n",
    "plt.title('Elbow Chart for Optimal k')\n",
    "plt.show()"
   ]
  },
  {
   "cell_type": "markdown",
   "metadata": {},
   "source": [
    "#### The elbow appears at 3 clusters, so that's what we'll try. Next we'll run the model and combine the predicted clusters with the original dataset."
   ]
  },
  {
   "cell_type": "code",
   "execution_count": 50,
   "metadata": {},
   "outputs": [
    {
     "data": {
      "text/html": [
       "<div>\n",
       "<style scoped>\n",
       "    .dataframe tbody tr th:only-of-type {\n",
       "        vertical-align: middle;\n",
       "    }\n",
       "\n",
       "    .dataframe tbody tr th {\n",
       "        vertical-align: top;\n",
       "    }\n",
       "\n",
       "    .dataframe thead th {\n",
       "        text-align: right;\n",
       "    }\n",
       "</style>\n",
       "<table border=\"1\" class=\"dataframe\">\n",
       "  <thead>\n",
       "    <tr style=\"text-align: right;\">\n",
       "      <th></th>\n",
       "      <th>Year</th>\n",
       "      <th>Name</th>\n",
       "      <th>College</th>\n",
       "      <th>POS</th>\n",
       "      <th>Height (in)</th>\n",
       "      <th>Weight (lbs)</th>\n",
       "      <th>BMI</th>\n",
       "      <th>40 Yard</th>\n",
       "      <th>Vert Leap (in)</th>\n",
       "      <th>Broad Jump (in)</th>\n",
       "      <th>Shuttle</th>\n",
       "      <th>Clusters</th>\n",
       "    </tr>\n",
       "  </thead>\n",
       "  <tbody>\n",
       "    <tr>\n",
       "      <th>0</th>\n",
       "      <td>1987</td>\n",
       "      <td>Mike Adams</td>\n",
       "      <td>Arizona State</td>\n",
       "      <td>CB</td>\n",
       "      <td>69.8</td>\n",
       "      <td>198.0</td>\n",
       "      <td>28.6</td>\n",
       "      <td>4.42</td>\n",
       "      <td>32.0</td>\n",
       "      <td>118.0</td>\n",
       "      <td>4.60</td>\n",
       "      <td>0</td>\n",
       "    </tr>\n",
       "    <tr>\n",
       "      <th>1</th>\n",
       "      <td>1987</td>\n",
       "      <td>John Adickes</td>\n",
       "      <td>Baylor</td>\n",
       "      <td>C</td>\n",
       "      <td>74.8</td>\n",
       "      <td>266.0</td>\n",
       "      <td>33.4</td>\n",
       "      <td>4.97</td>\n",
       "      <td>26.5</td>\n",
       "      <td>103.0</td>\n",
       "      <td>4.60</td>\n",
       "      <td>1</td>\n",
       "    </tr>\n",
       "    <tr>\n",
       "      <th>3</th>\n",
       "      <td>1987</td>\n",
       "      <td>David Alexander</td>\n",
       "      <td>Tulsa (OK)</td>\n",
       "      <td>C</td>\n",
       "      <td>75.0</td>\n",
       "      <td>279.0</td>\n",
       "      <td>34.9</td>\n",
       "      <td>5.13</td>\n",
       "      <td>27.5</td>\n",
       "      <td>105.0</td>\n",
       "      <td>4.33</td>\n",
       "      <td>2</td>\n",
       "    </tr>\n",
       "    <tr>\n",
       "      <th>4</th>\n",
       "      <td>1987</td>\n",
       "      <td>Lyneal Alston</td>\n",
       "      <td>Southern Mississippi</td>\n",
       "      <td>WR</td>\n",
       "      <td>72.1</td>\n",
       "      <td>202.0</td>\n",
       "      <td>27.3</td>\n",
       "      <td>4.64</td>\n",
       "      <td>32.0</td>\n",
       "      <td>114.0</td>\n",
       "      <td>4.52</td>\n",
       "      <td>0</td>\n",
       "    </tr>\n",
       "    <tr>\n",
       "      <th>5</th>\n",
       "      <td>1987</td>\n",
       "      <td>Steve Alvord</td>\n",
       "      <td>Washington</td>\n",
       "      <td>DE</td>\n",
       "      <td>76.5</td>\n",
       "      <td>273.0</td>\n",
       "      <td>32.8</td>\n",
       "      <td>4.86</td>\n",
       "      <td>28.5</td>\n",
       "      <td>108.0</td>\n",
       "      <td>4.49</td>\n",
       "      <td>1</td>\n",
       "    </tr>\n",
       "  </tbody>\n",
       "</table>\n",
       "</div>"
      ],
      "text/plain": [
       "   Year             Name               College POS  Height (in)  Weight (lbs)  \\\n",
       "0  1987       Mike Adams         Arizona State  CB         69.8         198.0   \n",
       "1  1987     John Adickes                Baylor   C         74.8         266.0   \n",
       "3  1987  David Alexander            Tulsa (OK)   C         75.0         279.0   \n",
       "4  1987    Lyneal Alston  Southern Mississippi  WR         72.1         202.0   \n",
       "5  1987     Steve Alvord            Washington  DE         76.5         273.0   \n",
       "\n",
       "    BMI  40 Yard  Vert Leap (in)  Broad Jump (in)  Shuttle  Clusters  \n",
       "0  28.6     4.42            32.0            118.0     4.60         0  \n",
       "1  33.4     4.97            26.5            103.0     4.60         1  \n",
       "3  34.9     5.13            27.5            105.0     4.33         2  \n",
       "4  27.3     4.64            32.0            114.0     4.52         0  \n",
       "5  32.8     4.86            28.5            108.0     4.49         1  "
      ]
     },
     "execution_count": 50,
     "metadata": {},
     "output_type": "execute_result"
    }
   ],
   "source": [
    "# Fit the model with just the desired clusters\n",
    "km = KMeans(n_clusters=3)\n",
    "km.fit(scaled_stats_df)\n",
    "\n",
    "# Create resulting clusters\n",
    "predicted = km.predict(scaled_stats_df)\n",
    "\n",
    "# Add predictions to the orignial dataframe (unscaled and with all columns)\n",
    "combine_df['Clusters'] = predicted\n",
    "\n",
    "combine_df.head()"
   ]
  },
  {
   "cell_type": "code",
   "execution_count": 51,
   "metadata": {},
   "outputs": [
    {
     "name": "stdout",
     "output_type": "stream",
     "text": [
      "         Height (in)\n",
      "               count\n",
      "Clusters            \n",
      "0             4416.0\n",
      "1             3535.0\n",
      "2             2783.0\n",
      "         Height (in)\n",
      "                mean\n",
      "Clusters            \n",
      "0          71.651594\n",
      "1          74.732266\n",
      "2          76.061700\n",
      "         Height (in)\n",
      "                 std\n",
      "Clusters            \n",
      "0           2.001371\n",
      "1           1.876210\n",
      "2           1.662413\n",
      "         Height (in)\n",
      "                 min\n",
      "Clusters            \n",
      "0               61.5\n",
      "1               67.5\n",
      "2               70.9\n",
      "         Height (in)\n",
      "                 25%\n",
      "Clusters            \n",
      "0              70.25\n",
      "1              73.50\n",
      "2              74.90\n",
      "         Height (in)\n",
      "                 50%\n",
      "Clusters            \n",
      "0              71.63\n",
      "1              74.80\n",
      "2              76.00\n",
      "         Height (in)\n",
      "                 75%\n",
      "Clusters            \n",
      "0              73.00\n",
      "1              76.00\n",
      "2              77.13\n",
      "         Height (in)\n",
      "                 max\n",
      "Clusters            \n",
      "0              78.30\n",
      "1              80.88\n",
      "2              82.40\n",
      "         Weight (lbs)\n",
      "                count\n",
      "Clusters             \n",
      "0              4416.0\n",
      "1              3535.0\n",
      "2              2783.0\n",
      "         Weight (lbs)\n",
      "                 mean\n",
      "Clusters             \n",
      "0          199.674819\n",
      "1          243.793494\n",
      "2          305.011139\n",
      "         Weight (lbs)\n",
      "                  std\n",
      "Clusters             \n",
      "0           15.348035\n",
      "1           18.059648\n",
      "2           17.413880\n",
      "         Weight (lbs)\n",
      "                  min\n",
      "Clusters             \n",
      "0               144.0\n",
      "1               184.0\n",
      "2               250.0\n",
      "         Weight (lbs)\n",
      "                  25%\n",
      "Clusters             \n",
      "0               189.0\n",
      "1               232.0\n",
      "2               295.0\n",
      "         Weight (lbs)\n",
      "                  50%\n",
      "Clusters             \n",
      "0               199.0\n",
      "1               243.0\n",
      "2               305.0\n",
      "         Weight (lbs)\n",
      "                  75%\n",
      "Clusters             \n",
      "0               210.0\n",
      "1               255.0\n",
      "2               315.0\n",
      "         Weight (lbs)\n",
      "                  max\n",
      "Clusters             \n",
      "0               254.0\n",
      "1               306.0\n",
      "2               387.0\n",
      "             BMI\n",
      "           count\n",
      "Clusters        \n",
      "0         4416.0\n",
      "1         3535.0\n",
      "2         2783.0\n",
      "                BMI\n",
      "               mean\n",
      "Clusters           \n",
      "0         27.350521\n",
      "1         30.698557\n",
      "2         37.091340\n",
      "               BMI\n",
      "               std\n",
      "Clusters          \n",
      "0         1.942163\n",
      "1         2.151548\n",
      "2         2.297317\n",
      "           BMI\n",
      "           min\n",
      "Clusters      \n",
      "0         21.3\n",
      "1         22.8\n",
      "2         29.8\n",
      "           BMI\n",
      "           25%\n",
      "Clusters      \n",
      "0         26.0\n",
      "1         29.4\n",
      "2         35.6\n",
      "           BMI\n",
      "           50%\n",
      "Clusters      \n",
      "0         27.1\n",
      "1         30.8\n",
      "2         37.0\n",
      "           BMI\n",
      "           75%\n",
      "Clusters      \n",
      "0         28.5\n",
      "1         32.1\n",
      "2         38.5\n",
      "           BMI\n",
      "           max\n",
      "Clusters      \n",
      "0         38.7\n",
      "1         38.3\n",
      "2         47.7\n",
      "         40 Yard\n",
      "           count\n",
      "Clusters        \n",
      "0         4416.0\n",
      "1         3535.0\n",
      "2         2783.0\n",
      "           40 Yard\n",
      "              mean\n",
      "Clusters          \n",
      "0         4.558451\n",
      "1         4.812444\n",
      "2         5.242231\n",
      "           40 Yard\n",
      "               std\n",
      "Clusters          \n",
      "0         0.112554\n",
      "1         0.150426\n",
      "2         0.190158\n",
      "         40 Yard\n",
      "             min\n",
      "Clusters        \n",
      "0           4.22\n",
      "1           4.36\n",
      "2           4.71\n",
      "         40 Yard\n",
      "             25%\n",
      "Clusters        \n",
      "0           4.48\n",
      "1           4.70\n",
      "2           5.11\n",
      "         40 Yard\n",
      "             50%\n",
      "Clusters        \n",
      "0           4.55\n",
      "1           4.81\n",
      "2           5.23\n",
      "         40 Yard\n",
      "             75%\n",
      "Clusters        \n",
      "0           4.63\n",
      "1           4.91\n",
      "2           5.37\n",
      "         40 Yard\n",
      "             max\n",
      "Clusters        \n",
      "0           5.19\n",
      "1           5.37\n",
      "2           6.12\n",
      "         Vert Leap (in)\n",
      "                  count\n",
      "Clusters               \n",
      "0                4416.0\n",
      "1                3535.0\n",
      "2                2783.0\n",
      "         Vert Leap (in)\n",
      "                   mean\n",
      "Clusters               \n",
      "0             35.027853\n",
      "1             32.148175\n",
      "2             27.816924\n",
      "         Vert Leap (in)\n",
      "                    std\n",
      "Clusters               \n",
      "0              3.107743\n",
      "1              3.140651\n",
      "2              3.006850\n",
      "         Vert Leap (in)\n",
      "                    min\n",
      "Clusters               \n",
      "0                  22.5\n",
      "1                  20.5\n",
      "2                  17.5\n",
      "         Vert Leap (in)\n",
      "                    25%\n",
      "Clusters               \n",
      "0                  33.0\n",
      "1                  30.0\n",
      "2                  25.5\n",
      "         Vert Leap (in)\n",
      "                    50%\n",
      "Clusters               \n",
      "0                  35.0\n",
      "1                  32.0\n",
      "2                  28.0\n",
      "         Vert Leap (in)\n",
      "                    75%\n",
      "Clusters               \n",
      "0                  37.0\n",
      "1                  34.0\n",
      "2                  30.0\n",
      "         Vert Leap (in)\n",
      "                    max\n",
      "Clusters               \n",
      "0                  46.5\n",
      "1                  42.5\n",
      "2                  38.5\n",
      "         Broad Jump (in)\n",
      "                   count\n",
      "Clusters                \n",
      "0                 4416.0\n",
      "1                 3535.0\n",
      "2                 2783.0\n",
      "         Broad Jump (in)\n",
      "                    mean\n",
      "Clusters                \n",
      "0             119.578578\n",
      "1             113.309760\n",
      "2             102.447000\n",
      "         Broad Jump (in)\n",
      "                     std\n",
      "Clusters                \n",
      "0               6.243397\n",
      "1               7.129885\n",
      "2               7.585362\n",
      "         Broad Jump (in)\n",
      "                     min\n",
      "Clusters                \n",
      "0                   95.0\n",
      "1                    9.0\n",
      "2                    7.0\n",
      "         Broad Jump (in)\n",
      "                     25%\n",
      "Clusters                \n",
      "0                  115.0\n",
      "1                  109.0\n",
      "2                   98.0\n",
      "         Broad Jump (in)\n",
      "                     50%\n",
      "Clusters                \n",
      "0                  120.0\n",
      "1                  113.0\n",
      "2                  103.0\n",
      "         Broad Jump (in)\n",
      "                     75%\n",
      "Clusters                \n",
      "0                  124.0\n",
      "1                  118.0\n",
      "2                  107.0\n",
      "         Broad Jump (in)\n",
      "                     max\n",
      "Clusters                \n",
      "0                  147.0\n",
      "1                  139.0\n",
      "2                  128.0\n",
      "         Shuttle\n",
      "           count\n",
      "Clusters        \n",
      "0         4416.0\n",
      "1         3535.0\n",
      "2         2783.0\n",
      "           Shuttle\n",
      "              mean\n",
      "Clusters          \n",
      "0         4.243141\n",
      "1         4.393686\n",
      "2         4.730367\n",
      "           Shuttle\n",
      "               std\n",
      "Clusters          \n",
      "0         0.161811\n",
      "1         0.177567\n",
      "2         0.202477\n",
      "         Shuttle\n",
      "             min\n",
      "Clusters        \n",
      "0           3.73\n",
      "1           3.83\n",
      "2           3.89\n",
      "         Shuttle\n",
      "             25%\n",
      "Clusters        \n",
      "0           4.13\n",
      "1           4.28\n",
      "2           4.59\n",
      "         Shuttle\n",
      "             50%\n",
      "Clusters        \n",
      "0           4.24\n",
      "1           4.39\n",
      "2           4.72\n",
      "         Shuttle\n",
      "             75%\n",
      "Clusters        \n",
      "0           4.35\n",
      "1           4.50\n",
      "2           4.85\n",
      "         Shuttle\n",
      "             max\n",
      "Clusters        \n",
      "0           6.69\n",
      "1           7.20\n",
      "2           5.68\n"
     ]
    }
   ],
   "source": [
    "# Describe each of the clusters, what makes them unique?\n",
    "cluster_info = combine_df.groupby('Clusters').describe()\n",
    "\n",
    "cluster_info = pd.DataFrame(cluster_info)\n",
    "\n",
    "cluster_info.drop(columns=['Year'],inplace=True)\n",
    "\n",
    "for column in cluster_info.columns:\n",
    "    measure_df = pd.DataFrame(cluster_info[column])\n",
    "    print(measure_df)\n",
    "\n"
   ]
  },
  {
   "cell_type": "code",
   "execution_count": 52,
   "metadata": {},
   "outputs": [
    {
     "data": {
      "image/png": "[encoded data removed]",
      "text/plain": [
       "<Figure size 600x600 with 9 Axes>"
      ]
     },
     "metadata": {
      "needs_background": "light"
     },
     "output_type": "display_data"
    }
   ],
   "source": [
    "# Combine averages dataframe\n",
    "combine_means = combine_df.groupby('Clusters').mean().reset_index()\n",
    "\n",
    "# Create a figure and axes\n",
    "fig, axes = plt.subplots(3, 3, figsize=(12, 12), dpi=50)\n",
    "\n",
    "# Flatten the axes array for easy iteration\n",
    "axes = axes.flatten()\n",
    "\n",
    "# Multiple line plots\n",
    "for num, column in enumerate(combine_means.drop(['Clusters','Year'], axis=1), start=1):\n",
    "    ax = axes[num-1]\n",
    "\n",
    "    # Plot the line plot\n",
    "    ax.barh(combine_means['Clusters'].astype('string'), combine_means[column], color='deepskyblue', label=column)\n",
    "\n",
    "    # Add title\n",
    "    ax.set_title(column, loc='left', fontsize=12, fontweight=0, color='black')\n",
    "\n",
    "# Show the graph\n",
    "plt.show()"
   ]
  },
  {
   "cell_type": "code",
   "execution_count": 53,
   "metadata": {},
   "outputs": [
    {
     "data": {
      "text/html": [
       "<div>\n",
       "<style scoped>\n",
       "    .dataframe tbody tr th:only-of-type {\n",
       "        vertical-align: middle;\n",
       "    }\n",
       "\n",
       "    .dataframe tbody tr th {\n",
       "        vertical-align: top;\n",
       "    }\n",
       "\n",
       "    .dataframe thead tr th {\n",
       "        text-align: left;\n",
       "    }\n",
       "\n",
       "    .dataframe thead tr:last-of-type th {\n",
       "        text-align: right;\n",
       "    }\n",
       "</style>\n",
       "<table border=\"1\" class=\"dataframe\">\n",
       "  <thead>\n",
       "    <tr>\n",
       "      <th></th>\n",
       "      <th colspan=\"3\" halign=\"left\">Clusters</th>\n",
       "    </tr>\n",
       "    <tr>\n",
       "      <th>Clusters</th>\n",
       "      <th>0</th>\n",
       "      <th>1</th>\n",
       "      <th>2</th>\n",
       "    </tr>\n",
       "    <tr>\n",
       "      <th>POS</th>\n",
       "      <th></th>\n",
       "      <th></th>\n",
       "      <th></th>\n",
       "    </tr>\n",
       "  </thead>\n",
       "  <tbody>\n",
       "    <tr>\n",
       "      <th>C</th>\n",
       "      <td>0</td>\n",
       "      <td>11</td>\n",
       "      <td>350</td>\n",
       "    </tr>\n",
       "    <tr>\n",
       "      <th>CB</th>\n",
       "      <td>1101</td>\n",
       "      <td>5</td>\n",
       "      <td>0</td>\n",
       "    </tr>\n",
       "    <tr>\n",
       "      <th>DB</th>\n",
       "      <td>3</td>\n",
       "      <td>0</td>\n",
       "      <td>0</td>\n",
       "    </tr>\n",
       "    <tr>\n",
       "      <th>DE</th>\n",
       "      <td>1</td>\n",
       "      <td>703</td>\n",
       "      <td>131</td>\n",
       "    </tr>\n",
       "    <tr>\n",
       "      <th>DL</th>\n",
       "      <td>0</td>\n",
       "      <td>3</td>\n",
       "      <td>0</td>\n",
       "    </tr>\n",
       "    <tr>\n",
       "      <th>DT</th>\n",
       "      <td>0</td>\n",
       "      <td>79</td>\n",
       "      <td>729</td>\n",
       "    </tr>\n",
       "    <tr>\n",
       "      <th>EDG</th>\n",
       "      <td>0</td>\n",
       "      <td>17</td>\n",
       "      <td>0</td>\n",
       "    </tr>\n",
       "    <tr>\n",
       "      <th>FB</th>\n",
       "      <td>32</td>\n",
       "      <td>216</td>\n",
       "      <td>4</td>\n",
       "    </tr>\n",
       "    <tr>\n",
       "      <th>FS</th>\n",
       "      <td>419</td>\n",
       "      <td>14</td>\n",
       "      <td>0</td>\n",
       "    </tr>\n",
       "    <tr>\n",
       "      <th>ILB</th>\n",
       "      <td>36</td>\n",
       "      <td>407</td>\n",
       "      <td>2</td>\n",
       "    </tr>\n",
       "    <tr>\n",
       "      <th>K</th>\n",
       "      <td>3</td>\n",
       "      <td>4</td>\n",
       "      <td>0</td>\n",
       "    </tr>\n",
       "    <tr>\n",
       "      <th>LB</th>\n",
       "      <td>10</td>\n",
       "      <td>47</td>\n",
       "      <td>0</td>\n",
       "    </tr>\n",
       "    <tr>\n",
       "      <th>LS</th>\n",
       "      <td>0</td>\n",
       "      <td>17</td>\n",
       "      <td>0</td>\n",
       "    </tr>\n",
       "    <tr>\n",
       "      <th>NT</th>\n",
       "      <td>0</td>\n",
       "      <td>0</td>\n",
       "      <td>1</td>\n",
       "    </tr>\n",
       "    <tr>\n",
       "      <th>OG</th>\n",
       "      <td>0</td>\n",
       "      <td>10</td>\n",
       "      <td>696</td>\n",
       "    </tr>\n",
       "    <tr>\n",
       "      <th>OL</th>\n",
       "      <td>0</td>\n",
       "      <td>0</td>\n",
       "      <td>6</td>\n",
       "    </tr>\n",
       "    <tr>\n",
       "      <th>OLB</th>\n",
       "      <td>138</td>\n",
       "      <td>670</td>\n",
       "      <td>3</td>\n",
       "    </tr>\n",
       "    <tr>\n",
       "      <th>OT</th>\n",
       "      <td>2</td>\n",
       "      <td>18</td>\n",
       "      <td>838</td>\n",
       "    </tr>\n",
       "    <tr>\n",
       "      <th>P</th>\n",
       "      <td>4</td>\n",
       "      <td>4</td>\n",
       "      <td>0</td>\n",
       "    </tr>\n",
       "    <tr>\n",
       "      <th>QB</th>\n",
       "      <td>120</td>\n",
       "      <td>466</td>\n",
       "      <td>1</td>\n",
       "    </tr>\n",
       "    <tr>\n",
       "      <th>RB</th>\n",
       "      <td>756</td>\n",
       "      <td>131</td>\n",
       "      <td>0</td>\n",
       "    </tr>\n",
       "    <tr>\n",
       "      <th>S</th>\n",
       "      <td>28</td>\n",
       "      <td>1</td>\n",
       "      <td>0</td>\n",
       "    </tr>\n",
       "    <tr>\n",
       "      <th>SS</th>\n",
       "      <td>364</td>\n",
       "      <td>16</td>\n",
       "      <td>0</td>\n",
       "    </tr>\n",
       "    <tr>\n",
       "      <th>TE</th>\n",
       "      <td>16</td>\n",
       "      <td>617</td>\n",
       "      <td>22</td>\n",
       "    </tr>\n",
       "    <tr>\n",
       "      <th>WR</th>\n",
       "      <td>1383</td>\n",
       "      <td>79</td>\n",
       "      <td>0</td>\n",
       "    </tr>\n",
       "  </tbody>\n",
       "</table>\n",
       "</div>"
      ],
      "text/plain": [
       "         Clusters          \n",
       "Clusters        0    1    2\n",
       "POS                        \n",
       "C               0   11  350\n",
       "CB           1101    5    0\n",
       "DB              3    0    0\n",
       "DE              1  703  131\n",
       "DL              0    3    0\n",
       "DT              0   79  729\n",
       "EDG             0   17    0\n",
       "FB             32  216    4\n",
       "FS            419   14    0\n",
       "ILB            36  407    2\n",
       "K               3    4    0\n",
       "LB             10   47    0\n",
       "LS              0   17    0\n",
       "NT              0    0    1\n",
       "OG              0   10  696\n",
       "OL              0    0    6\n",
       "OLB           138  670    3\n",
       "OT              2   18  838\n",
       "P               4    4    0\n",
       "QB            120  466    1\n",
       "RB            756  131    0\n",
       "S              28    1    0\n",
       "SS            364   16    0\n",
       "TE             16  617   22\n",
       "WR           1383   79    0"
      ]
     },
     "execution_count": 53,
     "metadata": {},
     "output_type": "execute_result"
    }
   ],
   "source": [
    "combine_df.pivot_table(index=['POS'],columns=['Clusters'],\n",
    "                       aggfunc={'Clusters': 'count'}, fill_value=0)"
   ]
  },
  {
   "cell_type": "code",
   "execution_count": 54,
   "metadata": {},
   "outputs": [
    {
     "data": {
      "application/vnd.jupyter.widget-view+json": {
       "model_id": "24b1c6a504db463887a8e8bd7771c503",
       "version_major": 2,
       "version_minor": 0
      },
      "image/png": "[encoded data removed]",
      "text/html": [
       "\n",
       "            <div style=\"display: inline-block;\">\n",
       "                <div class=\"jupyter-widgets widget-label\" style=\"text-align: center;\">\n",
       "                    Figure\n",
       "                </div>\n",
       "                <img src='data:image/png;base64,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' width=720.0/>\n",
       "            </div>\n",
       "        "
      ],
      "text/plain": [
       "Canvas(toolbar=Toolbar(toolitems=[('Home', 'Reset original view', 'home', 'home'), ('Back', 'Back to previous …"
      ]
     },
     "metadata": {},
     "output_type": "display_data"
    }
   ],
   "source": [
    "# Create an interactive 3d Scatter plot of the different features\n",
    "\n",
    "from mpl_toolkits.mplot3d import Axes3D\n",
    "\n",
    "# for creating a responsive plot \n",
    "%matplotlib widget \n",
    "  \n",
    "# Select features for the plot\n",
    "xs = combine_df['BMI']\n",
    "# ys = combine_df['Bench Press']\n",
    "ys = combine_df['40 Yard']\n",
    "zs = combine_df['Vert Leap (in)']\n",
    "\n",
    "\n",
    "fig = plt.figure(figsize = (10, 7))\n",
    "ax = fig.add_subplot(111, projection='3d')\n",
    "\n",
    "scatter = ax.scatter(xs, ys, zs, c=combine_df['Clusters'])\n",
    "\n",
    "ax.set_xlabel('BMI') \n",
    "# ax.set_ylabel('Bench Press') \n",
    "ax.set_ylabel('40 Yard')\n",
    "ax.set_zlabel('Vert Leap (in)') \n",
    "\n",
    "ax.legend(*scatter.legend_elements())\n",
    "\n",
    "plt.show()"
   ]
  },
  {
   "cell_type": "markdown",
   "metadata": {},
   "source": [
    "### Conclusions\n",
    "Although we weren't very close in predicting positions based on combine scores, we did find a way to categorize players in a meaningful way using unsupervised machine learning. The clusters are displayed beautifly in the 3D scatter plot above, in an almost \"kabob\" like configuration. We also found that most positions lean toward a certain cluster, although some postions like Corner Back and Wide Reciever lean toward the same clusters which might be part of what makes positon predictions difficult. \n",
    "\n",
    "In the end, the Combine events may show certain aspects of speed, agility, or strength, but they are not all encompassing when it comes to which position a player will take. "
   ]
  }
 ],
 "metadata": {
  "kernelspec": {
   "display_name": "PythonData",
   "language": "python",
   "name": "python3"
  },
  "language_info": {
   "codemirror_mode": {
    "name": "ipython",
    "version": 3
   },
   "file_extension": ".py",
   "mimetype": "text/x-python",
   "name": "python",
   "nbconvert_exporter": "python",
   "pygments_lexer": "ipython3",
   "version": "3.7.10"
  }
 },
 "nbformat": 4,
 "nbformat_minor": 2
}
